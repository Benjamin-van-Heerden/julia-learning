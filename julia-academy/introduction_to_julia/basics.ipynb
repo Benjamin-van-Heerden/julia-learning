{
 "cells": [
  {
   "cell_type": "markdown",
   "metadata": {},
   "source": [
    "# Very basic variables and types"
   ]
  },
  {
   "cell_type": "code",
   "execution_count": 6,
   "metadata": {},
   "outputs": [
    {
     "name": "stdout",
     "output_type": "stream",
     "text": [
      "Hello there\n"
     ]
    }
   ],
   "source": [
    "println(\"Hello there\")"
   ]
  },
  {
   "cell_type": "code",
   "execution_count": 2,
   "metadata": {},
   "outputs": [
    {
     "data": {
      "text/plain": [
       "Int64"
      ]
     },
     "metadata": {},
     "output_type": "display_data"
    }
   ],
   "source": [
    "my_var = 42\n",
    "typeof(my_var)"
   ]
  },
  {
   "cell_type": "code",
   "execution_count": 4,
   "metadata": {},
   "outputs": [
    {
     "data": {
      "text/plain": [
       "Float64"
      ]
     },
     "metadata": {},
     "output_type": "display_data"
    }
   ],
   "source": [
    "my_f = 1.234\n",
    "typeof(my_f)"
   ]
  },
  {
   "cell_type": "code",
   "execution_count": 5,
   "metadata": {},
   "outputs": [
    {
     "data": {
      "text/plain": [
       "String"
      ]
     },
     "metadata": {},
     "output_type": "display_data"
    }
   ],
   "source": [
    "# Julia fully supports unicode so we can do things like this\n",
    "😸 = \"cat\"\n",
    "typeof(😸)"
   ]
  },
  {
   "cell_type": "code",
   "execution_count": 7,
   "metadata": {},
   "outputs": [],
   "source": [
    "# single line comments with #\n",
    "#=\n",
    "Multi line comments with #==#\n",
    "=#"
   ]
  },
  {
   "cell_type": "code",
   "execution_count": 9,
   "metadata": {},
   "outputs": [
    {
     "data": {
      "text/plain": [
       "100"
      ]
     },
     "metadata": {},
     "output_type": "display_data"
    }
   ],
   "source": [
    "# basic math ops also work, notably ^\n",
    "power = 10 ^ 2"
   ]
  },
  {
   "cell_type": "code",
   "execution_count": 11,
   "metadata": {},
   "outputs": [
    {
     "data": {
      "text/plain": [
       "365.0"
      ]
     },
     "metadata": {},
     "output_type": "display_data"
    }
   ],
   "source": [
    "days = 365\n",
    "days_float = convert(Float64, days) "
   ]
  },
  {
   "cell_type": "code",
   "execution_count": 12,
   "metadata": {},
   "outputs": [],
   "source": [
    "@assert days == 365\n",
    "@assert days_float == 365.0"
   ]
  },
  {
   "cell_type": "code",
   "execution_count": 13,
   "metadata": {},
   "outputs": [
    {
     "ename": "MethodError",
     "evalue": "MethodError: Cannot `convert` an object of type String to an object of type Int64\nClosest candidates are:\n  convert(::Type{T}, !Matched::Ptr) where T<:Integer at pointer.jl:23\n  convert(::Type{T}, !Matched::T) where T<:Number at number.jl:6\n  convert(::Type{T}, !Matched::Number) where T<:Number at number.jl:7\n  ...",
     "output_type": "error",
     "traceback": [
      "MethodError: Cannot `convert` an object of type String to an object of type Int64\n",
      "Closest candidates are:\n",
      "  convert(::Type{T}, !Matched::Ptr) where T<:Integer at pointer.jl:23\n",
      "  convert(::Type{T}, !Matched::T) where T<:Number at number.jl:6\n",
      "  convert(::Type{T}, !Matched::Number) where T<:Number at number.jl:7\n",
      "  ...\n",
      "\n",
      "Stacktrace:\n",
      " [1] top-level scope\n",
      "   @ ~/Code/julia-learning/julia-academy/introduction_to_julia/variables_printing_math.ipynb:1"
     ]
    }
   ],
   "source": [
    "convert(Int64, \"1\")"
   ]
  },
  {
   "cell_type": "code",
   "execution_count": 14,
   "metadata": {},
   "outputs": [
    {
     "data": {
      "text/plain": [
       "1"
      ]
     },
     "metadata": {},
     "output_type": "display_data"
    }
   ],
   "source": [
    "parse(Int64, \"1\")"
   ]
  },
  {
   "cell_type": "markdown",
   "metadata": {},
   "source": [
    "# Strings"
   ]
  },
  {
   "cell_type": "code",
   "execution_count": 1,
   "metadata": {},
   "outputs": [
    {
     "data": {
      "text/plain": [
       "\"I am a string\""
      ]
     },
     "metadata": {},
     "output_type": "display_data"
    }
   ],
   "source": [
    "s1 = \"I am a string\""
   ]
  },
  {
   "cell_type": "code",
   "execution_count": 2,
   "metadata": {},
   "outputs": [
    {
     "data": {
      "text/plain": [
       "\"I am also a string\\nI can go over multiple lines\\n\""
      ]
     },
     "metadata": {},
     "output_type": "display_data"
    }
   ],
   "source": [
    "s2 = \"\"\"I am also a string\n",
    "I can go over multiple lines\n",
    "\"\"\""
   ]
  },
  {
   "cell_type": "code",
   "execution_count": 3,
   "metadata": {},
   "outputs": [
    {
     "name": "stdout",
     "output_type": "stream",
     "text": [
      "String\n",
      "String\n"
     ]
    }
   ],
   "source": [
    "println(typeof(s1))\n",
    "println(typeof(s2))"
   ]
  },
  {
   "cell_type": "code",
   "execution_count": 4,
   "metadata": {},
   "outputs": [
    {
     "name": "stdout",
     "output_type": "stream",
     "text": [
      "Char\n"
     ]
    }
   ],
   "source": [
    "# single quotes define a char\n",
    "char = 'a'\n",
    "println(typeof(char))"
   ]
  },
  {
   "cell_type": "code",
   "execution_count": 5,
   "metadata": {},
   "outputs": [
    {
     "ename": "ErrorException",
     "evalue": "syntax: character literal contains multiple characters",
     "output_type": "error",
     "traceback": [
      "syntax: character literal contains multiple characters\n",
      "\n",
      "Stacktrace:\n",
      " [1] top-level scope\n",
      "   @ ~/Code/julia-learning/julia-academy/introduction_to_julia/basics.ipynb:1"
     ]
    }
   ],
   "source": [
    "'This will raise and error'"
   ]
  },
  {
   "cell_type": "code",
   "execution_count": 6,
   "metadata": {},
   "outputs": [
    {
     "name": "stdout",
     "output_type": "stream",
     "text": [
      "a is 1 and b is 2, their sum is 3\n"
     ]
    }
   ],
   "source": [
    "# string interpolation is enabled by default\n",
    "a = 1\n",
    "b = 2\n",
    "println(\"a is $a and b is $b, their sum is $(a + b)\")\n"
   ]
  },
  {
   "cell_type": "code",
   "execution_count": 8,
   "metadata": {},
   "outputs": [
    {
     "data": {
      "text/plain": [
       "\"one two 3\""
      ]
     },
     "metadata": {},
     "output_type": "display_data"
    }
   ],
   "source": [
    "# strings can be concatenated in many ways\n",
    "string(\"one \", \"two \", 3) # this concatenates literals and converts non string values"
   ]
  },
  {
   "cell_type": "code",
   "execution_count": 11,
   "metadata": {},
   "outputs": [
    {
     "data": {
      "text/plain": [
       "\"hi there\""
      ]
     },
     "metadata": {},
     "output_type": "display_data"
    }
   ],
   "source": [
    "# we can also use * interpolation\n",
    "s3 = \"hi \"\n",
    "s4 = \"there\"\n",
    "s3 * s4"
   ]
  },
  {
   "cell_type": "markdown",
   "metadata": {},
   "source": [
    "# Data Structures"
   ]
  },
  {
   "cell_type": "code",
   "execution_count": 13,
   "metadata": {},
   "outputs": [
    {
     "data": {
      "text/plain": [
       "Dict{String, String} with 3 entries:\n",
       "  \"Jenny\"  => \"123\"\n",
       "  \"Satan\"  => \"666\"\n",
       "  \"Kramer\" => \"234\""
      ]
     },
     "metadata": {},
     "output_type": "display_data"
    }
   ],
   "source": [
    "# dictionaries - create with Dict keyword\n",
    "d = Dict(\"Jenny\" => \"123\", \"Satan\" => \"666\") # the keys and values here are totally dynamic\n",
    "# adding elements means just calling\n",
    "d[\"Kramer\"] = \"234\"\n",
    "d"
   ]
  },
  {
   "cell_type": "code",
   "execution_count": 15,
   "metadata": {},
   "outputs": [
    {
     "data": {
      "text/plain": [
       "\"666\""
      ]
     },
     "metadata": {},
     "output_type": "display_data"
    }
   ],
   "source": [
    "# calling follows the same convention as calling\n",
    "d[\"Satan\"]"
   ]
  },
  {
   "cell_type": "code",
   "execution_count": 17,
   "metadata": {},
   "outputs": [
    {
     "ename": "KeyError",
     "evalue": "KeyError: key \"Not there\" not found",
     "output_type": "error",
     "traceback": [
      "KeyError: key \"Not there\" not found\n",
      "\n",
      "Stacktrace:\n",
      " [1] getindex(h::Dict{String, String}, key::String)\n",
      "   @ Base ./dict.jl:498\n",
      " [2] top-level scope\n",
      "   @ ~/Code/julia-learning/julia-academy/introduction_to_julia/basics.ipynb:2"
     ]
    }
   ],
   "source": [
    "# uninitialised elements will throw errors\n",
    "d[\"Not there\"]"
   ]
  },
  {
   "cell_type": "code",
   "execution_count": 21,
   "metadata": {},
   "outputs": [
    {
     "data": {
      "text/plain": [
       "\"777\""
      ]
     },
     "metadata": {},
     "output_type": "display_data"
    }
   ],
   "source": [
    "# use get in stead (collection, key, default)\n",
    "get(d, \"Not here\", \"777\")"
   ]
  },
  {
   "cell_type": "code",
   "execution_count": 19,
   "metadata": {},
   "outputs": [
    {
     "data": {
      "text/plain": [
       "Dict{String, String} with 2 entries:\n",
       "  \"Satan\"  => \"666\"\n",
       "  \"Kramer\" => \"234\""
      ]
     },
     "metadata": {},
     "output_type": "display_data"
    }
   ],
   "source": [
    "# remove key value pairs with the pop! function\n",
    "pop!(d, \"Jenny\")\n",
    "d"
   ]
  },
  {
   "cell_type": "markdown",
   "metadata": {},
   "source": [
    "# Tuples\n",
    "!! NB NB NB Julia is 1 indexed !!"
   ]
  },
  {
   "cell_type": "code",
   "execution_count": 22,
   "metadata": {},
   "outputs": [
    {
     "data": {
      "text/plain": [
       "(\"Bird\", \"Dog\", \"Cat\")"
      ]
     },
     "metadata": {},
     "output_type": "display_data"
    }
   ],
   "source": [
    "# tuples by enclosing in ()\n",
    "animals = (\"Bird\", \"Dog\", \"Cat\")"
   ]
  },
  {
   "cell_type": "code",
   "execution_count": 26,
   "metadata": {},
   "outputs": [
    {
     "ename": "MethodError",
     "evalue": "MethodError: no method matching setindex!(::Tuple{String, String, String}, ::String, ::Int64)",
     "output_type": "error",
     "traceback": [
      "MethodError: no method matching setindex!(::Tuple{String, String, String}, ::String, ::Int64)\n",
      "\n",
      "Stacktrace:\n",
      " [1] top-level scope\n",
      "   @ ~/Code/julia-learning/julia-academy/introduction_to_julia/basics.ipynb:2"
     ]
    }
   ],
   "source": [
    "# tuples are immutable\n",
    "animals[1] = \"Shark\""
   ]
  },
  {
   "cell_type": "code",
   "execution_count": 25,
   "metadata": {},
   "outputs": [
    {
     "data": {
      "text/plain": [
       "\"Bird\""
      ]
     },
     "metadata": {},
     "output_type": "display_data"
    }
   ],
   "source": [
    "animals[1]"
   ]
  },
  {
   "cell_type": "code",
   "execution_count": 27,
   "metadata": {},
   "outputs": [
    {
     "data": {
      "text/plain": [
       "(\"Bird\", \"Dog\", \"Cat\")"
      ]
     },
     "metadata": {},
     "output_type": "display_data"
    }
   ],
   "source": [
    "# they can also be destructed\n",
    "b, d, c = animals"
   ]
  },
  {
   "cell_type": "code",
   "execution_count": 28,
   "metadata": {},
   "outputs": [
    {
     "data": {
      "text/plain": [
       "\"Bird\""
      ]
     },
     "metadata": {},
     "output_type": "display_data"
    }
   ],
   "source": [
    "b"
   ]
  },
  {
   "cell_type": "markdown",
   "metadata": {},
   "source": [
    "# Arrays"
   ]
  },
  {
   "cell_type": "code",
   "execution_count": 29,
   "metadata": {},
   "outputs": [
    {
     "data": {
      "text/plain": [
       "4-element Vector{Any}:\n",
       " 1\n",
       " 2\n",
       " 3\n",
       "  \"hello\""
      ]
     },
     "metadata": {},
     "output_type": "display_data"
    }
   ],
   "source": [
    "# arrays are mutable, ordered and completely dynamic\n",
    "a = [1, 2, 3, \"hello\"]"
   ]
  },
  {
   "cell_type": "code",
   "execution_count": 30,
   "metadata": {},
   "outputs": [
    {
     "data": {
      "text/plain": [
       "3-element Vector{Int64}:\n",
       " 1\n",
       " 2\n",
       " 3"
      ]
     },
     "metadata": {},
     "output_type": "display_data"
    }
   ],
   "source": [
    "a = [1, 2, 3]"
   ]
  },
  {
   "cell_type": "code",
   "execution_count": 32,
   "metadata": {},
   "outputs": [
    {
     "data": {
      "text/plain": [
       "2-element Vector{Any}:\n",
       " ('!', Any[1, 2, \"hello\"])\n",
       " Dict(1 => 2)"
      ]
     },
     "metadata": {},
     "output_type": "display_data"
    }
   ],
   "source": [
    "b = [('!', [1, 2, \"hello\"]), Dict(1 => 2)]"
   ]
  },
  {
   "cell_type": "code",
   "execution_count": 33,
   "metadata": {},
   "outputs": [
    {
     "data": {
      "text/plain": [
       "1"
      ]
     },
     "metadata": {},
     "output_type": "display_data"
    }
   ],
   "source": [
    "b[1] = 1"
   ]
  },
  {
   "cell_type": "code",
   "execution_count": 34,
   "metadata": {},
   "outputs": [
    {
     "data": {
      "text/plain": [
       "2-element Vector{Any}:\n",
       " 1\n",
       "  Dict(1 => 2)"
      ]
     },
     "metadata": {},
     "output_type": "display_data"
    }
   ],
   "source": [
    "b"
   ]
  },
  {
   "cell_type": "code",
   "execution_count": 35,
   "metadata": {},
   "outputs": [
    {
     "data": {
      "text/plain": [
       "3-element Vector{Int64}:\n",
       " 1\n",
       " 2\n",
       " 3"
      ]
     },
     "metadata": {},
     "output_type": "display_data"
    }
   ],
   "source": [
    "a"
   ]
  },
  {
   "cell_type": "code",
   "execution_count": 36,
   "metadata": {},
   "outputs": [
    {
     "data": {
      "text/plain": [
       "4-element Vector{Int64}:\n",
       "  1\n",
       "  2\n",
       "  3\n",
       " 42"
      ]
     },
     "metadata": {},
     "output_type": "display_data"
    }
   ],
   "source": [
    "# add with push and remove with pop\n",
    "push!(a, 42)"
   ]
  },
  {
   "cell_type": "code",
   "execution_count": 37,
   "metadata": {},
   "outputs": [
    {
     "data": {
      "text/plain": [
       "42"
      ]
     },
     "metadata": {},
     "output_type": "display_data"
    }
   ],
   "source": [
    "popped = pop!(a)"
   ]
  },
  {
   "cell_type": "code",
   "execution_count": 38,
   "metadata": {},
   "outputs": [
    {
     "data": {
      "text/plain": [
       "42"
      ]
     },
     "metadata": {},
     "output_type": "display_data"
    }
   ],
   "source": [
    "popped"
   ]
  },
  {
   "cell_type": "code",
   "execution_count": 39,
   "metadata": {},
   "outputs": [
    {
     "data": {
      "text/plain": [
       "2-element Vector{Vector{Int64}}:\n",
       " [1, 2, 3]\n",
       " [4, 5, 6]"
      ]
     },
     "metadata": {},
     "output_type": "display_data"
    }
   ],
   "source": [
    "# multi dimensional arrays also behave as expected\n",
    "m = [[1, 2, 3], [4, 5, 6]]"
   ]
  },
  {
   "cell_type": "code",
   "execution_count": 41,
   "metadata": {},
   "outputs": [
    {
     "data": {
      "text/plain": [
       "3×4 Matrix{Float64}:\n",
       " 0.331512  0.151104  0.166486  0.706234\n",
       " 0.284817  0.322246  0.88764   0.0714917\n",
       " 0.233982  0.225516  0.246527  0.102621"
      ]
     },
     "metadata": {},
     "output_type": "display_data"
    }
   ],
   "source": [
    "rand(3, 4) # note that this is a matrix type"
   ]
  },
  {
   "cell_type": "code",
   "execution_count": 43,
   "metadata": {},
   "outputs": [
    {
     "data": {
      "text/plain": [
       "7-element Vector{Int64}:\n",
       " 1\n",
       " 2\n",
       " 3\n",
       " 1\n",
       " 2\n",
       " 1\n",
       " 2"
      ]
     },
     "metadata": {},
     "output_type": "display_data"
    }
   ],
   "source": [
    "push!(a, 1, 2) # push can also take multiple arguments"
   ]
  },
  {
   "cell_type": "code",
   "execution_count": 45,
   "metadata": {},
   "outputs": [
    {
     "data": {
      "text/plain": [
       "3×4 Matrix{Float64}:\n",
       " 0.297582   0.337536  0.924545   0.314131\n",
       " 0.0461591  0.917946  0.0445143  0.0392121\n",
       " 0.351844   0.272086  0.385156   0.57705"
      ]
     },
     "metadata": {},
     "output_type": "display_data"
    }
   ],
   "source": [
    "m1 = rand(3, 4)"
   ]
  },
  {
   "cell_type": "code",
   "execution_count": 46,
   "metadata": {},
   "outputs": [
    {
     "data": {
      "text/plain": [
       "4×3 Matrix{Float64}:\n",
       " 0.345543  0.811557   0.546003\n",
       " 0.223127  0.844452   0.995264\n",
       " 0.191744  0.37651    0.335676\n",
       " 0.772514  0.0800401  0.280137"
      ]
     },
     "metadata": {},
     "output_type": "display_data"
    }
   ],
   "source": [
    "m2 = rand(4, 3)"
   ]
  },
  {
   "cell_type": "code",
   "execution_count": 48,
   "metadata": {},
   "outputs": [
    {
     "data": {
      "text/plain": [
       "3×3 Matrix{Float64}:\n",
       " 0.598087  0.899782  0.896765\n",
       " 0.259596  0.832521  0.964729\n",
       " 0.701918  0.706508  0.753846"
      ]
     },
     "metadata": {},
     "output_type": "display_data"
    }
   ],
   "source": [
    "# matrix multiplication just works out of the box\n",
    "m1 * m2"
   ]
  },
  {
   "cell_type": "code",
   "execution_count": 49,
   "metadata": {},
   "outputs": [
    {
     "data": {
      "text/plain": [
       "5×5 Matrix{Float64}:\n",
       " 0.0  0.0  0.0  0.0  0.0\n",
       " 0.0  0.0  0.0  0.0  0.0\n",
       " 0.0  0.0  0.0  0.0  0.0\n",
       " 0.0  0.0  0.0  0.0  0.0\n",
       " 0.0  0.0  0.0  0.0  0.0"
      ]
     },
     "metadata": {},
     "output_type": "display_data"
    }
   ],
   "source": [
    "m, n = 5, 5\n",
    "A = zeros(m ,n)"
   ]
  },
  {
   "cell_type": "code",
   "execution_count": 50,
   "metadata": {},
   "outputs": [],
   "source": [
    "for i in 1:m\n",
    "    for j in 1:n\n",
    "        A[i, j] = i + j\n",
    "    end\n",
    "end"
   ]
  },
  {
   "cell_type": "code",
   "execution_count": 51,
   "metadata": {},
   "outputs": [
    {
     "data": {
      "text/plain": [
       "5×5 Matrix{Float64}:\n",
       " 2.0  3.0  4.0  5.0   6.0\n",
       " 3.0  4.0  5.0  6.0   7.0\n",
       " 4.0  5.0  6.0  7.0   8.0\n",
       " 5.0  6.0  7.0  8.0   9.0\n",
       " 6.0  7.0  8.0  9.0  10.0"
      ]
     },
     "metadata": {},
     "output_type": "display_data"
    }
   ],
   "source": [
    "A"
   ]
  },
  {
   "cell_type": "code",
   "execution_count": 52,
   "metadata": {},
   "outputs": [
    {
     "data": {
      "text/plain": [
       "5×5 Matrix{Float64}:\n",
       " 0.0  0.0  0.0  0.0  0.0\n",
       " 0.0  0.0  0.0  0.0  0.0\n",
       " 0.0  0.0  0.0  0.0  0.0\n",
       " 0.0  0.0  0.0  0.0  0.0\n",
       " 0.0  0.0  0.0  0.0  0.0"
      ]
     },
     "metadata": {},
     "output_type": "display_data"
    }
   ],
   "source": [
    "# this can be done more concisely\n",
    "B = zeros(m, n)"
   ]
  },
  {
   "cell_type": "code",
   "execution_count": 53,
   "metadata": {},
   "outputs": [
    {
     "data": {
      "text/plain": [
       "5×5 Matrix{Float64}:\n",
       " 2.0  3.0  4.0  5.0   6.0\n",
       " 3.0  4.0  5.0  6.0   7.0\n",
       " 4.0  5.0  6.0  7.0   8.0\n",
       " 5.0  6.0  7.0  8.0   9.0\n",
       " 6.0  7.0  8.0  9.0  10.0"
      ]
     },
     "metadata": {},
     "output_type": "display_data"
    }
   ],
   "source": [
    "for i in 1:m, j in 1:n\n",
    "    B[i, j] = i + j\n",
    "end\n",
    "B"
   ]
  },
  {
   "cell_type": "code",
   "execution_count": 54,
   "metadata": {},
   "outputs": [
    {
     "data": {
      "text/plain": [
       "5×5 Matrix{Int64}:\n",
       " 2  3  4  5   6\n",
       " 3  4  5  6   7\n",
       " 4  5  6  7   8\n",
       " 5  6  7  8   9\n",
       " 6  7  8  9  10"
      ]
     },
     "metadata": {},
     "output_type": "display_data"
    }
   ],
   "source": [
    "# the more \"julian\" way to do this is via array comprehension\n",
    "C = [i + j for i in 1:n, j in 1:m]"
   ]
  },
  {
   "cell_type": "code",
   "execution_count": 55,
   "metadata": {},
   "outputs": [
    {
     "data": {
      "text/plain": [
       "5×5 Matrix{Int64}:\n",
       " 2  3  4  5   6\n",
       " 3  4  5  6   7\n",
       " 4  5  6  7   8\n",
       " 5  6  7  8   9\n",
       " 6  7  8  9  10"
      ]
     },
     "metadata": {},
     "output_type": "display_data"
    }
   ],
   "source": [
    "display(C) # can be used as an alternative to print"
   ]
  },
  {
   "cell_type": "markdown",
   "metadata": {},
   "source": [
    "# Conditionals"
   ]
  },
  {
   "cell_type": "code",
   "execution_count": 56,
   "metadata": {},
   "outputs": [
    {
     "name": "stdout",
     "output_type": "stream",
     "text": [
      "ss\n"
     ]
    }
   ],
   "source": [
    "b = 5\n",
    "if b == 2\n",
    "    println(\"hi\")\n",
    "elseif b == 6\n",
    "    println(\"there\")\n",
    "else\n",
    "    println(\"ss\")\n",
    "end"
   ]
  },
  {
   "cell_type": "code",
   "execution_count": 60,
   "metadata": {},
   "outputs": [
    {
     "data": {
      "text/plain": [
       "\"hi\""
      ]
     },
     "metadata": {},
     "output_type": "display_data"
    }
   ],
   "source": [
    "# ternary assignment is also a thing\n",
    "x = b == 5 ? \"hi\" : \"there\"\n",
    "x"
   ]
  },
  {
   "cell_type": "code",
   "execution_count": 61,
   "metadata": {},
   "outputs": [
    {
     "name": "stdout",
     "output_type": "stream",
     "text": [
      "this works\n"
     ]
    }
   ],
   "source": [
    "# short circuit eval also\n",
    "(1 < 2) && println(\"this works\")"
   ]
  },
  {
   "cell_type": "code",
   "execution_count": 62,
   "metadata": {},
   "outputs": [
    {
     "data": {
      "text/plain": [
       "false"
      ]
     },
     "metadata": {},
     "output_type": "display_data"
    }
   ],
   "source": [
    "(1 > 2) && println(\"this works\")"
   ]
  },
  {
   "cell_type": "markdown",
   "metadata": {},
   "source": [
    "# Functions"
   ]
  },
  {
   "cell_type": "code",
   "execution_count": 63,
   "metadata": {},
   "outputs": [
    {
     "name": "stdout",
     "output_type": "stream",
     "text": [
      "Hi there Benjamin\n"
     ]
    }
   ],
   "source": [
    "# normal way to declare a function\n",
    "function hello(name)\n",
    "    println(\"Hi there $name\")\n",
    "end\n",
    "hello(\"Benjamin\")"
   ]
  },
  {
   "cell_type": "code",
   "execution_count": 64,
   "metadata": {},
   "outputs": [
    {
     "data": {
      "text/plain": [
       "9"
      ]
     },
     "metadata": {},
     "output_type": "display_data"
    }
   ],
   "source": [
    "# return statements are implicit\n",
    "function f(x)\n",
    "    x ^ 2\n",
    "end\n",
    "x = f(3)\n",
    "x"
   ]
  },
  {
   "cell_type": "code",
   "execution_count": 66,
   "metadata": {},
   "outputs": [
    {
     "name": "stdout",
     "output_type": "stream",
     "text": [
      "Hello Melania\n"
     ]
    },
    {
     "data": {
      "text/plain": [
       "9"
      ]
     },
     "metadata": {},
     "output_type": "display_data"
    }
   ],
   "source": [
    "# these can be madie into one liners\n",
    "hello_one(name) = println(\"Hello $name\")\n",
    "f_one(x) = x ^ 2\n",
    "hello_one(\"Melania\")\n",
    "f_one(3)"
   ]
  },
  {
   "cell_type": "code",
   "execution_count": 67,
   "metadata": {},
   "outputs": [
    {
     "data": {
      "text/plain": [
       "64"
      ]
     },
     "metadata": {},
     "output_type": "display_data"
    }
   ],
   "source": [
    "# anonymous functions are also a thing\n",
    "g = x -> x ^ 3\n",
    "g(4)"
   ]
  },
  {
   "cell_type": "code",
   "execution_count": 68,
   "metadata": {},
   "outputs": [
    {
     "data": {
      "text/plain": [
       "#11 (generic function with 1 method)"
      ]
     },
     "metadata": {},
     "output_type": "display_data"
    }
   ],
   "source": [
    "g"
   ]
  },
  {
   "cell_type": "code",
   "execution_count": 72,
   "metadata": {},
   "outputs": [
    {
     "data": {
      "text/plain": [
       "3×3 Matrix{Float64}:\n",
       " 1.92116  2.04366  0.943344\n",
       " 2.11453  2.30141  1.09502\n",
       " 1.21145  1.29185  0.648337"
      ]
     },
     "metadata": {},
     "output_type": "display_data"
    },
    {
     "ename": "MethodError",
     "evalue": "MethodError: no method matching ^(::Vector{Int64}, ::Int64)\nClosest candidates are:\n  ^(!Matched::Union{AbstractChar, AbstractString}, ::Integer) at strings/basic.jl:730\n  ^(!Matched::LinearAlgebra.Diagonal, ::Integer) at ~/Development/julia-1.8.0/share/julia/stdlib/v1.8/LinearAlgebra/src/diagonal.jl:208\n  ^(!Matched::LinearAlgebra.Diagonal, ::Real) at ~/Development/julia-1.8.0/share/julia/stdlib/v1.8/LinearAlgebra/src/diagonal.jl:207\n  ...",
     "output_type": "error",
     "traceback": [
      "MethodError: no method matching ^(::Vector{Int64}, ::Int64)\n",
      "Closest candidates are:\n",
      "  ^(!Matched::Union{AbstractChar, AbstractString}, ::Integer) at strings/basic.jl:730\n",
      "  ^(!Matched::LinearAlgebra.Diagonal, ::Integer) at ~/Development/julia-1.8.0/share/julia/stdlib/v1.8/LinearAlgebra/src/diagonal.jl:208\n",
      "  ^(!Matched::LinearAlgebra.Diagonal, ::Real) at ~/Development/julia-1.8.0/share/julia/stdlib/v1.8/LinearAlgebra/src/diagonal.jl:207\n",
      "  ...\n",
      "\n",
      "Stacktrace:\n",
      " [1] literal_pow\n",
      "   @ ./intfuncs.jl:340 [inlined]\n",
      " [2] (::var\"#11#12\")(x::Vector{Int64})\n",
      "   @ Main ~/Code/julia-learning/julia-academy/introduction_to_julia/basics.ipynb:2\n",
      " [3] top-level scope\n",
      "   @ ~/Code/julia-learning/julia-academy/introduction_to_julia/basics.ipynb:8"
     ]
    }
   ],
   "source": [
    "# julia uses duck typing\n",
    "# this means that julia functions will work with anything you pass to it so long as the operation the\n",
    "# function performs is sensible\n",
    "# e.g.\n",
    "A = rand(3, 3)\n",
    "display(g(A)) # this works since the cube of a matrix is well defined\n",
    "l = [1, 2, 3] # this is a vector, the cube of a vector is not well defined, hence\n",
    "g(l) # throws an error"
   ]
  },
  {
   "cell_type": "code",
   "execution_count": 73,
   "metadata": {},
   "outputs": [
    {
     "data": {
      "text/plain": [
       "3-element Vector{Vector{Int64}}:\n",
       " [1, 2, 3]\n",
       " [4, 5, 6]\n",
       " [7, 8, 9]"
      ]
     },
     "metadata": {},
     "output_type": "display_data"
    }
   ],
   "source": [
    "l1 = [[1, 2, 3], [4, 5, 6], [7, 8, 9]] # this is not a matrix"
   ]
  },
  {
   "cell_type": "code",
   "execution_count": 75,
   "metadata": {},
   "outputs": [
    {
     "ename": "MethodError",
     "evalue": "MethodError: no method matching ^(::Vector{Vector{Int64}}, ::Int64)\nClosest candidates are:\n  ^(!Matched::Union{AbstractChar, AbstractString}, ::Integer) at strings/basic.jl:730\n  ^(!Matched::LinearAlgebra.Diagonal, ::Integer) at ~/Development/julia-1.8.0/share/julia/stdlib/v1.8/LinearAlgebra/src/diagonal.jl:208\n  ^(!Matched::LinearAlgebra.Diagonal, ::Real) at ~/Development/julia-1.8.0/share/julia/stdlib/v1.8/LinearAlgebra/src/diagonal.jl:207\n  ...",
     "output_type": "error",
     "traceback": [
      "MethodError: no method matching ^(::Vector{Vector{Int64}}, ::Int64)\n",
      "Closest candidates are:\n",
      "  ^(!Matched::Union{AbstractChar, AbstractString}, ::Integer) at strings/basic.jl:730\n",
      "  ^(!Matched::LinearAlgebra.Diagonal, ::Integer) at ~/Development/julia-1.8.0/share/julia/stdlib/v1.8/LinearAlgebra/src/diagonal.jl:208\n",
      "  ^(!Matched::LinearAlgebra.Diagonal, ::Real) at ~/Development/julia-1.8.0/share/julia/stdlib/v1.8/LinearAlgebra/src/diagonal.jl:207\n",
      "  ...\n",
      "\n",
      "Stacktrace:\n",
      " [1] literal_pow\n",
      "   @ ./intfuncs.jl:340 [inlined]\n",
      " [2] (::var\"#11#12\")(x::Vector{Vector{Int64}})\n",
      "   @ Main ~/Code/julia-learning/julia-academy/introduction_to_julia/basics.ipynb:2\n",
      " [3] top-level scope\n",
      "   @ ~/Code/julia-learning/julia-academy/introduction_to_julia/basics.ipynb:1"
     ]
    }
   ],
   "source": [
    "g(l1) # again it does not work"
   ]
  },
  {
   "cell_type": "code",
   "execution_count": 76,
   "metadata": {},
   "outputs": [
    {
     "data": {
      "text/plain": [
       "5-element Vector{Int64}:\n",
       " 1\n",
       " 2\n",
       " 3\n",
       " 5\n",
       " 8"
      ]
     },
     "metadata": {},
     "output_type": "display_data"
    }
   ],
   "source": [
    "# mutating vs non-mutating functions\n",
    "# the convention is that mutating functions are followed by !\n",
    "# e.g.\n",
    "v = [3, 5, 8, 2, 1]\n",
    "sort(v)"
   ]
  },
  {
   "cell_type": "code",
   "execution_count": 78,
   "metadata": {},
   "outputs": [
    {
     "data": {
      "text/plain": [
       "5-element Vector{Int64}:\n",
       " 3\n",
       " 5\n",
       " 8\n",
       " 2\n",
       " 1"
      ]
     },
     "metadata": {},
     "output_type": "display_data"
    }
   ],
   "source": [
    "v # v has not been mutated"
   ]
  },
  {
   "cell_type": "code",
   "execution_count": 79,
   "metadata": {},
   "outputs": [
    {
     "data": {
      "text/plain": [
       "5-element Vector{Int64}:\n",
       " 1\n",
       " 2\n",
       " 3\n",
       " 5\n",
       " 8"
      ]
     },
     "metadata": {},
     "output_type": "display_data"
    }
   ],
   "source": [
    "# however\n",
    "sort!(v)\n",
    "v"
   ]
  },
  {
   "cell_type": "code",
   "execution_count": 81,
   "metadata": {},
   "outputs": [
    {
     "data": {
      "text/plain": [
       "3-element Vector{Int64}:\n",
       "  1\n",
       "  8\n",
       " 27"
      ]
     },
     "metadata": {},
     "output_type": "display_data"
    }
   ],
   "source": [
    "# broadcasting\n",
    "# placing a . between any function name and its argument list\n",
    "g.(l) \n",
    "# remember that g(x) = x ^ 3, which wouldn't normally work on a vector\n",
    "# with broadcasting we can say, cube each individual element "
   ]
  },
  {
   "cell_type": "code",
   "execution_count": 82,
   "metadata": {},
   "outputs": [
    {
     "data": {
      "text/plain": [
       "3×3 Matrix{Int64}:\n",
       " 1  2  3\n",
       " 4  5  6\n",
       " 7  8  9"
      ]
     },
     "metadata": {},
     "output_type": "display_data"
    }
   ],
   "source": [
    "A = [i + 3 * j for j in 0:2, i in 1:3]"
   ]
  },
  {
   "cell_type": "code",
   "execution_count": 83,
   "metadata": {},
   "outputs": [
    {
     "data": {
      "text/plain": [
       "3×3 Matrix{Int64}:\n",
       "  30   36   42\n",
       "  66   81   96\n",
       " 102  126  150"
      ]
     },
     "metadata": {},
     "output_type": "display_data"
    }
   ],
   "source": [
    "f(A)"
   ]
  },
  {
   "cell_type": "code",
   "execution_count": 84,
   "metadata": {},
   "outputs": [
    {
     "data": {
      "text/plain": [
       "3×3 Matrix{Int64}:\n",
       "  1   4   9\n",
       " 16  25  36\n",
       " 49  64  81"
      ]
     },
     "metadata": {},
     "output_type": "display_data"
    }
   ],
   "source": [
    "f.(A) # make careful note of the difference here, this is a very powerful concept"
   ]
  },
  {
   "cell_type": "code",
   "execution_count": 85,
   "metadata": {},
   "outputs": [
    {
     "ename": "MethodError",
     "evalue": "MethodError: no method matching split(::Vector{String})\nClosest candidates are:\n  split(!Matched::AbstractString; limit, keepempty) at strings/util.jl:600\n  split(!Matched::T, !Matched::Any; limit, keepempty) where T<:AbstractString at strings/util.jl:592",
     "output_type": "error",
     "traceback": [
      "MethodError: no method matching split(::Vector{String})\n",
      "Closest candidates are:\n",
      "  split(!Matched::AbstractString; limit, keepempty) at strings/util.jl:600\n",
      "  split(!Matched::T, !Matched::Any; limit, keepempty) where T<:AbstractString at strings/util.jl:592\n",
      "\n",
      "Stacktrace:\n",
      " [1] (::var\"#15#16\")(x::Vector{String})\n",
      "   @ Main ~/Code/julia-learning/julia-academy/introduction_to_julia/basics.ipynb:1\n",
      " [2] top-level scope\n",
      "   @ ~/Code/julia-learning/julia-academy/introduction_to_julia/basics.ipynb:3"
     ]
    }
   ],
   "source": [
    "split_word = x -> split(x)\n",
    "sentences = [\"this is\", \"this is also\", \"more words and spaces\"]\n",
    "split_word(sentences) # won't work"
   ]
  },
  {
   "cell_type": "code",
   "execution_count": 87,
   "metadata": {},
   "outputs": [
    {
     "data": {
      "text/plain": [
       "3-element Vector{Vector{SubString{String}}}:\n",
       " [\"this\", \"is\"]\n",
       " [\"this\", \"is\", \"also\"]\n",
       " [\"more\", \"words\", \"and\", \"spaces\"]"
      ]
     },
     "metadata": {},
     "output_type": "display_data"
    }
   ],
   "source": [
    "split_word.(sentences) # magic, who needs the map operation"
   ]
  },
  {
   "cell_type": "code",
   "execution_count": 88,
   "metadata": {},
   "outputs": [
    {
     "data": {
      "text/plain": [
       "3-element Vector{Vector{SubString{String}}}:\n",
       " [\"this\", \"is\"]\n",
       " [\"this\", \"is\", \"also\"]\n",
       " [\"more\", \"words\", \"and\", \"spaces\"]"
      ]
     },
     "metadata": {},
     "output_type": "display_data"
    }
   ],
   "source": [
    "map(x -> split(x), sentences)"
   ]
  },
  {
   "cell_type": "code",
   "execution_count": 90,
   "metadata": {},
   "outputs": [
    {
     "data": {
      "text/plain": [
       "4-element Vector{Int64}:\n",
       " 2\n",
       " 4\n",
       " 6\n",
       " 8"
      ]
     },
     "metadata": {},
     "output_type": "display_data"
    }
   ],
   "source": [
    "l = [1, 2, 3, 4, 5, 6, 7, 8]\n",
    "filter(x -> x % 2 == 0, l)"
   ]
  },
  {
   "cell_type": "code",
   "execution_count": null,
   "metadata": {},
   "outputs": [],
   "source": []
  }
 ],
 "metadata": {
  "kernelspec": {
   "display_name": "Julia 1.8.0",
   "language": "julia",
   "name": "julia-1.8"
  },
  "language_info": {
   "file_extension": ".jl",
   "mimetype": "application/julia",
   "name": "julia",
   "version": "1.8.0"
  },
  "orig_nbformat": 4
 },
 "nbformat": 4,
 "nbformat_minor": 2
}
