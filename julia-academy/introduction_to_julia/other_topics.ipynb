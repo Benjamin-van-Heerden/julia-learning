{
 "cells": [
  {
   "cell_type": "markdown",
   "metadata": {},
   "source": [
    "# Multiple Dispatch"
   ]
  },
  {
   "cell_type": "code",
   "execution_count": 1,
   "metadata": {},
   "outputs": [
    {
     "data": {
      "text/html": [
       "# 206 methods for generic function <b>+</b>:<ul><li> +(x::<b>T</b>, y::<b>T</b>)<i> where T<:Union{Int128, Int16, Int32, Int64, Int8, UInt128, UInt16, UInt32, UInt64, UInt8}</i> in Base at <a href=\"https://github.com/JuliaLang/julia/tree/5544a0fab7648cfa61fe79cd557a7504a92ec1b5/base/int.jl#L87\" target=\"_blank\">int.jl:87</a></li> <li> +(x::<b>T</b>, y::<b>T</b>)<i> where T<:Union{Float16, Float32, Float64}</i> in Base at <a href=\"https://github.com/JuliaLang/julia/tree/5544a0fab7648cfa61fe79cd557a7504a92ec1b5/base/float.jl#L383\" target=\"_blank\">float.jl:383</a></li> <li> +(c::<b>Union{UInt16, UInt32, UInt64, UInt8}</b>, x::<b>BigInt</b>) in Base.GMP at <a href=\"https://github.com/JuliaLang/julia/tree/5544a0fab7648cfa61fe79cd557a7504a92ec1b5/base/gmp.jl#L531\" target=\"_blank\">gmp.jl:531</a></li> <li> +(c::<b>Union{Int16, Int32, Int64, Int8}</b>, x::<b>BigInt</b>) in Base.GMP at <a href=\"https://github.com/JuliaLang/julia/tree/5544a0fab7648cfa61fe79cd557a7504a92ec1b5/base/gmp.jl#L537\" target=\"_blank\">gmp.jl:537</a></li> <li> +(c::<b>Union{UInt16, UInt32, UInt64, UInt8}</b>, x::<b>BigFloat</b>) in Base.MPFR at <a href=\"https://github.com/JuliaLang/julia/tree/5544a0fab7648cfa61fe79cd557a7504a92ec1b5/base/mpfr.jl#L398\" target=\"_blank\">mpfr.jl:398</a></li> <li> +(c::<b>Union{Int16, Int32, Int64, Int8}</b>, x::<b>BigFloat</b>) in Base.MPFR at <a href=\"https://github.com/JuliaLang/julia/tree/5544a0fab7648cfa61fe79cd557a7504a92ec1b5/base/mpfr.jl#L406\" target=\"_blank\">mpfr.jl:406</a></li> <li> +(c::<b>Union{Float16, Float32, Float64}</b>, x::<b>BigFloat</b>) in Base.MPFR at <a href=\"https://github.com/JuliaLang/julia/tree/5544a0fab7648cfa61fe79cd557a7504a92ec1b5/base/mpfr.jl#L414\" target=\"_blank\">mpfr.jl:414</a></li> <li> +(x::<b>Union{Dates.CompoundPeriod, Dates.Period}</b>) in Dates at <a href=\"file:///cache/build/default-amdci4-3/julialang/julia-release-1-dot-8/usr/share/julia/stdlib/v1.8/Dates/src/periods.jl\" target=\"_blank\">/home/benjamin-pop/Development/julia-1.8.0/share/julia/stdlib/v1.8/Dates/src/periods.jl:378</a></li> <li> +(x::<b>P</b>, y::<b>P</b>)<i> where P<:Dates.Period</i> in Dates at <a href=\"file:///cache/build/default-amdci4-3/julialang/julia-release-1-dot-8/usr/share/julia/stdlib/v1.8/Dates/src/periods.jl\" target=\"_blank\">/home/benjamin-pop/Development/julia-1.8.0/share/julia/stdlib/v1.8/Dates/src/periods.jl:77</a></li> <li> +(x::<b>Dates.Period</b>, y::<b>Dates.Period</b>) in Dates at <a href=\"file:///cache/build/default-amdci4-3/julialang/julia-release-1-dot-8/usr/share/julia/stdlib/v1.8/Dates/src/periods.jl\" target=\"_blank\">/home/benjamin-pop/Development/julia-1.8.0/share/julia/stdlib/v1.8/Dates/src/periods.jl:367</a></li> <li> +(y::<b>Dates.Period</b>, x::<b>Dates.CompoundPeriod</b>) in Dates at <a href=\"file:///cache/build/default-amdci4-3/julialang/julia-release-1-dot-8/usr/share/julia/stdlib/v1.8/Dates/src/periods.jl\" target=\"_blank\">/home/benjamin-pop/Development/julia-1.8.0/share/julia/stdlib/v1.8/Dates/src/periods.jl:369</a></li> <li> +(y::<b>Dates.Period</b>, x::<b>Dates.TimeType</b>) in Dates at <a href=\"file:///cache/build/default-amdci4-3/julialang/julia-release-1-dot-8/usr/share/julia/stdlib/v1.8/Dates/src/arithmetic.jl\" target=\"_blank\">/home/benjamin-pop/Development/julia-1.8.0/share/julia/stdlib/v1.8/Dates/src/arithmetic.jl:85</a></li> <li> +(x::<b>Dates.Period</b>, r::<b>AbstractRange{<:Dates.TimeType}</b>) in Dates at <a href=\"file:///cache/build/default-amdci4-3/julialang/julia-release-1-dot-8/usr/share/julia/stdlib/v1.8/Dates/src/ranges.jl\" target=\"_blank\">/home/benjamin-pop/Development/julia-1.8.0/share/julia/stdlib/v1.8/Dates/src/ranges.jl:63</a></li> <li> +(y::<b>Union{Dates.CompoundPeriod, Dates.Period}</b>, x::<b>AbstractArray{<:Dates.TimeType}</b>) in Dates at <a href=\"file:///cache/build/default-amdci4-3/julialang/julia-release-1-dot-8/usr/share/julia/stdlib/v1.8/Dates/src/deprecated.jl\" target=\"_blank\">/home/benjamin-pop/Development/julia-1.8.0/share/julia/stdlib/v1.8/Dates/src/deprecated.jl:14</a></li> <li> +(A::<b>LinearAlgebra.SymTridiagonal</b>, B::<b>LinearAlgebra.SymTridiagonal</b>) in LinearAlgebra at <a href=\"file:///cache/build/default-amdci4-3/julialang/julia-release-1-dot-8/usr/share/julia/stdlib/v1.8/LinearAlgebra/src/tridiag.jl\" target=\"_blank\">/home/benjamin-pop/Development/julia-1.8.0/share/julia/stdlib/v1.8/LinearAlgebra/src/tridiag.jl:207</a></li> <li> +(A::<b>LinearAlgebra.SymTridiagonal</b>, B::<b>LinearAlgebra.Symmetric</b>) in LinearAlgebra at <a href=\"file:///cache/build/default-amdci4-3/julialang/julia-release-1-dot-8/usr/share/julia/stdlib/v1.8/LinearAlgebra/src/symmetric.jl\" target=\"_blank\">/home/benjamin-pop/Development/julia-1.8.0/share/julia/stdlib/v1.8/LinearAlgebra/src/symmetric.jl:485</a></li> <li> +(A::<b>LinearAlgebra.SymTridiagonal{var\"#s882\", V} where {var\"#s882\"<:Real, V<:AbstractVector{var\"#s882\"}}</b>, B::<b>LinearAlgebra.Hermitian</b>) in LinearAlgebra at <a href=\"file:///cache/build/default-amdci4-3/julialang/julia-release-1-dot-8/usr/share/julia/stdlib/v1.8/LinearAlgebra/src/symmetric.jl\" target=\"_blank\">/home/benjamin-pop/Development/julia-1.8.0/share/julia/stdlib/v1.8/LinearAlgebra/src/symmetric.jl:487</a></li> <li> +(x::<b>LinearAlgebra.SymTridiagonal</b>, H::<b>LinearAlgebra.UpperHessenberg</b>) in LinearAlgebra at <a href=\"file:///cache/build/default-amdci4-3/julialang/julia-release-1-dot-8/usr/share/julia/stdlib/v1.8/LinearAlgebra/src/hessenberg.jl\" target=\"_blank\">/home/benjamin-pop/Development/julia-1.8.0/share/julia/stdlib/v1.8/LinearAlgebra/src/hessenberg.jl:109</a></li> <li> +(A::<b>LinearAlgebra.SymTridiagonal</b>, B::<b>LinearAlgebra.Diagonal</b>) in LinearAlgebra at <a href=\"file:///cache/build/default-amdci4-3/julialang/julia-release-1-dot-8/usr/share/julia/stdlib/v1.8/LinearAlgebra/src/special.jl\" target=\"_blank\">/home/benjamin-pop/Development/julia-1.8.0/share/julia/stdlib/v1.8/LinearAlgebra/src/special.jl:157</a></li> <li> +(A::<b>LinearAlgebra.SymTridiagonal</b>, B::<b>LinearAlgebra.Tridiagonal</b>) in LinearAlgebra at <a href=\"file:///cache/build/default-amdci4-3/julialang/julia-release-1-dot-8/usr/share/julia/stdlib/v1.8/LinearAlgebra/src/special.jl\" target=\"_blank\">/home/benjamin-pop/Development/julia-1.8.0/share/julia/stdlib/v1.8/LinearAlgebra/src/special.jl:171</a></li> <li> +(A::<b>LinearAlgebra.SymTridiagonal</b>, B::<b>LinearAlgebra.Bidiagonal</b>) in LinearAlgebra at <a href=\"file:///cache/build/default-amdci4-3/julialang/julia-release-1-dot-8/usr/share/julia/stdlib/v1.8/LinearAlgebra/src/special.jl\" target=\"_blank\">/home/benjamin-pop/Development/julia-1.8.0/share/julia/stdlib/v1.8/LinearAlgebra/src/special.jl:225</a></li> <li> +(A::<b>LinearAlgebra.SymTridiagonal{var\"#s884\", V} where {var\"#s884\"<:Number, V<:AbstractVector{var\"#s884\"}}</b>, B::<b>LinearAlgebra.UniformScaling</b>) in LinearAlgebra at <a href=\"file:///cache/build/default-amdci4-3/julialang/julia-release-1-dot-8/usr/share/julia/stdlib/v1.8/LinearAlgebra/src/special.jl\" target=\"_blank\">/home/benjamin-pop/Development/julia-1.8.0/share/julia/stdlib/v1.8/LinearAlgebra/src/special.jl:243</a></li> <li> +(A::<b>BitArray</b>, B::<b>BitArray</b>) in Base at <a href=\"https://github.com/JuliaLang/julia/tree/5544a0fab7648cfa61fe79cd557a7504a92ec1b5/base/bitarray.jl#L1184\" target=\"_blank\">bitarray.jl:1184</a></li> <li> +(Da::<b>LinearAlgebra.Diagonal</b>, Db::<b>LinearAlgebra.Diagonal</b>) in LinearAlgebra at <a href=\"file:///cache/build/default-amdci4-3/julialang/julia-release-1-dot-8/usr/share/julia/stdlib/v1.8/LinearAlgebra/src/diagonal.jl\" target=\"_blank\">/home/benjamin-pop/Development/julia-1.8.0/share/julia/stdlib/v1.8/LinearAlgebra/src/diagonal.jl:184</a></li> <li> +(D::<b>LinearAlgebra.Diagonal</b>, S::<b>LinearAlgebra.Symmetric</b>) in LinearAlgebra at <a href=\"file:///cache/build/default-amdci4-3/julialang/julia-release-1-dot-8/usr/share/julia/stdlib/v1.8/LinearAlgebra/src/diagonal.jl\" target=\"_blank\">/home/benjamin-pop/Development/julia-1.8.0/share/julia/stdlib/v1.8/LinearAlgebra/src/diagonal.jl:188</a></li> <li> +(D::<b>LinearAlgebra.Diagonal{var\"#s884\", V} where {var\"#s884\"<:Real, V<:AbstractVector{var\"#s884\"}}</b>, H::<b>LinearAlgebra.Hermitian</b>) in LinearAlgebra at <a href=\"file:///cache/build/default-amdci4-3/julialang/julia-release-1-dot-8/usr/share/julia/stdlib/v1.8/LinearAlgebra/src/diagonal.jl\" target=\"_blank\">/home/benjamin-pop/Development/julia-1.8.0/share/julia/stdlib/v1.8/LinearAlgebra/src/diagonal.jl:194</a></li> <li> +(x::<b>LinearAlgebra.Diagonal</b>, H::<b>LinearAlgebra.UpperHessenberg</b>) in LinearAlgebra at <a href=\"file:///cache/build/default-amdci4-3/julialang/julia-release-1-dot-8/usr/share/julia/stdlib/v1.8/LinearAlgebra/src/hessenberg.jl\" target=\"_blank\">/home/benjamin-pop/Development/julia-1.8.0/share/julia/stdlib/v1.8/LinearAlgebra/src/hessenberg.jl:109</a></li> <li> +(A::<b>LinearAlgebra.Diagonal</b>, B::<b>LinearAlgebra.Bidiagonal</b>) in LinearAlgebra at <a href=\"file:///cache/build/default-amdci4-3/julialang/julia-release-1-dot-8/usr/share/julia/stdlib/v1.8/LinearAlgebra/src/special.jl\" target=\"_blank\">/home/benjamin-pop/Development/julia-1.8.0/share/julia/stdlib/v1.8/LinearAlgebra/src/special.jl:137</a></li> <li> +(A::<b>LinearAlgebra.Diagonal</b>, B::<b>LinearAlgebra.SymTridiagonal</b>) in LinearAlgebra at <a href=\"file:///cache/build/default-amdci4-3/julialang/julia-release-1-dot-8/usr/share/julia/stdlib/v1.8/LinearAlgebra/src/special.jl\" target=\"_blank\">/home/benjamin-pop/Development/julia-1.8.0/share/julia/stdlib/v1.8/LinearAlgebra/src/special.jl:147</a></li> <li> +(A::<b>LinearAlgebra.Diagonal</b>, B::<b>LinearAlgebra.Tridiagonal</b>) in LinearAlgebra at <a href=\"file:///cache/build/default-amdci4-3/julialang/julia-release-1-dot-8/usr/share/julia/stdlib/v1.8/LinearAlgebra/src/special.jl\" target=\"_blank\">/home/benjamin-pop/Development/julia-1.8.0/share/julia/stdlib/v1.8/LinearAlgebra/src/special.jl:175</a></li> <li> +(A::<b>LinearAlgebra.Diagonal{var\"#s884\", V} where {var\"#s884\"<:Number, V<:AbstractVector{var\"#s884\"}}</b>, B::<b>LinearAlgebra.UniformScaling</b>) in LinearAlgebra at <a href=\"file:///cache/build/default-amdci4-3/julialang/julia-release-1-dot-8/usr/share/julia/stdlib/v1.8/LinearAlgebra/src/special.jl\" target=\"_blank\">/home/benjamin-pop/Development/julia-1.8.0/share/julia/stdlib/v1.8/LinearAlgebra/src/special.jl:253</a></li> <li> +(x::<b>Dates.Instant</b>) in Dates at <a href=\"file:///cache/build/default-amdci4-3/julialang/julia-release-1-dot-8/usr/share/julia/stdlib/v1.8/Dates/src/arithmetic.jl\" target=\"_blank\">/home/benjamin-pop/Development/julia-1.8.0/share/julia/stdlib/v1.8/Dates/src/arithmetic.jl:4</a></li> <li> +(y::<b>Dates.TimeType</b>, x::<b>StridedArray{<:Union{Dates.CompoundPeriod, Dates.Period}}</b>) in Dates at <a href=\"file:///cache/build/default-amdci4-3/julialang/julia-release-1-dot-8/usr/share/julia/stdlib/v1.8/Dates/src/deprecated.jl\" target=\"_blank\">/home/benjamin-pop/Development/julia-1.8.0/share/julia/stdlib/v1.8/Dates/src/deprecated.jl:18</a></li> <li> +(A::<b>LinearAlgebra.Hermitian</b>, B::<b>LinearAlgebra.Hermitian</b>) in LinearAlgebra at <a href=\"file:///cache/build/default-amdci4-3/julialang/julia-release-1-dot-8/usr/share/julia/stdlib/v1.8/LinearAlgebra/src/symmetric.jl\" target=\"_blank\">/home/benjamin-pop/Development/julia-1.8.0/share/julia/stdlib/v1.8/LinearAlgebra/src/symmetric.jl:469</a></li> <li> +(A::<b>LinearAlgebra.Hermitian</b>, B::<b>LinearAlgebra.SymTridiagonal{var\"#s881\", V} where {var\"#s881\"<:Real, V<:AbstractVector{var\"#s881\"}}</b>) in LinearAlgebra at <a href=\"file:///cache/build/default-amdci4-3/julialang/julia-release-1-dot-8/usr/share/julia/stdlib/v1.8/LinearAlgebra/src/symmetric.jl\" target=\"_blank\">/home/benjamin-pop/Development/julia-1.8.0/share/julia/stdlib/v1.8/LinearAlgebra/src/symmetric.jl:488</a></li> <li> +(H::<b>LinearAlgebra.Hermitian</b>, D::<b>LinearAlgebra.Diagonal{var\"#s884\", V} where {var\"#s884\"<:Real, V<:AbstractVector{var\"#s884\"}}</b>) in LinearAlgebra at <a href=\"file:///cache/build/default-amdci4-3/julialang/julia-release-1-dot-8/usr/share/julia/stdlib/v1.8/LinearAlgebra/src/diagonal.jl\" target=\"_blank\">/home/benjamin-pop/Development/julia-1.8.0/share/julia/stdlib/v1.8/LinearAlgebra/src/diagonal.jl:197</a></li> <li> +(A::<b>LinearAlgebra.Hermitian</b>, J::<b>LinearAlgebra.UniformScaling{<:Complex}</b>) in LinearAlgebra at <a href=\"file:///cache/build/default-amdci4-3/julialang/julia-release-1-dot-8/usr/share/julia/stdlib/v1.8/LinearAlgebra/src/uniformscaling.jl\" target=\"_blank\">/home/benjamin-pop/Development/julia-1.8.0/share/julia/stdlib/v1.8/LinearAlgebra/src/uniformscaling.jl:195</a></li> <li> +(A::<b>LinearAlgebra.Hermitian{<:Any, <:SparseArrays.AbstractSparseMatrix}</b>, B::<b>SparseArrays.AbstractSparseMatrix</b>) in SparseArrays at <a href=\"file:///cache/build/default-amdci4-3/julialang/julia-release-1-dot-8/usr/share/julia/stdlib/v1.8/SparseArrays/src/linalg.jl\" target=\"_blank\">/home/benjamin-pop/Development/julia-1.8.0/share/julia/stdlib/v1.8/SparseArrays/src/linalg.jl:15</a></li> <li> +(A::<b>LinearAlgebra.Hermitian</b>, B::<b>SparseArrays.AbstractSparseMatrix</b>) in SparseArrays at <a href=\"file:///cache/build/default-amdci4-3/julialang/julia-release-1-dot-8/usr/share/julia/stdlib/v1.8/SparseArrays/src/linalg.jl\" target=\"_blank\">/home/benjamin-pop/Development/julia-1.8.0/share/julia/stdlib/v1.8/SparseArrays/src/linalg.jl:18</a></li> <li> +(A::<b>LinearAlgebra.Hermitian{<:Any, <:SparseArrays.AbstractSparseMatrix}</b>, B::<b>LinearAlgebra.Symmetric{<:Real, <:SparseArrays.AbstractSparseMatrix}</b>) in SparseArrays at <a href=\"file:///cache/build/default-amdci4-3/julialang/julia-release-1-dot-8/usr/share/julia/stdlib/v1.8/SparseArrays/src/linalg.jl\" target=\"_blank\">/home/benjamin-pop/Development/julia-1.8.0/share/julia/stdlib/v1.8/SparseArrays/src/linalg.jl:26</a></li> <li> +(A::<b>LinearAlgebra.Hermitian</b>, B::<b>LinearAlgebra.Symmetric{var\"#s884\", S} where {var\"#s884\"<:Real, S<:(AbstractMatrix{<:var\"#s884\"})}</b>) in LinearAlgebra at <a href=\"file:///cache/build/default-amdci4-3/julialang/julia-release-1-dot-8/usr/share/julia/stdlib/v1.8/LinearAlgebra/src/symmetric.jl\" target=\"_blank\">/home/benjamin-pop/Development/julia-1.8.0/share/julia/stdlib/v1.8/LinearAlgebra/src/symmetric.jl:483</a></li> <li> +(A::<b>LinearAlgebra.Hermitian{<:Any, <:SparseArrays.AbstractSparseMatrix}</b>, B::<b>LinearAlgebra.Symmetric{<:Any, <:SparseArrays.AbstractSparseMatrix}</b>) in SparseArrays at <a href=\"file:///cache/build/default-amdci4-3/julialang/julia-release-1-dot-8/usr/share/julia/stdlib/v1.8/SparseArrays/src/linalg.jl\" target=\"_blank\">/home/benjamin-pop/Development/julia-1.8.0/share/julia/stdlib/v1.8/SparseArrays/src/linalg.jl:24</a></li> <li> +(A::<b>SparseArrays.AbstractSparseMatrixCSC</b>, B::<b>SparseArrays.AbstractSparseMatrixCSC</b>) in SparseArrays at <a href=\"file:///cache/build/default-amdci4-3/julialang/julia-release-1-dot-8/usr/share/julia/stdlib/v1.8/SparseArrays/src/sparsematrix.jl\" target=\"_blank\">/home/benjamin-pop/Development/julia-1.8.0/share/julia/stdlib/v1.8/SparseArrays/src/sparsematrix.jl:1829</a></li> <li> +(A::<b>SparseArrays.AbstractSparseMatrixCSC</b>, B::<b>Array</b>) in SparseArrays at <a href=\"file:///cache/build/default-amdci4-3/julialang/julia-release-1-dot-8/usr/share/julia/stdlib/v1.8/SparseArrays/src/sparsematrix.jl\" target=\"_blank\">/home/benjamin-pop/Development/julia-1.8.0/share/julia/stdlib/v1.8/SparseArrays/src/sparsematrix.jl:1832</a></li> <li> +(A::<b>SparseArrays.AbstractSparseMatrixCSC</b>, J::<b>LinearAlgebra.UniformScaling</b>) in SparseArrays at <a href=\"file:///cache/build/default-amdci4-3/julialang/julia-release-1-dot-8/usr/share/julia/stdlib/v1.8/SparseArrays/src/sparsematrix.jl\" target=\"_blank\">/home/benjamin-pop/Development/julia-1.8.0/share/julia/stdlib/v1.8/SparseArrays/src/sparsematrix.jl:3821</a></li> <li> +(x::<b>T</b>, y::<b>Integer</b>)<i> where T<:AbstractChar</i> in Base at <a href=\"https://github.com/JuliaLang/julia/tree/5544a0fab7648cfa61fe79cd557a7504a92ec1b5/base/char.jl#L237\" target=\"_blank\">char.jl:237</a></li> <li> +(index1::<b>CartesianIndex{N}</b>, index2::<b>CartesianIndex{N}</b>)<i> where N</i> in Base.IteratorsMD at <a href=\"https://github.com/JuliaLang/julia/tree/5544a0fab7648cfa61fe79cd557a7504a92ec1b5/base/multidimensional.jl#L114\" target=\"_blank\">multidimensional.jl:114</a></li> <li> +(r::<b>AbstractRange{<:Dates.TimeType}</b>, x::<b>Dates.Period</b>) in Dates at <a href=\"file:///cache/build/default-amdci4-3/julialang/julia-release-1-dot-8/usr/share/julia/stdlib/v1.8/Dates/src/ranges.jl\" target=\"_blank\">/home/benjamin-pop/Development/julia-1.8.0/share/julia/stdlib/v1.8/Dates/src/ranges.jl:64</a></li> <li> +(x::<b>AbstractArray{<:Dates.TimeType}</b>, y::<b>Union{Dates.CompoundPeriod, Dates.Period}</b>) in Dates at <a href=\"file:///cache/build/default-amdci4-3/julialang/julia-release-1-dot-8/usr/share/julia/stdlib/v1.8/Dates/src/deprecated.jl\" target=\"_blank\">/home/benjamin-pop/Development/julia-1.8.0/share/julia/stdlib/v1.8/Dates/src/deprecated.jl:6</a></li> <li> +(z::<b>Complex</b>, w::<b>Complex</b>) in Base at <a href=\"https://github.com/JuliaLang/julia/tree/5544a0fab7648cfa61fe79cd557a7504a92ec1b5/base/complex.jl#L288\" target=\"_blank\">complex.jl:288</a></li> <li> +(A::<b>LinearAlgebra.LowerTriangular</b>, B::<b>LinearAlgebra.LowerTriangular</b>) in LinearAlgebra at <a href=\"file:///cache/build/default-amdci4-3/julialang/julia-release-1-dot-8/usr/share/julia/stdlib/v1.8/LinearAlgebra/src/triangular.jl\" target=\"_blank\">/home/benjamin-pop/Development/julia-1.8.0/share/julia/stdlib/v1.8/LinearAlgebra/src/triangular.jl:639</a></li> <li> +(A::<b>LinearAlgebra.LowerTriangular</b>, B::<b>LinearAlgebra.UnitLowerTriangular</b>) in LinearAlgebra at <a href=\"file:///cache/build/default-amdci4-3/julialang/julia-release-1-dot-8/usr/share/julia/stdlib/v1.8/LinearAlgebra/src/triangular.jl\" target=\"_blank\">/home/benjamin-pop/Development/julia-1.8.0/share/julia/stdlib/v1.8/LinearAlgebra/src/triangular.jl:641</a></li> <li> +(A::<b>LinearAlgebra.LowerTriangular</b>, B::<b>LinearAlgebra.Bidiagonal</b>) in LinearAlgebra at <a href=\"file:///cache/build/default-amdci4-3/julialang/julia-release-1-dot-8/usr/share/julia/stdlib/v1.8/LinearAlgebra/src/special.jl\" target=\"_blank\">/home/benjamin-pop/Development/julia-1.8.0/share/julia/stdlib/v1.8/LinearAlgebra/src/special.jl:98</a></li> <li> +(x::<b>SparseArrays.AbstractSparseVector</b>, y::<b>SparseArrays.AbstractSparseVector</b>) in SparseArrays at <a href=\"file:///cache/build/default-amdci4-3/julialang/julia-release-1-dot-8/usr/share/julia/stdlib/v1.8/SparseArrays/src/sparsevector.jl\" target=\"_blank\">/home/benjamin-pop/Development/julia-1.8.0/share/julia/stdlib/v1.8/SparseArrays/src/sparsevector.jl:1384</a></li> <li> +(A::<b>SparseArrays.AbstractSparseMatrix</b>, B::<b>LinearAlgebra.Hermitian{<:Any, <:SparseArrays.AbstractSparseMatrix}</b>) in SparseArrays at <a href=\"file:///cache/build/default-amdci4-3/julialang/julia-release-1-dot-8/usr/share/julia/stdlib/v1.8/SparseArrays/src/linalg.jl\" target=\"_blank\">/home/benjamin-pop/Development/julia-1.8.0/share/julia/stdlib/v1.8/SparseArrays/src/linalg.jl:14</a></li> <li> +(A::<b>SparseArrays.AbstractSparseMatrix</b>, B::<b>LinearAlgebra.Hermitian</b>) in SparseArrays at <a href=\"file:///cache/build/default-amdci4-3/julialang/julia-release-1-dot-8/usr/share/julia/stdlib/v1.8/SparseArrays/src/linalg.jl\" target=\"_blank\">/home/benjamin-pop/Development/julia-1.8.0/share/julia/stdlib/v1.8/SparseArrays/src/linalg.jl:17</a></li> <li> +(A::<b>SparseArrays.AbstractSparseMatrix</b>, B::<b>LinearAlgebra.Symmetric{<:Any, <:SparseArrays.AbstractSparseMatrix}</b>) in SparseArrays at <a href=\"file:///cache/build/default-amdci4-3/julialang/julia-release-1-dot-8/usr/share/julia/stdlib/v1.8/SparseArrays/src/linalg.jl\" target=\"_blank\">/home/benjamin-pop/Development/julia-1.8.0/share/julia/stdlib/v1.8/SparseArrays/src/linalg.jl:14</a></li> <li> +(A::<b>SparseArrays.AbstractSparseMatrix</b>, B::<b>LinearAlgebra.Symmetric</b>) in SparseArrays at <a href=\"file:///cache/build/default-amdci4-3/julialang/julia-release-1-dot-8/usr/share/julia/stdlib/v1.8/SparseArrays/src/linalg.jl\" target=\"_blank\">/home/benjamin-pop/Development/julia-1.8.0/share/julia/stdlib/v1.8/SparseArrays/src/linalg.jl:17</a></li> <li> +(A::<b>LinearAlgebra.UnitUpperTriangular</b>, B::<b>LinearAlgebra.UpperTriangular</b>) in LinearAlgebra at <a href=\"file:///cache/build/default-amdci4-3/julialang/julia-release-1-dot-8/usr/share/julia/stdlib/v1.8/LinearAlgebra/src/triangular.jl\" target=\"_blank\">/home/benjamin-pop/Development/julia-1.8.0/share/julia/stdlib/v1.8/LinearAlgebra/src/triangular.jl:642</a></li> <li> +(A::<b>LinearAlgebra.UnitUpperTriangular</b>, B::<b>LinearAlgebra.UnitUpperTriangular</b>) in LinearAlgebra at <a href=\"file:///cache/build/default-amdci4-3/julialang/julia-release-1-dot-8/usr/share/julia/stdlib/v1.8/LinearAlgebra/src/triangular.jl\" target=\"_blank\">/home/benjamin-pop/Development/julia-1.8.0/share/julia/stdlib/v1.8/LinearAlgebra/src/triangular.jl:644</a></li> <li> +(UL::<b>LinearAlgebra.UnitUpperTriangular</b>, J::<b>LinearAlgebra.UniformScaling</b>) in LinearAlgebra at <a href=\"file:///cache/build/default-amdci4-3/julialang/julia-release-1-dot-8/usr/share/julia/stdlib/v1.8/LinearAlgebra/src/uniformscaling.jl\" target=\"_blank\">/home/benjamin-pop/Development/julia-1.8.0/share/julia/stdlib/v1.8/LinearAlgebra/src/uniformscaling.jl:181</a></li> <li> +(x::<b>LinearAlgebra.UnitUpperTriangular</b>, H::<b>LinearAlgebra.UpperHessenberg</b>) in LinearAlgebra at <a href=\"file:///cache/build/default-amdci4-3/julialang/julia-release-1-dot-8/usr/share/julia/stdlib/v1.8/LinearAlgebra/src/hessenberg.jl\" target=\"_blank\">/home/benjamin-pop/Development/julia-1.8.0/share/julia/stdlib/v1.8/LinearAlgebra/src/hessenberg.jl:109</a></li> <li> +(A::<b>LinearAlgebra.UnitUpperTriangular</b>, B::<b>LinearAlgebra.Bidiagonal</b>) in LinearAlgebra at <a href=\"file:///cache/build/default-amdci4-3/julialang/julia-release-1-dot-8/usr/share/julia/stdlib/v1.8/LinearAlgebra/src/special.jl\" target=\"_blank\">/home/benjamin-pop/Development/julia-1.8.0/share/julia/stdlib/v1.8/LinearAlgebra/src/special.jl:98</a></li> <li> +(A::<b>LinearAlgebra.Symmetric</b>, B::<b>LinearAlgebra.Symmetric</b>) in LinearAlgebra at <a href=\"file:///cache/build/default-amdci4-3/julialang/julia-release-1-dot-8/usr/share/julia/stdlib/v1.8/LinearAlgebra/src/symmetric.jl\" target=\"_blank\">/home/benjamin-pop/Development/julia-1.8.0/share/julia/stdlib/v1.8/LinearAlgebra/src/symmetric.jl:469</a></li> <li> +(A::<b>LinearAlgebra.Symmetric</b>, B::<b>LinearAlgebra.SymTridiagonal</b>) in LinearAlgebra at <a href=\"file:///cache/build/default-amdci4-3/julialang/julia-release-1-dot-8/usr/share/julia/stdlib/v1.8/LinearAlgebra/src/symmetric.jl\" target=\"_blank\">/home/benjamin-pop/Development/julia-1.8.0/share/julia/stdlib/v1.8/LinearAlgebra/src/symmetric.jl:486</a></li> <li> +(S::<b>LinearAlgebra.Symmetric</b>, D::<b>LinearAlgebra.Diagonal</b>) in LinearAlgebra at <a href=\"file:///cache/build/default-amdci4-3/julialang/julia-release-1-dot-8/usr/share/julia/stdlib/v1.8/LinearAlgebra/src/diagonal.jl\" target=\"_blank\">/home/benjamin-pop/Development/julia-1.8.0/share/julia/stdlib/v1.8/LinearAlgebra/src/diagonal.jl:191</a></li> <li> +(A::<b>LinearAlgebra.Symmetric{<:Any, <:SparseArrays.AbstractSparseMatrix}</b>, B::<b>SparseArrays.AbstractSparseMatrix</b>) in SparseArrays at <a href=\"file:///cache/build/default-amdci4-3/julialang/julia-release-1-dot-8/usr/share/julia/stdlib/v1.8/SparseArrays/src/linalg.jl\" target=\"_blank\">/home/benjamin-pop/Development/julia-1.8.0/share/julia/stdlib/v1.8/SparseArrays/src/linalg.jl:15</a></li> <li> +(A::<b>LinearAlgebra.Symmetric</b>, B::<b>SparseArrays.AbstractSparseMatrix</b>) in SparseArrays at <a href=\"file:///cache/build/default-amdci4-3/julialang/julia-release-1-dot-8/usr/share/julia/stdlib/v1.8/SparseArrays/src/linalg.jl\" target=\"_blank\">/home/benjamin-pop/Development/julia-1.8.0/share/julia/stdlib/v1.8/SparseArrays/src/linalg.jl:18</a></li> <li> +(A::<b>LinearAlgebra.Symmetric{<:Real, <:SparseArrays.AbstractSparseMatrix}</b>, B::<b>LinearAlgebra.Hermitian{<:Any, <:SparseArrays.AbstractSparseMatrix}</b>) in SparseArrays at <a href=\"file:///cache/build/default-amdci4-3/julialang/julia-release-1-dot-8/usr/share/julia/stdlib/v1.8/SparseArrays/src/linalg.jl\" target=\"_blank\">/home/benjamin-pop/Development/julia-1.8.0/share/julia/stdlib/v1.8/SparseArrays/src/linalg.jl:25</a></li> <li> +(A::<b>LinearAlgebra.Symmetric{var\"#s883\", S} where {var\"#s883\"<:Real, S<:(AbstractMatrix{<:var\"#s883\"})}</b>, B::<b>LinearAlgebra.Hermitian</b>) in LinearAlgebra at <a href=\"file:///cache/build/default-amdci4-3/julialang/julia-release-1-dot-8/usr/share/julia/stdlib/v1.8/LinearAlgebra/src/symmetric.jl\" target=\"_blank\">/home/benjamin-pop/Development/julia-1.8.0/share/julia/stdlib/v1.8/LinearAlgebra/src/symmetric.jl:484</a></li> <li> +(A::<b>LinearAlgebra.Symmetric{<:Any, <:SparseArrays.AbstractSparseMatrix}</b>, B::<b>LinearAlgebra.Hermitian{<:Any, <:SparseArrays.AbstractSparseMatrix}</b>) in SparseArrays at <a href=\"file:///cache/build/default-amdci4-3/julialang/julia-release-1-dot-8/usr/share/julia/stdlib/v1.8/SparseArrays/src/linalg.jl\" target=\"_blank\">/home/benjamin-pop/Development/julia-1.8.0/share/julia/stdlib/v1.8/SparseArrays/src/linalg.jl:23</a></li> <li> +(r1::<b>LinRange{T}</b>, r2::<b>LinRange{T}</b>)<i> where T</i> in Base at <a href=\"https://github.com/JuliaLang/julia/tree/5544a0fab7648cfa61fe79cd557a7504a92ec1b5/base/range.jl#L1431\" target=\"_blank\">range.jl:1431</a></li> <li> +(F::<b>LinearAlgebra.Hessenberg</b>, J::<b>LinearAlgebra.UniformScaling</b>) in LinearAlgebra at <a href=\"file:///cache/build/default-amdci4-3/julialang/julia-release-1-dot-8/usr/share/julia/stdlib/v1.8/LinearAlgebra/src/hessenberg.jl\" target=\"_blank\">/home/benjamin-pop/Development/julia-1.8.0/share/julia/stdlib/v1.8/LinearAlgebra/src/hessenberg.jl:641</a></li> <li> +(A::<b>LinearAlgebra.UpperHessenberg</b>, B::<b>LinearAlgebra.UpperHessenberg</b>) in LinearAlgebra at <a href=\"file:///cache/build/default-amdci4-3/julialang/julia-release-1-dot-8/usr/share/julia/stdlib/v1.8/LinearAlgebra/src/hessenberg.jl\" target=\"_blank\">/home/benjamin-pop/Development/julia-1.8.0/share/julia/stdlib/v1.8/LinearAlgebra/src/hessenberg.jl:101</a></li> <li> +(H::<b>LinearAlgebra.UpperHessenberg</b>, x::<b>LinearAlgebra.UniformScaling</b>) in LinearAlgebra at <a href=\"file:///cache/build/default-amdci4-3/julialang/julia-release-1-dot-8/usr/share/julia/stdlib/v1.8/LinearAlgebra/src/hessenberg.jl\" target=\"_blank\">/home/benjamin-pop/Development/julia-1.8.0/share/julia/stdlib/v1.8/LinearAlgebra/src/hessenberg.jl:108</a></li> <li> +(H::<b>LinearAlgebra.UpperHessenberg</b>, x::<b>LinearAlgebra.Diagonal</b>) in LinearAlgebra at <a href=\"file:///cache/build/default-amdci4-3/julialang/julia-release-1-dot-8/usr/share/julia/stdlib/v1.8/LinearAlgebra/src/hessenberg.jl\" target=\"_blank\">/home/benjamin-pop/Development/julia-1.8.0/share/julia/stdlib/v1.8/LinearAlgebra/src/hessenberg.jl:108</a></li> <li> +(H::<b>LinearAlgebra.UpperHessenberg</b>, x::<b>LinearAlgebra.Bidiagonal</b>) in LinearAlgebra at <a href=\"file:///cache/build/default-amdci4-3/julialang/julia-release-1-dot-8/usr/share/julia/stdlib/v1.8/LinearAlgebra/src/hessenberg.jl\" target=\"_blank\">/home/benjamin-pop/Development/julia-1.8.0/share/julia/stdlib/v1.8/LinearAlgebra/src/hessenberg.jl:108</a></li> <li> +(H::<b>LinearAlgebra.UpperHessenberg</b>, x::<b>LinearAlgebra.Tridiagonal</b>) in LinearAlgebra at <a href=\"file:///cache/build/default-amdci4-3/julialang/julia-release-1-dot-8/usr/share/julia/stdlib/v1.8/LinearAlgebra/src/hessenberg.jl\" target=\"_blank\">/home/benjamin-pop/Development/julia-1.8.0/share/julia/stdlib/v1.8/LinearAlgebra/src/hessenberg.jl:108</a></li> <li> +(H::<b>LinearAlgebra.UpperHessenberg</b>, x::<b>LinearAlgebra.SymTridiagonal</b>) in LinearAlgebra at <a href=\"file:///cache/build/default-amdci4-3/julialang/julia-release-1-dot-8/usr/share/julia/stdlib/v1.8/LinearAlgebra/src/hessenberg.jl\" target=\"_blank\">/home/benjamin-pop/Development/julia-1.8.0/share/julia/stdlib/v1.8/LinearAlgebra/src/hessenberg.jl:108</a></li> <li> +(H::<b>LinearAlgebra.UpperHessenberg</b>, x::<b>LinearAlgebra.UpperTriangular</b>) in LinearAlgebra at <a href=\"file:///cache/build/default-amdci4-3/julialang/julia-release-1-dot-8/usr/share/julia/stdlib/v1.8/LinearAlgebra/src/hessenberg.jl\" target=\"_blank\">/home/benjamin-pop/Development/julia-1.8.0/share/julia/stdlib/v1.8/LinearAlgebra/src/hessenberg.jl:108</a></li> <li> +(H::<b>LinearAlgebra.UpperHessenberg</b>, x::<b>LinearAlgebra.UnitUpperTriangular</b>) in LinearAlgebra at <a href=\"file:///cache/build/default-amdci4-3/julialang/julia-release-1-dot-8/usr/share/julia/stdlib/v1.8/LinearAlgebra/src/hessenberg.jl\" target=\"_blank\">/home/benjamin-pop/Development/julia-1.8.0/share/julia/stdlib/v1.8/LinearAlgebra/src/hessenberg.jl:108</a></li> <li> +(A::<b>LinearAlgebra.UnitLowerTriangular</b>, B::<b>LinearAlgebra.LowerTriangular</b>) in LinearAlgebra at <a href=\"file:///cache/build/default-amdci4-3/julialang/julia-release-1-dot-8/usr/share/julia/stdlib/v1.8/LinearAlgebra/src/triangular.jl\" target=\"_blank\">/home/benjamin-pop/Development/julia-1.8.0/share/julia/stdlib/v1.8/LinearAlgebra/src/triangular.jl:643</a></li> <li> +(A::<b>LinearAlgebra.UnitLowerTriangular</b>, B::<b>LinearAlgebra.UnitLowerTriangular</b>) in LinearAlgebra at <a href=\"file:///cache/build/default-amdci4-3/julialang/julia-release-1-dot-8/usr/share/julia/stdlib/v1.8/LinearAlgebra/src/triangular.jl\" target=\"_blank\">/home/benjamin-pop/Development/julia-1.8.0/share/julia/stdlib/v1.8/LinearAlgebra/src/triangular.jl:645</a></li> <li> +(UL::<b>LinearAlgebra.UnitLowerTriangular</b>, J::<b>LinearAlgebra.UniformScaling</b>) in LinearAlgebra at <a href=\"file:///cache/build/default-amdci4-3/julialang/julia-release-1-dot-8/usr/share/julia/stdlib/v1.8/LinearAlgebra/src/uniformscaling.jl\" target=\"_blank\">/home/benjamin-pop/Development/julia-1.8.0/share/julia/stdlib/v1.8/LinearAlgebra/src/uniformscaling.jl:181</a></li> <li> +(A::<b>LinearAlgebra.UnitLowerTriangular</b>, B::<b>LinearAlgebra.Bidiagonal</b>) in LinearAlgebra at <a href=\"file:///cache/build/default-amdci4-3/julialang/julia-release-1-dot-8/usr/share/julia/stdlib/v1.8/LinearAlgebra/src/special.jl\" target=\"_blank\">/home/benjamin-pop/Development/julia-1.8.0/share/julia/stdlib/v1.8/LinearAlgebra/src/special.jl:98</a></li> <li> +(x::<b>Base.TwicePrecision</b>, y::<b>Number</b>) in Base at <a href=\"https://github.com/JuliaLang/julia/tree/5544a0fab7648cfa61fe79cd557a7504a92ec1b5/base/twiceprecision.jl#L290\" target=\"_blank\">twiceprecision.jl:290</a></li> <li> +(x::<b>Base.TwicePrecision{T}</b>, y::<b>Base.TwicePrecision{T}</b>)<i> where T</i> in Base at <a href=\"https://github.com/JuliaLang/julia/tree/5544a0fab7648cfa61fe79cd557a7504a92ec1b5/base/twiceprecision.jl#L296\" target=\"_blank\">twiceprecision.jl:296</a></li> <li> +(x::<b>Base.TwicePrecision</b>, y::<b>Base.TwicePrecision</b>) in Base at <a href=\"https://github.com/JuliaLang/julia/tree/5544a0fab7648cfa61fe79cd557a7504a92ec1b5/base/twiceprecision.jl#L301\" target=\"_blank\">twiceprecision.jl:301</a></li> <li> +(J::<b>LinearAlgebra.UniformScaling</b>) in LinearAlgebra at <a href=\"file:///cache/build/default-amdci4-3/julialang/julia-release-1-dot-8/usr/share/julia/stdlib/v1.8/LinearAlgebra/src/uniformscaling.jl\" target=\"_blank\">/home/benjamin-pop/Development/julia-1.8.0/share/julia/stdlib/v1.8/LinearAlgebra/src/uniformscaling.jl:149</a></li> <li> +(J::<b>LinearAlgebra.UniformScaling</b>, x::<b>Number</b>) in LinearAlgebra at <a href=\"file:///cache/build/default-amdci4-3/julialang/julia-release-1-dot-8/usr/share/julia/stdlib/v1.8/LinearAlgebra/src/uniformscaling.jl\" target=\"_blank\">/home/benjamin-pop/Development/julia-1.8.0/share/julia/stdlib/v1.8/LinearAlgebra/src/uniformscaling.jl:144</a></li> <li> +(J1::<b>LinearAlgebra.UniformScaling</b>, J2::<b>LinearAlgebra.UniformScaling</b>) in LinearAlgebra at <a href=\"file:///cache/build/default-amdci4-3/julialang/julia-release-1-dot-8/usr/share/julia/stdlib/v1.8/LinearAlgebra/src/uniformscaling.jl\" target=\"_blank\">/home/benjamin-pop/Development/julia-1.8.0/share/julia/stdlib/v1.8/LinearAlgebra/src/uniformscaling.jl:150</a></li> <li> +(J::<b>LinearAlgebra.UniformScaling</b>, B::<b>BitMatrix</b>) in LinearAlgebra at <a href=\"file:///cache/build/default-amdci4-3/julialang/julia-release-1-dot-8/usr/share/julia/stdlib/v1.8/LinearAlgebra/src/uniformscaling.jl\" target=\"_blank\">/home/benjamin-pop/Development/julia-1.8.0/share/julia/stdlib/v1.8/LinearAlgebra/src/uniformscaling.jl:152</a></li> <li> +(x::<b>LinearAlgebra.UniformScaling</b>, H::<b>LinearAlgebra.UpperHessenberg</b>) in LinearAlgebra at <a href=\"file:///cache/build/default-amdci4-3/julialang/julia-release-1-dot-8/usr/share/julia/stdlib/v1.8/LinearAlgebra/src/hessenberg.jl\" target=\"_blank\">/home/benjamin-pop/Development/julia-1.8.0/share/julia/stdlib/v1.8/LinearAlgebra/src/hessenberg.jl:109</a></li> <li> +(J::<b>LinearAlgebra.UniformScaling</b>, F::<b>LinearAlgebra.Hessenberg</b>) in LinearAlgebra at <a href=\"file:///cache/build/default-amdci4-3/julialang/julia-release-1-dot-8/usr/share/julia/stdlib/v1.8/LinearAlgebra/src/hessenberg.jl\" target=\"_blank\">/home/benjamin-pop/Development/julia-1.8.0/share/julia/stdlib/v1.8/LinearAlgebra/src/hessenberg.jl:642</a></li> <li> +(A::<b>LinearAlgebra.UniformScaling</b>, B::<b>LinearAlgebra.Tridiagonal{var\"#s884\", V} where {var\"#s884\"<:Number, V<:AbstractVector{var\"#s884\"}}</b>) in LinearAlgebra at <a href=\"file:///cache/build/default-amdci4-3/julialang/julia-release-1-dot-8/usr/share/julia/stdlib/v1.8/LinearAlgebra/src/special.jl\" target=\"_blank\">/home/benjamin-pop/Development/julia-1.8.0/share/julia/stdlib/v1.8/LinearAlgebra/src/special.jl:257</a></li> <li> +(A::<b>LinearAlgebra.UniformScaling</b>, B::<b>LinearAlgebra.SymTridiagonal{var\"#s884\", V} where {var\"#s884\"<:Number, V<:AbstractVector{var\"#s884\"}}</b>) in LinearAlgebra at <a href=\"file:///cache/build/default-amdci4-3/julialang/julia-release-1-dot-8/usr/share/julia/stdlib/v1.8/LinearAlgebra/src/special.jl\" target=\"_blank\">/home/benjamin-pop/Development/julia-1.8.0/share/julia/stdlib/v1.8/LinearAlgebra/src/special.jl:262</a></li> <li> +(A::<b>LinearAlgebra.UniformScaling</b>, B::<b>LinearAlgebra.Bidiagonal{var\"#s884\", V} where {var\"#s884\"<:Number, V<:AbstractVector{var\"#s884\"}}</b>) in LinearAlgebra at <a href=\"file:///cache/build/default-amdci4-3/julialang/julia-release-1-dot-8/usr/share/julia/stdlib/v1.8/LinearAlgebra/src/special.jl\" target=\"_blank\">/home/benjamin-pop/Development/julia-1.8.0/share/julia/stdlib/v1.8/LinearAlgebra/src/special.jl:267</a></li> <li> +(A::<b>LinearAlgebra.UniformScaling</b>, B::<b>LinearAlgebra.Diagonal{var\"#s884\", V} where {var\"#s884\"<:Number, V<:AbstractVector{var\"#s884\"}}</b>) in LinearAlgebra at <a href=\"file:///cache/build/default-amdci4-3/julialang/julia-release-1-dot-8/usr/share/julia/stdlib/v1.8/LinearAlgebra/src/special.jl\" target=\"_blank\">/home/benjamin-pop/Development/julia-1.8.0/share/julia/stdlib/v1.8/LinearAlgebra/src/special.jl:272</a></li> <li> +(J::<b>LinearAlgebra.UniformScaling</b>, A::<b>AbstractMatrix</b>) in LinearAlgebra at <a href=\"file:///cache/build/default-amdci4-3/julialang/julia-release-1-dot-8/usr/share/julia/stdlib/v1.8/LinearAlgebra/src/uniformscaling.jl\" target=\"_blank\">/home/benjamin-pop/Development/julia-1.8.0/share/julia/stdlib/v1.8/LinearAlgebra/src/uniformscaling.jl:153</a></li> <li> +(x::<b>Ptr</b>, y::<b>Integer</b>) in Base at <a href=\"https://github.com/JuliaLang/julia/tree/5544a0fab7648cfa61fe79cd557a7504a92ec1b5/base/pointer.jl#L159\" target=\"_blank\">pointer.jl:159</a></li> <li> +(A::<b>LinearAlgebra.UpperTriangular</b>, B::<b>LinearAlgebra.UpperTriangular</b>) in LinearAlgebra at <a href=\"file:///cache/build/default-amdci4-3/julialang/julia-release-1-dot-8/usr/share/julia/stdlib/v1.8/LinearAlgebra/src/triangular.jl\" target=\"_blank\">/home/benjamin-pop/Development/julia-1.8.0/share/julia/stdlib/v1.8/LinearAlgebra/src/triangular.jl:638</a></li> <li> +(A::<b>LinearAlgebra.UpperTriangular</b>, B::<b>LinearAlgebra.UnitUpperTriangular</b>) in LinearAlgebra at <a href=\"file:///cache/build/default-amdci4-3/julialang/julia-release-1-dot-8/usr/share/julia/stdlib/v1.8/LinearAlgebra/src/triangular.jl\" target=\"_blank\">/home/benjamin-pop/Development/julia-1.8.0/share/julia/stdlib/v1.8/LinearAlgebra/src/triangular.jl:640</a></li> <li> +(A::<b>LinearAlgebra.AbstractTriangular</b>, B::<b>LinearAlgebra.AbstractTriangular</b>) in LinearAlgebra at <a href=\"file:///cache/build/default-amdci4-3/julialang/julia-release-1-dot-8/usr/share/julia/stdlib/v1.8/LinearAlgebra/src/triangular.jl\" target=\"_blank\">/home/benjamin-pop/Development/julia-1.8.0/share/julia/stdlib/v1.8/LinearAlgebra/src/triangular.jl:646</a></li> <li> +(x::<b>LinearAlgebra.UpperTriangular</b>, H::<b>LinearAlgebra.UpperHessenberg</b>) in LinearAlgebra at <a href=\"file:///cache/build/default-amdci4-3/julialang/julia-release-1-dot-8/usr/share/julia/stdlib/v1.8/LinearAlgebra/src/hessenberg.jl\" target=\"_blank\">/home/benjamin-pop/Development/julia-1.8.0/share/julia/stdlib/v1.8/LinearAlgebra/src/hessenberg.jl:109</a></li> <li> +(A::<b>LinearAlgebra.UpperTriangular</b>, B::<b>LinearAlgebra.Bidiagonal</b>) in LinearAlgebra at <a href=\"file:///cache/build/default-amdci4-3/julialang/julia-release-1-dot-8/usr/share/julia/stdlib/v1.8/LinearAlgebra/src/special.jl\" target=\"_blank\">/home/benjamin-pop/Development/julia-1.8.0/share/julia/stdlib/v1.8/LinearAlgebra/src/special.jl:98</a></li> <li> +(x::<b>AbstractIrrational</b>, y::<b>AbstractIrrational</b>) in Base at <a href=\"https://github.com/JuliaLang/julia/tree/5544a0fab7648cfa61fe79cd557a7504a92ec1b5/base/irrationals.jl#L158\" target=\"_blank\">irrationals.jl:158</a></li> <li> +(y::<b>AbstractFloat</b>, x::<b>Bool</b>) in Base at <a href=\"https://github.com/JuliaLang/julia/tree/5544a0fab7648cfa61fe79cd557a7504a92ec1b5/base/bool.jl#L172\" target=\"_blank\">bool.jl:172</a></li> <li> +(A::<b>LinearAlgebra.Bidiagonal</b>, B::<b>LinearAlgebra.Bidiagonal</b>) in LinearAlgebra at <a href=\"file:///cache/build/default-amdci4-3/julialang/julia-release-1-dot-8/usr/share/julia/stdlib/v1.8/LinearAlgebra/src/bidiag.jl\" target=\"_blank\">/home/benjamin-pop/Development/julia-1.8.0/share/julia/stdlib/v1.8/LinearAlgebra/src/bidiag.jl:365</a></li> <li> +(x::<b>LinearAlgebra.Bidiagonal</b>, H::<b>LinearAlgebra.UpperHessenberg</b>) in LinearAlgebra at <a href=\"file:///cache/build/default-amdci4-3/julialang/julia-release-1-dot-8/usr/share/julia/stdlib/v1.8/LinearAlgebra/src/hessenberg.jl\" target=\"_blank\">/home/benjamin-pop/Development/julia-1.8.0/share/julia/stdlib/v1.8/LinearAlgebra/src/hessenberg.jl:109</a></li> <li> +(A::<b>LinearAlgebra.Bidiagonal</b>, B::<b>LinearAlgebra.UpperTriangular</b>) in LinearAlgebra at <a href=\"file:///cache/build/default-amdci4-3/julialang/julia-release-1-dot-8/usr/share/julia/stdlib/v1.8/LinearAlgebra/src/special.jl\" target=\"_blank\">/home/benjamin-pop/Development/julia-1.8.0/share/julia/stdlib/v1.8/LinearAlgebra/src/special.jl:106</a></li> <li> +(A::<b>LinearAlgebra.Bidiagonal</b>, B::<b>LinearAlgebra.UnitUpperTriangular</b>) in LinearAlgebra at <a href=\"file:///cache/build/default-amdci4-3/julialang/julia-release-1-dot-8/usr/share/julia/stdlib/v1.8/LinearAlgebra/src/special.jl\" target=\"_blank\">/home/benjamin-pop/Development/julia-1.8.0/share/julia/stdlib/v1.8/LinearAlgebra/src/special.jl:106</a></li> <li> +(A::<b>LinearAlgebra.Bidiagonal</b>, B::<b>LinearAlgebra.LowerTriangular</b>) in LinearAlgebra at <a href=\"file:///cache/build/default-amdci4-3/julialang/julia-release-1-dot-8/usr/share/julia/stdlib/v1.8/LinearAlgebra/src/special.jl\" target=\"_blank\">/home/benjamin-pop/Development/julia-1.8.0/share/julia/stdlib/v1.8/LinearAlgebra/src/special.jl:106</a></li> <li> +(A::<b>LinearAlgebra.Bidiagonal</b>, B::<b>LinearAlgebra.UnitLowerTriangular</b>) in LinearAlgebra at <a href=\"file:///cache/build/default-amdci4-3/julialang/julia-release-1-dot-8/usr/share/julia/stdlib/v1.8/LinearAlgebra/src/special.jl\" target=\"_blank\">/home/benjamin-pop/Development/julia-1.8.0/share/julia/stdlib/v1.8/LinearAlgebra/src/special.jl:106</a></li> <li> +(A::<b>LinearAlgebra.Bidiagonal</b>, B::<b>LinearAlgebra.Diagonal</b>) in LinearAlgebra at <a href=\"file:///cache/build/default-amdci4-3/julialang/julia-release-1-dot-8/usr/share/julia/stdlib/v1.8/LinearAlgebra/src/special.jl\" target=\"_blank\">/home/benjamin-pop/Development/julia-1.8.0/share/julia/stdlib/v1.8/LinearAlgebra/src/special.jl:127</a></li> <li> +(A::<b>LinearAlgebra.Bidiagonal</b>, B::<b>LinearAlgebra.Tridiagonal</b>) in LinearAlgebra at <a href=\"file:///cache/build/default-amdci4-3/julialang/julia-release-1-dot-8/usr/share/julia/stdlib/v1.8/LinearAlgebra/src/special.jl\" target=\"_blank\">/home/benjamin-pop/Development/julia-1.8.0/share/julia/stdlib/v1.8/LinearAlgebra/src/special.jl:195</a></li> <li> +(A::<b>LinearAlgebra.Bidiagonal</b>, B::<b>LinearAlgebra.SymTridiagonal</b>) in LinearAlgebra at <a href=\"file:///cache/build/default-amdci4-3/julialang/julia-release-1-dot-8/usr/share/julia/stdlib/v1.8/LinearAlgebra/src/special.jl\" target=\"_blank\">/home/benjamin-pop/Development/julia-1.8.0/share/julia/stdlib/v1.8/LinearAlgebra/src/special.jl:215</a></li> <li> +(A::<b>LinearAlgebra.Bidiagonal{var\"#s884\", V} where {var\"#s884\"<:Number, V<:AbstractVector{var\"#s884\"}}</b>, B::<b>LinearAlgebra.UniformScaling</b>) in LinearAlgebra at <a href=\"file:///cache/build/default-amdci4-3/julialang/julia-release-1-dot-8/usr/share/julia/stdlib/v1.8/LinearAlgebra/src/special.jl\" target=\"_blank\">/home/benjamin-pop/Development/julia-1.8.0/share/julia/stdlib/v1.8/LinearAlgebra/src/special.jl:248</a></li> <li> +(r1::<b>StepRangeLen{T, R}</b>, r2::<b>StepRangeLen{T, R}</b>)<i> where {R<:Base.TwicePrecision, T}</i> in Base at <a href=\"https://github.com/JuliaLang/julia/tree/5544a0fab7648cfa61fe79cd557a7504a92ec1b5/base/twiceprecision.jl#L644\" target=\"_blank\">twiceprecision.jl:644</a></li> <li> +(r1::<b>StepRangeLen{T, S}</b>, r2::<b>StepRangeLen{T, S}</b>)<i> where {T, S}</i> in Base at <a href=\"https://github.com/JuliaLang/julia/tree/5544a0fab7648cfa61fe79cd557a7504a92ec1b5/base/range.jl#L1447\" target=\"_blank\">range.jl:1447</a></li> <li> +(r1::<b>OrdinalRange</b>, r2::<b>OrdinalRange</b>) in Base at <a href=\"https://github.com/JuliaLang/julia/tree/5544a0fab7648cfa61fe79cd557a7504a92ec1b5/base/range.jl#L1424\" target=\"_blank\">range.jl:1424</a></li> <li> +(r1::<b>Union{LinRange, OrdinalRange, StepRangeLen}</b>, r2::<b>Union{LinRange, OrdinalRange, StepRangeLen}</b>) in Base at <a href=\"https://github.com/JuliaLang/julia/tree/5544a0fab7648cfa61fe79cd557a7504a92ec1b5/base/range.jl#L1440\" target=\"_blank\">range.jl:1440</a></li> <li> +(A::<b>LinearAlgebra.Tridiagonal</b>, B::<b>LinearAlgebra.Tridiagonal</b>) in LinearAlgebra at <a href=\"file:///cache/build/default-amdci4-3/julialang/julia-release-1-dot-8/usr/share/julia/stdlib/v1.8/LinearAlgebra/src/tridiag.jl\" target=\"_blank\">/home/benjamin-pop/Development/julia-1.8.0/share/julia/stdlib/v1.8/LinearAlgebra/src/tridiag.jl:738</a></li> <li> +(x::<b>LinearAlgebra.Tridiagonal</b>, H::<b>LinearAlgebra.UpperHessenberg</b>) in LinearAlgebra at <a href=\"file:///cache/build/default-amdci4-3/julialang/julia-release-1-dot-8/usr/share/julia/stdlib/v1.8/LinearAlgebra/src/hessenberg.jl\" target=\"_blank\">/home/benjamin-pop/Development/julia-1.8.0/share/julia/stdlib/v1.8/LinearAlgebra/src/hessenberg.jl:109</a></li> <li> +(A::<b>LinearAlgebra.Tridiagonal</b>, B::<b>LinearAlgebra.SymTridiagonal</b>) in LinearAlgebra at <a href=\"file:///cache/build/default-amdci4-3/julialang/julia-release-1-dot-8/usr/share/julia/stdlib/v1.8/LinearAlgebra/src/special.jl\" target=\"_blank\">/home/benjamin-pop/Development/julia-1.8.0/share/julia/stdlib/v1.8/LinearAlgebra/src/special.jl:169</a></li> <li> +(A::<b>LinearAlgebra.Tridiagonal</b>, B::<b>LinearAlgebra.Diagonal</b>) in LinearAlgebra at <a href=\"file:///cache/build/default-amdci4-3/julialang/julia-release-1-dot-8/usr/share/julia/stdlib/v1.8/LinearAlgebra/src/special.jl\" target=\"_blank\">/home/benjamin-pop/Development/julia-1.8.0/share/julia/stdlib/v1.8/LinearAlgebra/src/special.jl:185</a></li> <li> +(A::<b>LinearAlgebra.Tridiagonal</b>, B::<b>LinearAlgebra.Bidiagonal</b>) in LinearAlgebra at <a href=\"file:///cache/build/default-amdci4-3/julialang/julia-release-1-dot-8/usr/share/julia/stdlib/v1.8/LinearAlgebra/src/special.jl\" target=\"_blank\">/home/benjamin-pop/Development/julia-1.8.0/share/julia/stdlib/v1.8/LinearAlgebra/src/special.jl:205</a></li> <li> +(A::<b>LinearAlgebra.Tridiagonal{var\"#s884\", V} where {var\"#s884\"<:Number, V<:AbstractVector{var\"#s884\"}}</b>, B::<b>LinearAlgebra.UniformScaling</b>) in LinearAlgebra at <a href=\"file:///cache/build/default-amdci4-3/julialang/julia-release-1-dot-8/usr/share/julia/stdlib/v1.8/LinearAlgebra/src/special.jl\" target=\"_blank\">/home/benjamin-pop/Development/julia-1.8.0/share/julia/stdlib/v1.8/LinearAlgebra/src/special.jl:238</a></li> <li> +(x::<b>Rational</b>, y::<b>Integer</b>) in Base at <a href=\"https://github.com/JuliaLang/julia/tree/5544a0fab7648cfa61fe79cd557a7504a92ec1b5/base/rational.jl#L313\" target=\"_blank\">rational.jl:313</a></li> <li> +(A::<b>Array</b>, Bs::<b>Array...</b>) in Base at <a href=\"https://github.com/JuliaLang/julia/tree/5544a0fab7648cfa61fe79cd557a7504a92ec1b5/base/arraymath.jl#L12\" target=\"_blank\">arraymath.jl:12</a></li> <li> +(X::<b>StridedArray{<:Union{Dates.CompoundPeriod, Dates.Period}}</b>, Y::<b>StridedArray{<:Union{Dates.CompoundPeriod, Dates.Period}}</b>) in Dates at <a href=\"file:///cache/build/default-amdci4-3/julialang/julia-release-1-dot-8/usr/share/julia/stdlib/v1.8/Dates/src/deprecated.jl\" target=\"_blank\">/home/benjamin-pop/Development/julia-1.8.0/share/julia/stdlib/v1.8/Dates/src/deprecated.jl:62</a></li> <li> +(A::<b>Array</b>, B::<b>SparseArrays.AbstractSparseMatrixCSC</b>) in SparseArrays at <a href=\"file:///cache/build/default-amdci4-3/julialang/julia-release-1-dot-8/usr/share/julia/stdlib/v1.8/SparseArrays/src/sparsematrix.jl\" target=\"_blank\">/home/benjamin-pop/Development/julia-1.8.0/share/julia/stdlib/v1.8/SparseArrays/src/sparsematrix.jl:1833</a></li> <li> +(x::<b>StridedArray{<:Union{Dates.CompoundPeriod, Dates.Period}}</b>) in Dates at <a href=\"file:///cache/build/default-amdci4-3/julialang/julia-release-1-dot-8/usr/share/julia/stdlib/v1.8/Dates/src/deprecated.jl\" target=\"_blank\">/home/benjamin-pop/Development/julia-1.8.0/share/julia/stdlib/v1.8/Dates/src/deprecated.jl:55</a></li> <li> +(x::<b>StridedArray{<:Union{Dates.CompoundPeriod, Dates.Period}}</b>, y::<b>Dates.TimeType</b>) in Dates at <a href=\"file:///cache/build/default-amdci4-3/julialang/julia-release-1-dot-8/usr/share/julia/stdlib/v1.8/Dates/src/deprecated.jl\" target=\"_blank\">/home/benjamin-pop/Development/julia-1.8.0/share/julia/stdlib/v1.8/Dates/src/deprecated.jl:10</a></li> <li> +(A::<b>AbstractArray</b>, B::<b>AbstractArray</b>) in Base at <a href=\"https://github.com/JuliaLang/julia/tree/5544a0fab7648cfa61fe79cd557a7504a92ec1b5/base/arraymath.jl#L6\" target=\"_blank\">arraymath.jl:6</a></li> <li> +(x::<b>Dates.AbstractTime</b>, y::<b>Missing</b>) in Dates at <a href=\"file:///cache/build/default-amdci4-3/julialang/julia-release-1-dot-8/usr/share/julia/stdlib/v1.8/Dates/src/arithmetic.jl\" target=\"_blank\">/home/benjamin-pop/Development/julia-1.8.0/share/julia/stdlib/v1.8/Dates/src/arithmetic.jl:88</a></li> <li> +(B::<b>BitMatrix</b>, J::<b>LinearAlgebra.UniformScaling</b>) in LinearAlgebra at <a href=\"file:///cache/build/default-amdci4-3/julialang/julia-release-1-dot-8/usr/share/julia/stdlib/v1.8/LinearAlgebra/src/uniformscaling.jl\" target=\"_blank\">/home/benjamin-pop/Development/julia-1.8.0/share/julia/stdlib/v1.8/LinearAlgebra/src/uniformscaling.jl:151</a></li> <li> +(A::<b>AbstractMatrix</b>, J::<b>LinearAlgebra.UniformScaling</b>) in LinearAlgebra at <a href=\"file:///cache/build/default-amdci4-3/julialang/julia-release-1-dot-8/usr/share/julia/stdlib/v1.8/LinearAlgebra/src/uniformscaling.jl\" target=\"_blank\">/home/benjamin-pop/Development/julia-1.8.0/share/julia/stdlib/v1.8/LinearAlgebra/src/uniformscaling.jl:214</a></li> <li> +(x::<b>AbstractArray{<:Number}</b>) in Base at <a href=\"https://github.com/JuliaLang/julia/tree/5544a0fab7648cfa61fe79cd557a7504a92ec1b5/base/abstractarraymath.jl#L220\" target=\"_blank\">abstractarraymath.jl:220</a></li> <li> +(dt::<b>Dates.DateTime</b>, y::<b>Dates.Year</b>) in Dates at <a href=\"file:///cache/build/default-amdci4-3/julialang/julia-release-1-dot-8/usr/share/julia/stdlib/v1.8/Dates/src/arithmetic.jl\" target=\"_blank\">/home/benjamin-pop/Development/julia-1.8.0/share/julia/stdlib/v1.8/Dates/src/arithmetic.jl:23</a></li> <li> +(dt::<b>Dates.DateTime</b>, z::<b>Dates.Month</b>) in Dates at <a href=\"file:///cache/build/default-amdci4-3/julialang/julia-release-1-dot-8/usr/share/julia/stdlib/v1.8/Dates/src/arithmetic.jl\" target=\"_blank\">/home/benjamin-pop/Development/julia-1.8.0/share/julia/stdlib/v1.8/Dates/src/arithmetic.jl:47</a></li> <li> +(x::<b>Dates.DateTime</b>, y::<b>Dates.Quarter</b>) in Dates at <a href=\"file:///cache/build/default-amdci4-3/julialang/julia-release-1-dot-8/usr/share/julia/stdlib/v1.8/Dates/src/arithmetic.jl\" target=\"_blank\">/home/benjamin-pop/Development/julia-1.8.0/share/julia/stdlib/v1.8/Dates/src/arithmetic.jl:75</a></li> <li> +(x::<b>Dates.DateTime</b>, y::<b>Dates.Period</b>) in Dates at <a href=\"file:///cache/build/default-amdci4-3/julialang/julia-release-1-dot-8/usr/share/julia/stdlib/v1.8/Dates/src/arithmetic.jl\" target=\"_blank\">/home/benjamin-pop/Development/julia-1.8.0/share/julia/stdlib/v1.8/Dates/src/arithmetic.jl:81</a></li> <li> +(level::<b>Base.CoreLogging.LogLevel</b>, inc::<b>Integer</b>) in Base.CoreLogging at <a href=\"https://github.com/JuliaLang/julia/tree/5544a0fab7648cfa61fe79cd557a7504a92ec1b5/base/logging.jl#L131\" target=\"_blank\">logging.jl:131</a></li> <li> +(::<b>Missing</b>) in Base at <a href=\"https://github.com/JuliaLang/julia/tree/5544a0fab7648cfa61fe79cd557a7504a92ec1b5/base/missing.jl#L101\" target=\"_blank\">missing.jl:101</a></li> <li> +(::<b>Missing</b>, ::<b>Number</b>) in Base at <a href=\"https://github.com/JuliaLang/julia/tree/5544a0fab7648cfa61fe79cd557a7504a92ec1b5/base/missing.jl#L123\" target=\"_blank\">missing.jl:123</a></li> <li> +(x::<b>Missing</b>, y::<b>Dates.AbstractTime</b>) in Dates at <a href=\"file:///cache/build/default-amdci4-3/julialang/julia-release-1-dot-8/usr/share/julia/stdlib/v1.8/Dates/src/arithmetic.jl\" target=\"_blank\">/home/benjamin-pop/Development/julia-1.8.0/share/julia/stdlib/v1.8/Dates/src/arithmetic.jl:89</a></li> <li> +(::<b>Missing</b>, ::<b>Missing</b>) in Base at <a href=\"https://github.com/JuliaLang/julia/tree/5544a0fab7648cfa61fe79cd557a7504a92ec1b5/base/missing.jl#L122\" target=\"_blank\">missing.jl:122</a></li> <li> +(x::<b>Bool</b>) in Base at <a href=\"https://github.com/JuliaLang/julia/tree/5544a0fab7648cfa61fe79cd557a7504a92ec1b5/base/bool.jl#L159\" target=\"_blank\">bool.jl:159</a></li> <li> +(x::<b>Integer</b>, y::<b>Ptr</b>) in Base at <a href=\"https://github.com/JuliaLang/julia/tree/5544a0fab7648cfa61fe79cd557a7504a92ec1b5/base/pointer.jl#L161\" target=\"_blank\">pointer.jl:161</a></li> <li> +(y::<b>Integer</b>, x::<b>Rational</b>) in Base at <a href=\"https://github.com/JuliaLang/julia/tree/5544a0fab7648cfa61fe79cd557a7504a92ec1b5/base/rational.jl#L320\" target=\"_blank\">rational.jl:320</a></li> <li> +(x::<b>Integer</b>, y::<b>AbstractChar</b>) in Base at <a href=\"https://github.com/JuliaLang/julia/tree/5544a0fab7648cfa61fe79cd557a7504a92ec1b5/base/char.jl#L247\" target=\"_blank\">char.jl:247</a></li> <li> +(x::<b>Bool</b>, y::<b>T</b>)<i> where T<:AbstractFloat</i> in Base at <a href=\"https://github.com/JuliaLang/julia/tree/5544a0fab7648cfa61fe79cd557a7504a92ec1b5/base/bool.jl#L169\" target=\"_blank\">bool.jl:169</a></li> <li> +(x::<b>Bool</b>, y::<b>Bool</b>) in Base at <a href=\"https://github.com/JuliaLang/julia/tree/5544a0fab7648cfa61fe79cd557a7504a92ec1b5/base/bool.jl#L162\" target=\"_blank\">bool.jl:162</a></li> <li> +(x::<b>Bool</b>, z::<b>Complex{Bool}</b>) in Base at <a href=\"https://github.com/JuliaLang/julia/tree/5544a0fab7648cfa61fe79cd557a7504a92ec1b5/base/complex.jl#L299\" target=\"_blank\">complex.jl:299</a></li> <li> +(x::<b>Bool</b>, z::<b>Complex</b>) in Base at <a href=\"https://github.com/JuliaLang/julia/tree/5544a0fab7648cfa61fe79cd557a7504a92ec1b5/base/complex.jl#L306\" target=\"_blank\">complex.jl:306</a></li> <li> +(x::<b>Dates.CompoundPeriod</b>, y::<b>Dates.Period</b>) in Dates at <a href=\"file:///cache/build/default-amdci4-3/julialang/julia-release-1-dot-8/usr/share/julia/stdlib/v1.8/Dates/src/periods.jl\" target=\"_blank\">/home/benjamin-pop/Development/julia-1.8.0/share/julia/stdlib/v1.8/Dates/src/periods.jl:368</a></li> <li> +(x::<b>Dates.CompoundPeriod</b>, y::<b>Dates.TimeType</b>) in Dates at <a href=\"file:///cache/build/default-amdci4-3/julialang/julia-release-1-dot-8/usr/share/julia/stdlib/v1.8/Dates/src/periods.jl\" target=\"_blank\">/home/benjamin-pop/Development/julia-1.8.0/share/julia/stdlib/v1.8/Dates/src/periods.jl:398</a></li> <li> +(x::<b>Dates.CompoundPeriod</b>, y::<b>Dates.CompoundPeriod</b>) in Dates at <a href=\"file:///cache/build/default-amdci4-3/julialang/julia-release-1-dot-8/usr/share/julia/stdlib/v1.8/Dates/src/periods.jl\" target=\"_blank\">/home/benjamin-pop/Development/julia-1.8.0/share/julia/stdlib/v1.8/Dates/src/periods.jl:370</a></li> <li> +(x::<b>Rational{BigInt}</b>, y::<b>Rational{BigInt}</b>) in Base.GMP.MPQ at <a href=\"https://github.com/JuliaLang/julia/tree/5544a0fab7648cfa61fe79cd557a7504a92ec1b5/base/gmp.jl#L918\" target=\"_blank\">gmp.jl:918</a></li> <li> +(x::<b>Rational</b>) in Base at <a href=\"https://github.com/JuliaLang/julia/tree/5544a0fab7648cfa61fe79cd557a7504a92ec1b5/base/rational.jl#L270\" target=\"_blank\">rational.jl:270</a></li> <li> +(x::<b>Real</b>, z::<b>Complex{Bool}</b>) in Base at <a href=\"https://github.com/JuliaLang/julia/tree/5544a0fab7648cfa61fe79cd557a7504a92ec1b5/base/complex.jl#L313\" target=\"_blank\">complex.jl:313</a></li> <li> +(x::<b>Real</b>, z::<b>Complex</b>) in Base at <a href=\"https://github.com/JuliaLang/julia/tree/5544a0fab7648cfa61fe79cd557a7504a92ec1b5/base/complex.jl#L325\" target=\"_blank\">complex.jl:325</a></li> <li> +(x::<b>Number</b>, y::<b>Base.TwicePrecision</b>) in Base at <a href=\"https://github.com/JuliaLang/julia/tree/5544a0fab7648cfa61fe79cd557a7504a92ec1b5/base/twiceprecision.jl#L294\" target=\"_blank\">twiceprecision.jl:294</a></li> <li> +(::<b>Number</b>, ::<b>Missing</b>) in Base at <a href=\"https://github.com/JuliaLang/julia/tree/5544a0fab7648cfa61fe79cd557a7504a92ec1b5/base/missing.jl#L124\" target=\"_blank\">missing.jl:124</a></li> <li> +(x::<b>Number</b>, J::<b>LinearAlgebra.UniformScaling</b>) in LinearAlgebra at <a href=\"file:///cache/build/default-amdci4-3/julialang/julia-release-1-dot-8/usr/share/julia/stdlib/v1.8/LinearAlgebra/src/uniformscaling.jl\" target=\"_blank\">/home/benjamin-pop/Development/julia-1.8.0/share/julia/stdlib/v1.8/LinearAlgebra/src/uniformscaling.jl:145</a></li> <li> +(x::<b>Rational</b>, y::<b>Rational</b>) in Base at <a href=\"https://github.com/JuliaLang/julia/tree/5544a0fab7648cfa61fe79cd557a7504a92ec1b5/base/rational.jl#L284\" target=\"_blank\">rational.jl:284</a></li> <li> +(z::<b>Complex{Bool}</b>, x::<b>Bool</b>) in Base at <a href=\"https://github.com/JuliaLang/julia/tree/5544a0fab7648cfa61fe79cd557a7504a92ec1b5/base/complex.jl#L300\" target=\"_blank\">complex.jl:300</a></li> <li> +(z::<b>Complex</b>, x::<b>Bool</b>) in Base at <a href=\"https://github.com/JuliaLang/julia/tree/5544a0fab7648cfa61fe79cd557a7504a92ec1b5/base/complex.jl#L307\" target=\"_blank\">complex.jl:307</a></li> <li> +(z::<b>Complex{Bool}</b>, x::<b>Real</b>) in Base at <a href=\"https://github.com/JuliaLang/julia/tree/5544a0fab7648cfa61fe79cd557a7504a92ec1b5/base/complex.jl#L314\" target=\"_blank\">complex.jl:314</a></li> <li> +(z::<b>Complex</b>) in Base at <a href=\"https://github.com/JuliaLang/julia/tree/5544a0fab7648cfa61fe79cd557a7504a92ec1b5/base/complex.jl#L286\" target=\"_blank\">complex.jl:286</a></li> <li> +(z::<b>Complex</b>, x::<b>Real</b>) in Base at <a href=\"https://github.com/JuliaLang/julia/tree/5544a0fab7648cfa61fe79cd557a7504a92ec1b5/base/complex.jl#L326\" target=\"_blank\">complex.jl:326</a></li> <li> +(x::<b>BigInt</b>, c::<b>Union{UInt16, UInt32, UInt64, UInt8}</b>) in Base.GMP at <a href=\"https://github.com/JuliaLang/julia/tree/5544a0fab7648cfa61fe79cd557a7504a92ec1b5/base/gmp.jl#L530\" target=\"_blank\">gmp.jl:530</a></li> <li> +(x::<b>BigInt</b>, c::<b>Union{Int16, Int32, Int64, Int8}</b>) in Base.GMP at <a href=\"https://github.com/JuliaLang/julia/tree/5544a0fab7648cfa61fe79cd557a7504a92ec1b5/base/gmp.jl#L536\" target=\"_blank\">gmp.jl:536</a></li> <li> +(x::<b>BigInt</b>, y::<b>BigInt</b>) in Base.GMP at <a href=\"https://github.com/JuliaLang/julia/tree/5544a0fab7648cfa61fe79cd557a7504a92ec1b5/base/gmp.jl#L482\" target=\"_blank\">gmp.jl:482</a></li> <li> +(a::<b>BigInt</b>, b::<b>BigInt</b>, c::<b>BigInt</b>) in Base.GMP at <a href=\"https://github.com/JuliaLang/julia/tree/5544a0fab7648cfa61fe79cd557a7504a92ec1b5/base/gmp.jl#L522\" target=\"_blank\">gmp.jl:522</a></li> <li> +(a::<b>BigInt</b>, b::<b>BigInt</b>, c::<b>BigInt</b>, d::<b>BigInt</b>) in Base.GMP at <a href=\"https://github.com/JuliaLang/julia/tree/5544a0fab7648cfa61fe79cd557a7504a92ec1b5/base/gmp.jl#L523\" target=\"_blank\">gmp.jl:523</a></li> <li> +(a::<b>BigInt</b>, b::<b>BigInt</b>, c::<b>BigInt</b>, d::<b>BigInt</b>, e::<b>BigInt</b>) in Base.GMP at <a href=\"https://github.com/JuliaLang/julia/tree/5544a0fab7648cfa61fe79cd557a7504a92ec1b5/base/gmp.jl#L524\" target=\"_blank\">gmp.jl:524</a></li> <li> +(x::<b>BigInt</b>, y::<b>BigInt</b>, rest::<b>BigInt...</b>) in Base.GMP at <a href=\"https://github.com/JuliaLang/julia/tree/5544a0fab7648cfa61fe79cd557a7504a92ec1b5/base/gmp.jl#L657\" target=\"_blank\">gmp.jl:657</a></li> <li> +(a::<b>Integer</b>, b::<b>Integer</b>) in Base at <a href=\"https://github.com/JuliaLang/julia/tree/5544a0fab7648cfa61fe79cd557a7504a92ec1b5/base/int.jl#L987\" target=\"_blank\">int.jl:987</a></li> <li> +(c::<b>BigInt</b>, x::<b>BigFloat</b>) in Base.MPFR at <a href=\"https://github.com/JuliaLang/julia/tree/5544a0fab7648cfa61fe79cd557a7504a92ec1b5/base/mpfr.jl#L422\" target=\"_blank\">mpfr.jl:422</a></li> <li> +(a::<b>Pkg.Resolve.VersionWeight</b>, b::<b>Pkg.Resolve.VersionWeight</b>) in Pkg.Resolve at <a href=\"file:///cache/build/default-amdci4-3/julialang/julia-release-1-dot-8/usr/share/julia/stdlib/v1.8/Pkg/src/Resolve/versionweights.jl\" target=\"_blank\">/home/benjamin-pop/Development/julia-1.8.0/share/julia/stdlib/v1.8/Pkg/src/Resolve/versionweights.jl:22</a></li> <li> +(a::<b>Pkg.Resolve.FieldValue</b>, b::<b>Pkg.Resolve.FieldValue</b>) in Pkg.Resolve at <a href=\"file:///cache/build/default-amdci4-3/julialang/julia-release-1-dot-8/usr/share/julia/stdlib/v1.8/Pkg/src/Resolve/fieldvalues.jl\" target=\"_blank\">/home/benjamin-pop/Development/julia-1.8.0/share/julia/stdlib/v1.8/Pkg/src/Resolve/fieldvalues.jl:43</a></li> <li> +(x::<b>BigFloat</b>, c::<b>Union{UInt16, UInt32, UInt64, UInt8}</b>) in Base.MPFR at <a href=\"https://github.com/JuliaLang/julia/tree/5544a0fab7648cfa61fe79cd557a7504a92ec1b5/base/mpfr.jl#L393\" target=\"_blank\">mpfr.jl:393</a></li> <li> +(x::<b>BigFloat</b>, c::<b>Union{Int16, Int32, Int64, Int8}</b>) in Base.MPFR at <a href=\"https://github.com/JuliaLang/julia/tree/5544a0fab7648cfa61fe79cd557a7504a92ec1b5/base/mpfr.jl#L401\" target=\"_blank\">mpfr.jl:401</a></li> <li> +(x::<b>BigFloat</b>, c::<b>Union{Float16, Float32, Float64}</b>) in Base.MPFR at <a href=\"https://github.com/JuliaLang/julia/tree/5544a0fab7648cfa61fe79cd557a7504a92ec1b5/base/mpfr.jl#L409\" target=\"_blank\">mpfr.jl:409</a></li> <li> +(x::<b>BigFloat</b>, y::<b>BigFloat</b>) in Base.MPFR at <a href=\"https://github.com/JuliaLang/julia/tree/5544a0fab7648cfa61fe79cd557a7504a92ec1b5/base/mpfr.jl#L386\" target=\"_blank\">mpfr.jl:386</a></li> <li> +(x::<b>BigFloat</b>, c::<b>BigInt</b>) in Base.MPFR at <a href=\"https://github.com/JuliaLang/julia/tree/5544a0fab7648cfa61fe79cd557a7504a92ec1b5/base/mpfr.jl#L417\" target=\"_blank\">mpfr.jl:417</a></li> <li> +(a::<b>BigFloat</b>, b::<b>BigFloat</b>, c::<b>BigFloat</b>) in Base.MPFR at <a href=\"https://github.com/JuliaLang/julia/tree/5544a0fab7648cfa61fe79cd557a7504a92ec1b5/base/mpfr.jl#L558\" target=\"_blank\">mpfr.jl:558</a></li> <li> +(a::<b>BigFloat</b>, b::<b>BigFloat</b>, c::<b>BigFloat</b>, d::<b>BigFloat</b>) in Base.MPFR at <a href=\"https://github.com/JuliaLang/julia/tree/5544a0fab7648cfa61fe79cd557a7504a92ec1b5/base/mpfr.jl#L564\" target=\"_blank\">mpfr.jl:564</a></li> <li> +(a::<b>BigFloat</b>, b::<b>BigFloat</b>, c::<b>BigFloat</b>, d::<b>BigFloat</b>, e::<b>BigFloat</b>) in Base.MPFR at <a href=\"https://github.com/JuliaLang/julia/tree/5544a0fab7648cfa61fe79cd557a7504a92ec1b5/base/mpfr.jl#L571\" target=\"_blank\">mpfr.jl:571</a></li> <li> +(x::<b>Number</b>) in Base at <a href=\"https://github.com/JuliaLang/julia/tree/5544a0fab7648cfa61fe79cd557a7504a92ec1b5/base/operators.jl#L528\" target=\"_blank\">operators.jl:528</a></li> <li> +(x::<b>T</b>, y::<b>T</b>)<i> where T<:Number</i> in Base at <a href=\"https://github.com/JuliaLang/julia/tree/5544a0fab7648cfa61fe79cd557a7504a92ec1b5/base/promotion.jl#L463\" target=\"_blank\">promotion.jl:463</a></li> <li> +(x::<b>Number</b>, y::<b>Number</b>) in Base at <a href=\"https://github.com/JuliaLang/julia/tree/5544a0fab7648cfa61fe79cd557a7504a92ec1b5/base/promotion.jl#L388\" target=\"_blank\">promotion.jl:388</a></li> <li> +(x::<b>Dates.Time</b>, y::<b>Dates.TimePeriod</b>) in Dates at <a href=\"file:///cache/build/default-amdci4-3/julialang/julia-release-1-dot-8/usr/share/julia/stdlib/v1.8/Dates/src/arithmetic.jl\" target=\"_blank\">/home/benjamin-pop/Development/julia-1.8.0/share/julia/stdlib/v1.8/Dates/src/arithmetic.jl:83</a></li> <li> +(t::<b>Dates.Time</b>, dt::<b>Dates.Date</b>) in Dates at <a href=\"file:///cache/build/default-amdci4-3/julialang/julia-release-1-dot-8/usr/share/julia/stdlib/v1.8/Dates/src/arithmetic.jl\" target=\"_blank\">/home/benjamin-pop/Development/julia-1.8.0/share/julia/stdlib/v1.8/Dates/src/arithmetic.jl:20</a></li> <li> +(dt::<b>Dates.Date</b>, t::<b>Dates.Time</b>) in Dates at <a href=\"file:///cache/build/default-amdci4-3/julialang/julia-release-1-dot-8/usr/share/julia/stdlib/v1.8/Dates/src/arithmetic.jl\" target=\"_blank\">/home/benjamin-pop/Development/julia-1.8.0/share/julia/stdlib/v1.8/Dates/src/arithmetic.jl:19</a></li> <li> +(dt::<b>Dates.Date</b>, y::<b>Dates.Year</b>) in Dates at <a href=\"file:///cache/build/default-amdci4-3/julialang/julia-release-1-dot-8/usr/share/julia/stdlib/v1.8/Dates/src/arithmetic.jl\" target=\"_blank\">/home/benjamin-pop/Development/julia-1.8.0/share/julia/stdlib/v1.8/Dates/src/arithmetic.jl:27</a></li> <li> +(dt::<b>Dates.Date</b>, z::<b>Dates.Month</b>) in Dates at <a href=\"file:///cache/build/default-amdci4-3/julialang/julia-release-1-dot-8/usr/share/julia/stdlib/v1.8/Dates/src/arithmetic.jl\" target=\"_blank\">/home/benjamin-pop/Development/julia-1.8.0/share/julia/stdlib/v1.8/Dates/src/arithmetic.jl:54</a></li> <li> +(x::<b>Dates.Date</b>, y::<b>Dates.Quarter</b>) in Dates at <a href=\"file:///cache/build/default-amdci4-3/julialang/julia-release-1-dot-8/usr/share/julia/stdlib/v1.8/Dates/src/arithmetic.jl\" target=\"_blank\">/home/benjamin-pop/Development/julia-1.8.0/share/julia/stdlib/v1.8/Dates/src/arithmetic.jl:73</a></li> <li> +(x::<b>Dates.Date</b>, y::<b>Dates.Week</b>) in Dates at <a href=\"file:///cache/build/default-amdci4-3/julialang/julia-release-1-dot-8/usr/share/julia/stdlib/v1.8/Dates/src/arithmetic.jl\" target=\"_blank\">/home/benjamin-pop/Development/julia-1.8.0/share/julia/stdlib/v1.8/Dates/src/arithmetic.jl:77</a></li> <li> +(x::<b>Dates.Date</b>, y::<b>Dates.Day</b>) in Dates at <a href=\"file:///cache/build/default-amdci4-3/julialang/julia-release-1-dot-8/usr/share/julia/stdlib/v1.8/Dates/src/arithmetic.jl\" target=\"_blank\">/home/benjamin-pop/Development/julia-1.8.0/share/julia/stdlib/v1.8/Dates/src/arithmetic.jl:79</a></li> <li> +(x::<b>Dates.TimeType</b>) in Dates at <a href=\"file:///cache/build/default-amdci4-3/julialang/julia-release-1-dot-8/usr/share/julia/stdlib/v1.8/Dates/src/arithmetic.jl\" target=\"_blank\">/home/benjamin-pop/Development/julia-1.8.0/share/julia/stdlib/v1.8/Dates/src/arithmetic.jl:8</a></li> <li> +(a::<b>Dates.TimeType</b>, b::<b>Dates.Period</b>, c::<b>Dates.Period</b>) in Dates at <a href=\"file:///cache/build/default-amdci4-3/julialang/julia-release-1-dot-8/usr/share/julia/stdlib/v1.8/Dates/src/periods.jl\" target=\"_blank\">/home/benjamin-pop/Development/julia-1.8.0/share/julia/stdlib/v1.8/Dates/src/periods.jl:389</a></li> <li> +(a::<b>Dates.TimeType</b>, b::<b>Dates.Period</b>, c::<b>Dates.Period</b>, d::<b>Dates.Period...</b>) in Dates at <a href=\"file:///cache/build/default-amdci4-3/julialang/julia-release-1-dot-8/usr/share/julia/stdlib/v1.8/Dates/src/periods.jl\" target=\"_blank\">/home/benjamin-pop/Development/julia-1.8.0/share/julia/stdlib/v1.8/Dates/src/periods.jl:390</a></li> <li> +(x::<b>Dates.TimeType</b>, y::<b>Dates.CompoundPeriod</b>) in Dates at <a href=\"file:///cache/build/default-amdci4-3/julialang/julia-release-1-dot-8/usr/share/julia/stdlib/v1.8/Dates/src/periods.jl\" target=\"_blank\">/home/benjamin-pop/Development/julia-1.8.0/share/julia/stdlib/v1.8/Dates/src/periods.jl:392</a></li> <li> +(a, b, c, xs...) in Base at <a href=\"https://github.com/JuliaLang/julia/tree/5544a0fab7648cfa61fe79cd557a7504a92ec1b5/base/operators.jl#L591\" target=\"_blank\">operators.jl:591</a></li> </ul>"
      ],
      "text/plain": [
       "# 206 methods for generic function \"+\":\n",
       "[1] +(x::T, y::T) where T<:Union{Int128, Int16, Int32, Int64, Int8, UInt128, UInt16, UInt32, UInt64, UInt8} in Base at int.jl:87\n",
       "[2] +(x::T, y::T) where T<:Union{Float16, Float32, Float64} in Base at float.jl:383\n",
       "[3] +(c::Union{UInt16, UInt32, UInt64, UInt8}, x::BigInt) in Base.GMP at gmp.jl:531\n",
       "[4] +(c::Union{Int16, Int32, Int64, Int8}, x::BigInt) in Base.GMP at gmp.jl:537\n",
       "[5] +(c::Union{UInt16, UInt32, UInt64, UInt8}, x::BigFloat) in Base.MPFR at mpfr.jl:398\n",
       "[6] +(c::Union{Int16, Int32, Int64, Int8}, x::BigFloat) in Base.MPFR at mpfr.jl:406\n",
       "[7] +(c::Union{Float16, Float32, Float64}, x::BigFloat) in Base.MPFR at mpfr.jl:414\n",
       "[8] +(x::Union{Dates.CompoundPeriod, Dates.Period}) in Dates at /home/benjamin-pop/Development/julia-1.8.0/share/julia/stdlib/v1.8/Dates/src/periods.jl:378\n",
       "[9] +(x::P, y::P) where P<:Dates.Period in Dates at /home/benjamin-pop/Development/julia-1.8.0/share/julia/stdlib/v1.8/Dates/src/periods.jl:77\n",
       "[10] +(x::Dates.Period, y::Dates.Period) in Dates at /home/benjamin-pop/Development/julia-1.8.0/share/julia/stdlib/v1.8/Dates/src/periods.jl:367\n",
       "[11] +(y::Dates.Period, x::Dates.CompoundPeriod) in Dates at /home/benjamin-pop/Development/julia-1.8.0/share/julia/stdlib/v1.8/Dates/src/periods.jl:369\n",
       "[12] +(y::Dates.Period, x::Dates.TimeType) in Dates at /home/benjamin-pop/Development/julia-1.8.0/share/julia/stdlib/v1.8/Dates/src/arithmetic.jl:85\n",
       "[13] +(x::Dates.Period, r::AbstractRange{<:Dates.TimeType}) in Dates at /home/benjamin-pop/Development/julia-1.8.0/share/julia/stdlib/v1.8/Dates/src/ranges.jl:63\n",
       "[14] +(y::Union{Dates.CompoundPeriod, Dates.Period}, x::AbstractArray{<:Dates.TimeType}) in Dates at /home/benjamin-pop/Development/julia-1.8.0/share/julia/stdlib/v1.8/Dates/src/deprecated.jl:14\n",
       "[15] +(A::LinearAlgebra.SymTridiagonal, B::LinearAlgebra.SymTridiagonal) in LinearAlgebra at /home/benjamin-pop/Development/julia-1.8.0/share/julia/stdlib/v1.8/LinearAlgebra/src/tridiag.jl:207\n",
       "[16] +(A::LinearAlgebra.SymTridiagonal, B::LinearAlgebra.Symmetric) in LinearAlgebra at /home/benjamin-pop/Development/julia-1.8.0/share/julia/stdlib/v1.8/LinearAlgebra/src/symmetric.jl:485\n",
       "[17] +(A::LinearAlgebra.SymTridiagonal{var\"#s882\", V} where {var\"#s882\"<:Real, V<:AbstractVector{var\"#s882\"}}, B::LinearAlgebra.Hermitian) in LinearAlgebra at /home/benjamin-pop/Development/julia-1.8.0/share/julia/stdlib/v1.8/LinearAlgebra/src/symmetric.jl:487\n",
       "[18] +(x::LinearAlgebra.SymTridiagonal, H::LinearAlgebra.UpperHessenberg) in LinearAlgebra at /home/benjamin-pop/Development/julia-1.8.0/share/julia/stdlib/v1.8/LinearAlgebra/src/hessenberg.jl:109\n",
       "[19] +(A::LinearAlgebra.SymTridiagonal, B::LinearAlgebra.Diagonal) in LinearAlgebra at /home/benjamin-pop/Development/julia-1.8.0/share/julia/stdlib/v1.8/LinearAlgebra/src/special.jl:157\n",
       "[20] +(A::LinearAlgebra.SymTridiagonal, B::LinearAlgebra.Tridiagonal) in LinearAlgebra at /home/benjamin-pop/Development/julia-1.8.0/share/julia/stdlib/v1.8/LinearAlgebra/src/special.jl:171\n",
       "[21] +(A::LinearAlgebra.SymTridiagonal, B::LinearAlgebra.Bidiagonal) in LinearAlgebra at /home/benjamin-pop/Development/julia-1.8.0/share/julia/stdlib/v1.8/LinearAlgebra/src/special.jl:225\n",
       "[22] +(A::LinearAlgebra.SymTridiagonal{var\"#s884\", V} where {var\"#s884\"<:Number, V<:AbstractVector{var\"#s884\"}}, B::LinearAlgebra.UniformScaling) in LinearAlgebra at /home/benjamin-pop/Development/julia-1.8.0/share/julia/stdlib/v1.8/LinearAlgebra/src/special.jl:243\n",
       "[23] +(A::BitArray, B::BitArray) in Base at bitarray.jl:1184\n",
       "[24] +(Da::LinearAlgebra.Diagonal, Db::LinearAlgebra.Diagonal) in LinearAlgebra at /home/benjamin-pop/Development/julia-1.8.0/share/julia/stdlib/v1.8/LinearAlgebra/src/diagonal.jl:184\n",
       "[25] +(D::LinearAlgebra.Diagonal, S::LinearAlgebra.Symmetric) in LinearAlgebra at /home/benjamin-pop/Development/julia-1.8.0/share/julia/stdlib/v1.8/LinearAlgebra/src/diagonal.jl:188\n",
       "[26] +(D::LinearAlgebra.Diagonal{var\"#s884\", V} where {var\"#s884\"<:Real, V<:AbstractVector{var\"#s884\"}}, H::LinearAlgebra.Hermitian) in LinearAlgebra at /home/benjamin-pop/Development/julia-1.8.0/share/julia/stdlib/v1.8/LinearAlgebra/src/diagonal.jl:194\n",
       "[27] +(x::LinearAlgebra.Diagonal, H::LinearAlgebra.UpperHessenberg) in LinearAlgebra at /home/benjamin-pop/Development/julia-1.8.0/share/julia/stdlib/v1.8/LinearAlgebra/src/hessenberg.jl:109\n",
       "[28] +(A::LinearAlgebra.Diagonal, B::LinearAlgebra.Bidiagonal) in LinearAlgebra at /home/benjamin-pop/Development/julia-1.8.0/share/julia/stdlib/v1.8/LinearAlgebra/src/special.jl:137\n",
       "[29] +(A::LinearAlgebra.Diagonal, B::LinearAlgebra.SymTridiagonal) in LinearAlgebra at /home/benjamin-pop/Development/julia-1.8.0/share/julia/stdlib/v1.8/LinearAlgebra/src/special.jl:147\n",
       "[30] +(A::LinearAlgebra.Diagonal, B::LinearAlgebra.Tridiagonal) in LinearAlgebra at /home/benjamin-pop/Development/julia-1.8.0/share/julia/stdlib/v1.8/LinearAlgebra/src/special.jl:175\n",
       "[31] +(A::LinearAlgebra.Diagonal{var\"#s884\", V} where {var\"#s884\"<:Number, V<:AbstractVector{var\"#s884\"}}, B::LinearAlgebra.UniformScaling) in LinearAlgebra at /home/benjamin-pop/Development/julia-1.8.0/share/julia/stdlib/v1.8/LinearAlgebra/src/special.jl:253\n",
       "[32] +(x::Dates.Instant) in Dates at /home/benjamin-pop/Development/julia-1.8.0/share/julia/stdlib/v1.8/Dates/src/arithmetic.jl:4\n",
       "[33] +(y::Dates.TimeType, x::StridedArray{<:Union{Dates.CompoundPeriod, Dates.Period}}) in Dates at /home/benjamin-pop/Development/julia-1.8.0/share/julia/stdlib/v1.8/Dates/src/deprecated.jl:18\n",
       "[34] +(A::LinearAlgebra.Hermitian, B::LinearAlgebra.Hermitian) in LinearAlgebra at /home/benjamin-pop/Development/julia-1.8.0/share/julia/stdlib/v1.8/LinearAlgebra/src/symmetric.jl:469\n",
       "[35] +(A::LinearAlgebra.Hermitian, B::LinearAlgebra.SymTridiagonal{var\"#s881\", V} where {var\"#s881\"<:Real, V<:AbstractVector{var\"#s881\"}}) in LinearAlgebra at /home/benjamin-pop/Development/julia-1.8.0/share/julia/stdlib/v1.8/LinearAlgebra/src/symmetric.jl:488\n",
       "[36] +(H::LinearAlgebra.Hermitian, D::LinearAlgebra.Diagonal{var\"#s884\", V} where {var\"#s884\"<:Real, V<:AbstractVector{var\"#s884\"}}) in LinearAlgebra at /home/benjamin-pop/Development/julia-1.8.0/share/julia/stdlib/v1.8/LinearAlgebra/src/diagonal.jl:197\n",
       "[37] +(A::LinearAlgebra.Hermitian, J::LinearAlgebra.UniformScaling{<:Complex}) in LinearAlgebra at /home/benjamin-pop/Development/julia-1.8.0/share/julia/stdlib/v1.8/LinearAlgebra/src/uniformscaling.jl:195\n",
       "[38] +(A::LinearAlgebra.Hermitian{<:Any, <:SparseArrays.AbstractSparseMatrix}, B::SparseArrays.AbstractSparseMatrix) in SparseArrays at /home/benjamin-pop/Development/julia-1.8.0/share/julia/stdlib/v1.8/SparseArrays/src/linalg.jl:15\n",
       "[39] +(A::LinearAlgebra.Hermitian, B::SparseArrays.AbstractSparseMatrix) in SparseArrays at /home/benjamin-pop/Development/julia-1.8.0/share/julia/stdlib/v1.8/SparseArrays/src/linalg.jl:18\n",
       "[40] +(A::LinearAlgebra.Hermitian{<:Any, <:SparseArrays.AbstractSparseMatrix}, B::LinearAlgebra.Symmetric{<:Real, <:SparseArrays.AbstractSparseMatrix}) in SparseArrays at /home/benjamin-pop/Development/julia-1.8.0/share/julia/stdlib/v1.8/SparseArrays/src/linalg.jl:26\n",
       "[41] +(A::LinearAlgebra.Hermitian, B::LinearAlgebra.Symmetric{var\"#s884\", S} where {var\"#s884\"<:Real, S<:(AbstractMatrix{<:var\"#s884\"})}) in LinearAlgebra at /home/benjamin-pop/Development/julia-1.8.0/share/julia/stdlib/v1.8/LinearAlgebra/src/symmetric.jl:483\n",
       "[42] +(A::LinearAlgebra.Hermitian{<:Any, <:SparseArrays.AbstractSparseMatrix}, B::LinearAlgebra.Symmetric{<:Any, <:SparseArrays.AbstractSparseMatrix}) in SparseArrays at /home/benjamin-pop/Development/julia-1.8.0/share/julia/stdlib/v1.8/SparseArrays/src/linalg.jl:24\n",
       "[43] +(A::SparseArrays.AbstractSparseMatrixCSC, B::SparseArrays.AbstractSparseMatrixCSC) in SparseArrays at /home/benjamin-pop/Development/julia-1.8.0/share/julia/stdlib/v1.8/SparseArrays/src/sparsematrix.jl:1829\n",
       "[44] +(A::SparseArrays.AbstractSparseMatrixCSC, B::Array) in SparseArrays at /home/benjamin-pop/Development/julia-1.8.0/share/julia/stdlib/v1.8/SparseArrays/src/sparsematrix.jl:1832\n",
       "[45] +(A::SparseArrays.AbstractSparseMatrixCSC, J::LinearAlgebra.UniformScaling) in SparseArrays at /home/benjamin-pop/Development/julia-1.8.0/share/julia/stdlib/v1.8/SparseArrays/src/sparsematrix.jl:3821\n",
       "[46] +(x::T, y::Integer) where T<:AbstractChar in Base at char.jl:237\n",
       "[47] +(index1::CartesianIndex{N}, index2::CartesianIndex{N}) where N in Base.IteratorsMD at multidimensional.jl:114\n",
       "[48] +(r::AbstractRange{<:Dates.TimeType}, x::Dates.Period) in Dates at /home/benjamin-pop/Development/julia-1.8.0/share/julia/stdlib/v1.8/Dates/src/ranges.jl:64\n",
       "[49] +(x::AbstractArray{<:Dates.TimeType}, y::Union{Dates.CompoundPeriod, Dates.Period}) in Dates at /home/benjamin-pop/Development/julia-1.8.0/share/julia/stdlib/v1.8/Dates/src/deprecated.jl:6\n",
       "[50] +(z::Complex, w::Complex) in Base at complex.jl:288\n",
       "[51] +(A::LinearAlgebra.LowerTriangular, B::LinearAlgebra.LowerTriangular) in LinearAlgebra at /home/benjamin-pop/Development/julia-1.8.0/share/julia/stdlib/v1.8/LinearAlgebra/src/triangular.jl:639\n",
       "[52] +(A::LinearAlgebra.LowerTriangular, B::LinearAlgebra.UnitLowerTriangular) in LinearAlgebra at /home/benjamin-pop/Development/julia-1.8.0/share/julia/stdlib/v1.8/LinearAlgebra/src/triangular.jl:641\n",
       "[53] +(A::LinearAlgebra.LowerTriangular, B::LinearAlgebra.Bidiagonal) in LinearAlgebra at /home/benjamin-pop/Development/julia-1.8.0/share/julia/stdlib/v1.8/LinearAlgebra/src/special.jl:98\n",
       "[54] +(x::SparseArrays.AbstractSparseVector, y::SparseArrays.AbstractSparseVector) in SparseArrays at /home/benjamin-pop/Development/julia-1.8.0/share/julia/stdlib/v1.8/SparseArrays/src/sparsevector.jl:1384\n",
       "[55] +(A::SparseArrays.AbstractSparseMatrix, B::LinearAlgebra.Hermitian{<:Any, <:SparseArrays.AbstractSparseMatrix}) in SparseArrays at /home/benjamin-pop/Development/julia-1.8.0/share/julia/stdlib/v1.8/SparseArrays/src/linalg.jl:14\n",
       "[56] +(A::SparseArrays.AbstractSparseMatrix, B::LinearAlgebra.Hermitian) in SparseArrays at /home/benjamin-pop/Development/julia-1.8.0/share/julia/stdlib/v1.8/SparseArrays/src/linalg.jl:17\n",
       "[57] +(A::SparseArrays.AbstractSparseMatrix, B::LinearAlgebra.Symmetric{<:Any, <:SparseArrays.AbstractSparseMatrix}) in SparseArrays at /home/benjamin-pop/Development/julia-1.8.0/share/julia/stdlib/v1.8/SparseArrays/src/linalg.jl:14\n",
       "[58] +(A::SparseArrays.AbstractSparseMatrix, B::LinearAlgebra.Symmetric) in SparseArrays at /home/benjamin-pop/Development/julia-1.8.0/share/julia/stdlib/v1.8/SparseArrays/src/linalg.jl:17\n",
       "[59] +(A::LinearAlgebra.UnitUpperTriangular, B::LinearAlgebra.UpperTriangular) in LinearAlgebra at /home/benjamin-pop/Development/julia-1.8.0/share/julia/stdlib/v1.8/LinearAlgebra/src/triangular.jl:642\n",
       "[60] +(A::LinearAlgebra.UnitUpperTriangular, B::LinearAlgebra.UnitUpperTriangular) in LinearAlgebra at /home/benjamin-pop/Development/julia-1.8.0/share/julia/stdlib/v1.8/LinearAlgebra/src/triangular.jl:644\n",
       "[61] +(UL::LinearAlgebra.UnitUpperTriangular, J::LinearAlgebra.UniformScaling) in LinearAlgebra at /home/benjamin-pop/Development/julia-1.8.0/share/julia/stdlib/v1.8/LinearAlgebra/src/uniformscaling.jl:181\n",
       "[62] +(x::LinearAlgebra.UnitUpperTriangular, H::LinearAlgebra.UpperHessenberg) in LinearAlgebra at /home/benjamin-pop/Development/julia-1.8.0/share/julia/stdlib/v1.8/LinearAlgebra/src/hessenberg.jl:109\n",
       "[63] +(A::LinearAlgebra.UnitUpperTriangular, B::LinearAlgebra.Bidiagonal) in LinearAlgebra at /home/benjamin-pop/Development/julia-1.8.0/share/julia/stdlib/v1.8/LinearAlgebra/src/special.jl:98\n",
       "[64] +(A::LinearAlgebra.Symmetric, B::LinearAlgebra.Symmetric) in LinearAlgebra at /home/benjamin-pop/Development/julia-1.8.0/share/julia/stdlib/v1.8/LinearAlgebra/src/symmetric.jl:469\n",
       "[65] +(A::LinearAlgebra.Symmetric, B::LinearAlgebra.SymTridiagonal) in LinearAlgebra at /home/benjamin-pop/Development/julia-1.8.0/share/julia/stdlib/v1.8/LinearAlgebra/src/symmetric.jl:486\n",
       "[66] +(S::LinearAlgebra.Symmetric, D::LinearAlgebra.Diagonal) in LinearAlgebra at /home/benjamin-pop/Development/julia-1.8.0/share/julia/stdlib/v1.8/LinearAlgebra/src/diagonal.jl:191\n",
       "[67] +(A::LinearAlgebra.Symmetric{<:Any, <:SparseArrays.AbstractSparseMatrix}, B::SparseArrays.AbstractSparseMatrix) in SparseArrays at /home/benjamin-pop/Development/julia-1.8.0/share/julia/stdlib/v1.8/SparseArrays/src/linalg.jl:15\n",
       "[68] +(A::LinearAlgebra.Symmetric, B::SparseArrays.AbstractSparseMatrix) in SparseArrays at /home/benjamin-pop/Development/julia-1.8.0/share/julia/stdlib/v1.8/SparseArrays/src/linalg.jl:18\n",
       "[69] +(A::LinearAlgebra.Symmetric{<:Real, <:SparseArrays.AbstractSparseMatrix}, B::LinearAlgebra.Hermitian{<:Any, <:SparseArrays.AbstractSparseMatrix}) in SparseArrays at /home/benjamin-pop/Development/julia-1.8.0/share/julia/stdlib/v1.8/SparseArrays/src/linalg.jl:25\n",
       "[70] +(A::LinearAlgebra.Symmetric{var\"#s883\", S} where {var\"#s883\"<:Real, S<:(AbstractMatrix{<:var\"#s883\"})}, B::LinearAlgebra.Hermitian) in LinearAlgebra at /home/benjamin-pop/Development/julia-1.8.0/share/julia/stdlib/v1.8/LinearAlgebra/src/symmetric.jl:484\n",
       "[71] +(A::LinearAlgebra.Symmetric{<:Any, <:SparseArrays.AbstractSparseMatrix}, B::LinearAlgebra.Hermitian{<:Any, <:SparseArrays.AbstractSparseMatrix}) in SparseArrays at /home/benjamin-pop/Development/julia-1.8.0/share/julia/stdlib/v1.8/SparseArrays/src/linalg.jl:23\n",
       "[72] +(r1::LinRange{T}, r2::LinRange{T}) where T in Base at range.jl:1431\n",
       "[73] +(F::LinearAlgebra.Hessenberg, J::LinearAlgebra.UniformScaling) in LinearAlgebra at /home/benjamin-pop/Development/julia-1.8.0/share/julia/stdlib/v1.8/LinearAlgebra/src/hessenberg.jl:641\n",
       "[74] +(A::LinearAlgebra.UpperHessenberg, B::LinearAlgebra.UpperHessenberg) in LinearAlgebra at /home/benjamin-pop/Development/julia-1.8.0/share/julia/stdlib/v1.8/LinearAlgebra/src/hessenberg.jl:101\n",
       "[75] +(H::LinearAlgebra.UpperHessenberg, x::LinearAlgebra.UniformScaling) in LinearAlgebra at /home/benjamin-pop/Development/julia-1.8.0/share/julia/stdlib/v1.8/LinearAlgebra/src/hessenberg.jl:108\n",
       "[76] +(H::LinearAlgebra.UpperHessenberg, x::LinearAlgebra.Diagonal) in LinearAlgebra at /home/benjamin-pop/Development/julia-1.8.0/share/julia/stdlib/v1.8/LinearAlgebra/src/hessenberg.jl:108\n",
       "[77] +(H::LinearAlgebra.UpperHessenberg, x::LinearAlgebra.Bidiagonal) in LinearAlgebra at /home/benjamin-pop/Development/julia-1.8.0/share/julia/stdlib/v1.8/LinearAlgebra/src/hessenberg.jl:108\n",
       "[78] +(H::LinearAlgebra.UpperHessenberg, x::LinearAlgebra.Tridiagonal) in LinearAlgebra at /home/benjamin-pop/Development/julia-1.8.0/share/julia/stdlib/v1.8/LinearAlgebra/src/hessenberg.jl:108\n",
       "[79] +(H::LinearAlgebra.UpperHessenberg, x::LinearAlgebra.SymTridiagonal) in LinearAlgebra at /home/benjamin-pop/Development/julia-1.8.0/share/julia/stdlib/v1.8/LinearAlgebra/src/hessenberg.jl:108\n",
       "[80] +(H::LinearAlgebra.UpperHessenberg, x::LinearAlgebra.UpperTriangular) in LinearAlgebra at /home/benjamin-pop/Development/julia-1.8.0/share/julia/stdlib/v1.8/LinearAlgebra/src/hessenberg.jl:108\n",
       "[81] +(H::LinearAlgebra.UpperHessenberg, x::LinearAlgebra.UnitUpperTriangular) in LinearAlgebra at /home/benjamin-pop/Development/julia-1.8.0/share/julia/stdlib/v1.8/LinearAlgebra/src/hessenberg.jl:108\n",
       "[82] +(A::LinearAlgebra.UnitLowerTriangular, B::LinearAlgebra.LowerTriangular) in LinearAlgebra at /home/benjamin-pop/Development/julia-1.8.0/share/julia/stdlib/v1.8/LinearAlgebra/src/triangular.jl:643\n",
       "[83] +(A::LinearAlgebra.UnitLowerTriangular, B::LinearAlgebra.UnitLowerTriangular) in LinearAlgebra at /home/benjamin-pop/Development/julia-1.8.0/share/julia/stdlib/v1.8/LinearAlgebra/src/triangular.jl:645\n",
       "[84] +(UL::LinearAlgebra.UnitLowerTriangular, J::LinearAlgebra.UniformScaling) in LinearAlgebra at /home/benjamin-pop/Development/julia-1.8.0/share/julia/stdlib/v1.8/LinearAlgebra/src/uniformscaling.jl:181\n",
       "[85] +(A::LinearAlgebra.UnitLowerTriangular, B::LinearAlgebra.Bidiagonal) in LinearAlgebra at /home/benjamin-pop/Development/julia-1.8.0/share/julia/stdlib/v1.8/LinearAlgebra/src/special.jl:98\n",
       "[86] +(x::Base.TwicePrecision, y::Number) in Base at twiceprecision.jl:290\n",
       "[87] +(x::Base.TwicePrecision{T}, y::Base.TwicePrecision{T}) where T in Base at twiceprecision.jl:296\n",
       "[88] +(x::Base.TwicePrecision, y::Base.TwicePrecision) in Base at twiceprecision.jl:301\n",
       "[89] +(J::LinearAlgebra.UniformScaling) in LinearAlgebra at /home/benjamin-pop/Development/julia-1.8.0/share/julia/stdlib/v1.8/LinearAlgebra/src/uniformscaling.jl:149\n",
       "[90] +(J::LinearAlgebra.UniformScaling, x::Number) in LinearAlgebra at /home/benjamin-pop/Development/julia-1.8.0/share/julia/stdlib/v1.8/LinearAlgebra/src/uniformscaling.jl:144\n",
       "[91] +(J1::LinearAlgebra.UniformScaling, J2::LinearAlgebra.UniformScaling) in LinearAlgebra at /home/benjamin-pop/Development/julia-1.8.0/share/julia/stdlib/v1.8/LinearAlgebra/src/uniformscaling.jl:150\n",
       "[92] +(J::LinearAlgebra.UniformScaling, B::BitMatrix) in LinearAlgebra at /home/benjamin-pop/Development/julia-1.8.0/share/julia/stdlib/v1.8/LinearAlgebra/src/uniformscaling.jl:152\n",
       "[93] +(x::LinearAlgebra.UniformScaling, H::LinearAlgebra.UpperHessenberg) in LinearAlgebra at /home/benjamin-pop/Development/julia-1.8.0/share/julia/stdlib/v1.8/LinearAlgebra/src/hessenberg.jl:109\n",
       "[94] +(J::LinearAlgebra.UniformScaling, F::LinearAlgebra.Hessenberg) in LinearAlgebra at /home/benjamin-pop/Development/julia-1.8.0/share/julia/stdlib/v1.8/LinearAlgebra/src/hessenberg.jl:642\n",
       "[95] +(A::LinearAlgebra.UniformScaling, B::LinearAlgebra.Tridiagonal{var\"#s884\", V} where {var\"#s884\"<:Number, V<:AbstractVector{var\"#s884\"}}) in LinearAlgebra at /home/benjamin-pop/Development/julia-1.8.0/share/julia/stdlib/v1.8/LinearAlgebra/src/special.jl:257\n",
       "[96] +(A::LinearAlgebra.UniformScaling, B::LinearAlgebra.SymTridiagonal{var\"#s884\", V} where {var\"#s884\"<:Number, V<:AbstractVector{var\"#s884\"}}) in LinearAlgebra at /home/benjamin-pop/Development/julia-1.8.0/share/julia/stdlib/v1.8/LinearAlgebra/src/special.jl:262\n",
       "[97] +(A::LinearAlgebra.UniformScaling, B::LinearAlgebra.Bidiagonal{var\"#s884\", V} where {var\"#s884\"<:Number, V<:AbstractVector{var\"#s884\"}}) in LinearAlgebra at /home/benjamin-pop/Development/julia-1.8.0/share/julia/stdlib/v1.8/LinearAlgebra/src/special.jl:267\n",
       "[98] +(A::LinearAlgebra.UniformScaling, B::LinearAlgebra.Diagonal{var\"#s884\", V} where {var\"#s884\"<:Number, V<:AbstractVector{var\"#s884\"}}) in LinearAlgebra at /home/benjamin-pop/Development/julia-1.8.0/share/julia/stdlib/v1.8/LinearAlgebra/src/special.jl:272\n",
       "[99] +(J::LinearAlgebra.UniformScaling, A::AbstractMatrix) in LinearAlgebra at /home/benjamin-pop/Development/julia-1.8.0/share/julia/stdlib/v1.8/LinearAlgebra/src/uniformscaling.jl:153\n",
       "[100] +(x::Ptr, y::Integer) in Base at pointer.jl:159\n",
       "[101] +(A::LinearAlgebra.UpperTriangular, B::LinearAlgebra.UpperTriangular) in LinearAlgebra at /home/benjamin-pop/Development/julia-1.8.0/share/julia/stdlib/v1.8/LinearAlgebra/src/triangular.jl:638\n",
       "[102] +(A::LinearAlgebra.UpperTriangular, B::LinearAlgebra.UnitUpperTriangular) in LinearAlgebra at /home/benjamin-pop/Development/julia-1.8.0/share/julia/stdlib/v1.8/LinearAlgebra/src/triangular.jl:640\n",
       "[103] +(A::LinearAlgebra.AbstractTriangular, B::LinearAlgebra.AbstractTriangular) in LinearAlgebra at /home/benjamin-pop/Development/julia-1.8.0/share/julia/stdlib/v1.8/LinearAlgebra/src/triangular.jl:646\n",
       "[104] +(x::LinearAlgebra.UpperTriangular, H::LinearAlgebra.UpperHessenberg) in LinearAlgebra at /home/benjamin-pop/Development/julia-1.8.0/share/julia/stdlib/v1.8/LinearAlgebra/src/hessenberg.jl:109\n",
       "[105] +(A::LinearAlgebra.UpperTriangular, B::LinearAlgebra.Bidiagonal) in LinearAlgebra at /home/benjamin-pop/Development/julia-1.8.0/share/julia/stdlib/v1.8/LinearAlgebra/src/special.jl:98\n",
       "[106] +(x::AbstractIrrational, y::AbstractIrrational) in Base at irrationals.jl:158\n",
       "[107] +(y::AbstractFloat, x::Bool) in Base at bool.jl:172\n",
       "[108] +(A::LinearAlgebra.Bidiagonal, B::LinearAlgebra.Bidiagonal) in LinearAlgebra at /home/benjamin-pop/Development/julia-1.8.0/share/julia/stdlib/v1.8/LinearAlgebra/src/bidiag.jl:365\n",
       "[109] +(x::LinearAlgebra.Bidiagonal, H::LinearAlgebra.UpperHessenberg) in LinearAlgebra at /home/benjamin-pop/Development/julia-1.8.0/share/julia/stdlib/v1.8/LinearAlgebra/src/hessenberg.jl:109\n",
       "[110] +(A::LinearAlgebra.Bidiagonal, B::LinearAlgebra.UpperTriangular) in LinearAlgebra at /home/benjamin-pop/Development/julia-1.8.0/share/julia/stdlib/v1.8/LinearAlgebra/src/special.jl:106\n",
       "[111] +(A::LinearAlgebra.Bidiagonal, B::LinearAlgebra.UnitUpperTriangular) in LinearAlgebra at /home/benjamin-pop/Development/julia-1.8.0/share/julia/stdlib/v1.8/LinearAlgebra/src/special.jl:106\n",
       "[112] +(A::LinearAlgebra.Bidiagonal, B::LinearAlgebra.LowerTriangular) in LinearAlgebra at /home/benjamin-pop/Development/julia-1.8.0/share/julia/stdlib/v1.8/LinearAlgebra/src/special.jl:106\n",
       "[113] +(A::LinearAlgebra.Bidiagonal, B::LinearAlgebra.UnitLowerTriangular) in LinearAlgebra at /home/benjamin-pop/Development/julia-1.8.0/share/julia/stdlib/v1.8/LinearAlgebra/src/special.jl:106\n",
       "[114] +(A::LinearAlgebra.Bidiagonal, B::LinearAlgebra.Diagonal) in LinearAlgebra at /home/benjamin-pop/Development/julia-1.8.0/share/julia/stdlib/v1.8/LinearAlgebra/src/special.jl:127\n",
       "[115] +(A::LinearAlgebra.Bidiagonal, B::LinearAlgebra.Tridiagonal) in LinearAlgebra at /home/benjamin-pop/Development/julia-1.8.0/share/julia/stdlib/v1.8/LinearAlgebra/src/special.jl:195\n",
       "[116] +(A::LinearAlgebra.Bidiagonal, B::LinearAlgebra.SymTridiagonal) in LinearAlgebra at /home/benjamin-pop/Development/julia-1.8.0/share/julia/stdlib/v1.8/LinearAlgebra/src/special.jl:215\n",
       "[117] +(A::LinearAlgebra.Bidiagonal{var\"#s884\", V} where {var\"#s884\"<:Number, V<:AbstractVector{var\"#s884\"}}, B::LinearAlgebra.UniformScaling) in LinearAlgebra at /home/benjamin-pop/Development/julia-1.8.0/share/julia/stdlib/v1.8/LinearAlgebra/src/special.jl:248\n",
       "[118] +(r1::StepRangeLen{T, R}, r2::StepRangeLen{T, R}) where {R<:Base.TwicePrecision, T} in Base at twiceprecision.jl:644\n",
       "[119] +(r1::StepRangeLen{T, S}, r2::StepRangeLen{T, S}) where {T, S} in Base at range.jl:1447\n",
       "[120] +(r1::OrdinalRange, r2::OrdinalRange) in Base at range.jl:1424\n",
       "[121] +(r1::Union{LinRange, OrdinalRange, StepRangeLen}, r2::Union{LinRange, OrdinalRange, StepRangeLen}) in Base at range.jl:1440\n",
       "[122] +(A::LinearAlgebra.Tridiagonal, B::LinearAlgebra.Tridiagonal) in LinearAlgebra at /home/benjamin-pop/Development/julia-1.8.0/share/julia/stdlib/v1.8/LinearAlgebra/src/tridiag.jl:738\n",
       "[123] +(x::LinearAlgebra.Tridiagonal, H::LinearAlgebra.UpperHessenberg) in LinearAlgebra at /home/benjamin-pop/Development/julia-1.8.0/share/julia/stdlib/v1.8/LinearAlgebra/src/hessenberg.jl:109\n",
       "[124] +(A::LinearAlgebra.Tridiagonal, B::LinearAlgebra.SymTridiagonal) in LinearAlgebra at /home/benjamin-pop/Development/julia-1.8.0/share/julia/stdlib/v1.8/LinearAlgebra/src/special.jl:169\n",
       "[125] +(A::LinearAlgebra.Tridiagonal, B::LinearAlgebra.Diagonal) in LinearAlgebra at /home/benjamin-pop/Development/julia-1.8.0/share/julia/stdlib/v1.8/LinearAlgebra/src/special.jl:185\n",
       "[126] +(A::LinearAlgebra.Tridiagonal, B::LinearAlgebra.Bidiagonal) in LinearAlgebra at /home/benjamin-pop/Development/julia-1.8.0/share/julia/stdlib/v1.8/LinearAlgebra/src/special.jl:205\n",
       "[127] +(A::LinearAlgebra.Tridiagonal{var\"#s884\", V} where {var\"#s884\"<:Number, V<:AbstractVector{var\"#s884\"}}, B::LinearAlgebra.UniformScaling) in LinearAlgebra at /home/benjamin-pop/Development/julia-1.8.0/share/julia/stdlib/v1.8/LinearAlgebra/src/special.jl:238\n",
       "[128] +(x::Rational, y::Integer) in Base at rational.jl:313\n",
       "[129] +(A::Array, Bs::Array...) in Base at arraymath.jl:12\n",
       "[130] +(X::StridedArray{<:Union{Dates.CompoundPeriod, Dates.Period}}, Y::StridedArray{<:Union{Dates.CompoundPeriod, Dates.Period}}) in Dates at /home/benjamin-pop/Development/julia-1.8.0/share/julia/stdlib/v1.8/Dates/src/deprecated.jl:62\n",
       "[131] +(A::Array, B::SparseArrays.AbstractSparseMatrixCSC) in SparseArrays at /home/benjamin-pop/Development/julia-1.8.0/share/julia/stdlib/v1.8/SparseArrays/src/sparsematrix.jl:1833\n",
       "[132] +(x::StridedArray{<:Union{Dates.CompoundPeriod, Dates.Period}}) in Dates at /home/benjamin-pop/Development/julia-1.8.0/share/julia/stdlib/v1.8/Dates/src/deprecated.jl:55\n",
       "[133] +(x::StridedArray{<:Union{Dates.CompoundPeriod, Dates.Period}}, y::Dates.TimeType) in Dates at /home/benjamin-pop/Development/julia-1.8.0/share/julia/stdlib/v1.8/Dates/src/deprecated.jl:10\n",
       "[134] +(A::AbstractArray, B::AbstractArray) in Base at arraymath.jl:6\n",
       "[135] +(x::Dates.AbstractTime, y::Missing) in Dates at /home/benjamin-pop/Development/julia-1.8.0/share/julia/stdlib/v1.8/Dates/src/arithmetic.jl:88\n",
       "[136] +(B::BitMatrix, J::LinearAlgebra.UniformScaling) in LinearAlgebra at /home/benjamin-pop/Development/julia-1.8.0/share/julia/stdlib/v1.8/LinearAlgebra/src/uniformscaling.jl:151\n",
       "[137] +(A::AbstractMatrix, J::LinearAlgebra.UniformScaling) in LinearAlgebra at /home/benjamin-pop/Development/julia-1.8.0/share/julia/stdlib/v1.8/LinearAlgebra/src/uniformscaling.jl:214\n",
       "[138] +(x::AbstractArray{<:Number}) in Base at abstractarraymath.jl:220\n",
       "[139] +(dt::Dates.DateTime, y::Dates.Year) in Dates at /home/benjamin-pop/Development/julia-1.8.0/share/julia/stdlib/v1.8/Dates/src/arithmetic.jl:23\n",
       "[140] +(dt::Dates.DateTime, z::Dates.Month) in Dates at /home/benjamin-pop/Development/julia-1.8.0/share/julia/stdlib/v1.8/Dates/src/arithmetic.jl:47\n",
       "[141] +(x::Dates.DateTime, y::Dates.Quarter) in Dates at /home/benjamin-pop/Development/julia-1.8.0/share/julia/stdlib/v1.8/Dates/src/arithmetic.jl:75\n",
       "[142] +(x::Dates.DateTime, y::Dates.Period) in Dates at /home/benjamin-pop/Development/julia-1.8.0/share/julia/stdlib/v1.8/Dates/src/arithmetic.jl:81\n",
       "[143] +(level::Base.CoreLogging.LogLevel, inc::Integer) in Base.CoreLogging at logging.jl:131\n",
       "[144] +(::Missing) in Base at missing.jl:101\n",
       "[145] +(::Missing, ::Number) in Base at missing.jl:123\n",
       "[146] +(x::Missing, y::Dates.AbstractTime) in Dates at /home/benjamin-pop/Development/julia-1.8.0/share/julia/stdlib/v1.8/Dates/src/arithmetic.jl:89\n",
       "[147] +(::Missing, ::Missing) in Base at missing.jl:122\n",
       "[148] +(x::Bool) in Base at bool.jl:159\n",
       "[149] +(x::Integer, y::Ptr) in Base at pointer.jl:161\n",
       "[150] +(y::Integer, x::Rational) in Base at rational.jl:320\n",
       "[151] +(x::Integer, y::AbstractChar) in Base at char.jl:247\n",
       "[152] +(x::Bool, y::T) where T<:AbstractFloat in Base at bool.jl:169\n",
       "[153] +(x::Bool, y::Bool) in Base at bool.jl:162\n",
       "[154] +(x::Bool, z::Complex{Bool}) in Base at complex.jl:299\n",
       "[155] +(x::Bool, z::Complex) in Base at complex.jl:306\n",
       "[156] +(x::Dates.CompoundPeriod, y::Dates.Period) in Dates at /home/benjamin-pop/Development/julia-1.8.0/share/julia/stdlib/v1.8/Dates/src/periods.jl:368\n",
       "[157] +(x::Dates.CompoundPeriod, y::Dates.TimeType) in Dates at /home/benjamin-pop/Development/julia-1.8.0/share/julia/stdlib/v1.8/Dates/src/periods.jl:398\n",
       "[158] +(x::Dates.CompoundPeriod, y::Dates.CompoundPeriod) in Dates at /home/benjamin-pop/Development/julia-1.8.0/share/julia/stdlib/v1.8/Dates/src/periods.jl:370\n",
       "[159] +(x::Rational{BigInt}, y::Rational{BigInt}) in Base.GMP.MPQ at gmp.jl:918\n",
       "[160] +(x::Rational) in Base at rational.jl:270\n",
       "[161] +(x::Real, z::Complex{Bool}) in Base at complex.jl:313\n",
       "[162] +(x::Real, z::Complex) in Base at complex.jl:325\n",
       "[163] +(x::Number, y::Base.TwicePrecision) in Base at twiceprecision.jl:294\n",
       "[164] +(::Number, ::Missing) in Base at missing.jl:124\n",
       "[165] +(x::Number, J::LinearAlgebra.UniformScaling) in LinearAlgebra at /home/benjamin-pop/Development/julia-1.8.0/share/julia/stdlib/v1.8/LinearAlgebra/src/uniformscaling.jl:145\n",
       "[166] +(x::Rational, y::Rational) in Base at rational.jl:284\n",
       "[167] +(z::Complex{Bool}, x::Bool) in Base at complex.jl:300\n",
       "[168] +(z::Complex, x::Bool) in Base at complex.jl:307\n",
       "[169] +(z::Complex{Bool}, x::Real) in Base at complex.jl:314\n",
       "[170] +(z::Complex) in Base at complex.jl:286\n",
       "[171] +(z::Complex, x::Real) in Base at complex.jl:326\n",
       "[172] +(x::BigInt, c::Union{UInt16, UInt32, UInt64, UInt8}) in Base.GMP at gmp.jl:530\n",
       "[173] +(x::BigInt, c::Union{Int16, Int32, Int64, Int8}) in Base.GMP at gmp.jl:536\n",
       "[174] +(x::BigInt, y::BigInt) in Base.GMP at gmp.jl:482\n",
       "[175] +(a::BigInt, b::BigInt, c::BigInt) in Base.GMP at gmp.jl:522\n",
       "[176] +(a::BigInt, b::BigInt, c::BigInt, d::BigInt) in Base.GMP at gmp.jl:523\n",
       "[177] +(a::BigInt, b::BigInt, c::BigInt, d::BigInt, e::BigInt) in Base.GMP at gmp.jl:524\n",
       "[178] +(x::BigInt, y::BigInt, rest::BigInt...) in Base.GMP at gmp.jl:657\n",
       "[179] +(a::Integer, b::Integer) in Base at int.jl:987\n",
       "[180] +(c::BigInt, x::BigFloat) in Base.MPFR at mpfr.jl:422\n",
       "[181] +(a::Pkg.Resolve.VersionWeight, b::Pkg.Resolve.VersionWeight) in Pkg.Resolve at /home/benjamin-pop/Development/julia-1.8.0/share/julia/stdlib/v1.8/Pkg/src/Resolve/versionweights.jl:22\n",
       "[182] +(a::Pkg.Resolve.FieldValue, b::Pkg.Resolve.FieldValue) in Pkg.Resolve at /home/benjamin-pop/Development/julia-1.8.0/share/julia/stdlib/v1.8/Pkg/src/Resolve/fieldvalues.jl:43\n",
       "[183] +(x::BigFloat, c::Union{UInt16, UInt32, UInt64, UInt8}) in Base.MPFR at mpfr.jl:393\n",
       "[184] +(x::BigFloat, c::Union{Int16, Int32, Int64, Int8}) in Base.MPFR at mpfr.jl:401\n",
       "[185] +(x::BigFloat, c::Union{Float16, Float32, Float64}) in Base.MPFR at mpfr.jl:409\n",
       "[186] +(x::BigFloat, y::BigFloat) in Base.MPFR at mpfr.jl:386\n",
       "[187] +(x::BigFloat, c::BigInt) in Base.MPFR at mpfr.jl:417\n",
       "[188] +(a::BigFloat, b::BigFloat, c::BigFloat) in Base.MPFR at mpfr.jl:558\n",
       "[189] +(a::BigFloat, b::BigFloat, c::BigFloat, d::BigFloat) in Base.MPFR at mpfr.jl:564\n",
       "[190] +(a::BigFloat, b::BigFloat, c::BigFloat, d::BigFloat, e::BigFloat) in Base.MPFR at mpfr.jl:571\n",
       "[191] +(x::Number) in Base at operators.jl:528\n",
       "[192] +(x::T, y::T) where T<:Number in Base at promotion.jl:463\n",
       "[193] +(x::Number, y::Number) in Base at promotion.jl:388\n",
       "[194] +(x::Dates.Time, y::Dates.TimePeriod) in Dates at /home/benjamin-pop/Development/julia-1.8.0/share/julia/stdlib/v1.8/Dates/src/arithmetic.jl:83\n",
       "[195] +(t::Dates.Time, dt::Dates.Date) in Dates at /home/benjamin-pop/Development/julia-1.8.0/share/julia/stdlib/v1.8/Dates/src/arithmetic.jl:20\n",
       "[196] +(dt::Dates.Date, t::Dates.Time) in Dates at /home/benjamin-pop/Development/julia-1.8.0/share/julia/stdlib/v1.8/Dates/src/arithmetic.jl:19\n",
       "[197] +(dt::Dates.Date, y::Dates.Year) in Dates at /home/benjamin-pop/Development/julia-1.8.0/share/julia/stdlib/v1.8/Dates/src/arithmetic.jl:27\n",
       "[198] +(dt::Dates.Date, z::Dates.Month) in Dates at /home/benjamin-pop/Development/julia-1.8.0/share/julia/stdlib/v1.8/Dates/src/arithmetic.jl:54\n",
       "[199] +(x::Dates.Date, y::Dates.Quarter) in Dates at /home/benjamin-pop/Development/julia-1.8.0/share/julia/stdlib/v1.8/Dates/src/arithmetic.jl:73\n",
       "[200] +(x::Dates.Date, y::Dates.Week) in Dates at /home/benjamin-pop/Development/julia-1.8.0/share/julia/stdlib/v1.8/Dates/src/arithmetic.jl:77\n",
       "[201] +(x::Dates.Date, y::Dates.Day) in Dates at /home/benjamin-pop/Development/julia-1.8.0/share/julia/stdlib/v1.8/Dates/src/arithmetic.jl:79\n",
       "[202] +(x::Dates.TimeType) in Dates at /home/benjamin-pop/Development/julia-1.8.0/share/julia/stdlib/v1.8/Dates/src/arithmetic.jl:8\n",
       "[203] +(a::Dates.TimeType, b::Dates.Period, c::Dates.Period) in Dates at /home/benjamin-pop/Development/julia-1.8.0/share/julia/stdlib/v1.8/Dates/src/periods.jl:389\n",
       "[204] +(a::Dates.TimeType, b::Dates.Period, c::Dates.Period, d::Dates.Period...) in Dates at /home/benjamin-pop/Development/julia-1.8.0/share/julia/stdlib/v1.8/Dates/src/periods.jl:390\n",
       "[205] +(x::Dates.TimeType, y::Dates.CompoundPeriod) in Dates at /home/benjamin-pop/Development/julia-1.8.0/share/julia/stdlib/v1.8/Dates/src/periods.jl:392\n",
       "[206] +(a, b, c, xs...) in Base at operators.jl:591"
      ]
     },
     "metadata": {},
     "output_type": "display_data"
    }
   ],
   "source": [
    "# to understand multiple dispatch lets look at the + operator\n",
    "methods(+)"
   ]
  },
  {
   "cell_type": "code",
   "execution_count": 2,
   "metadata": {},
   "outputs": [
    {
     "data": {
      "text/html": [
       "+(x::<b>T</b>, y::<b>T</b>)<i> where T<:Union{Int128, Int16, Int32, Int64, Int8, UInt128, UInt16, UInt32, UInt64, UInt8}</i> in Base at <a href=\"https://github.com/JuliaLang/julia/tree/5544a0fab7648cfa61fe79cd557a7504a92ec1b5/base/int.jl#L87\" target=\"_blank\">int.jl:87</a>"
      ],
      "text/plain": [
       "+(x::T, y::T) where T<:Union{Int128, Int16, Int32, Int64, Int8, UInt128, UInt16, UInt32, UInt64, UInt8} in Base at int.jl:87"
      ]
     },
     "metadata": {},
     "output_type": "display_data"
    }
   ],
   "source": [
    "@which 3 + 3"
   ]
  },
  {
   "cell_type": "code",
   "execution_count": 3,
   "metadata": {},
   "outputs": [
    {
     "data": {
      "text/html": [
       "+(x::<b>Number</b>, y::<b>Number</b>) in Base at <a href=\"https://github.com/JuliaLang/julia/tree/5544a0fab7648cfa61fe79cd557a7504a92ec1b5/base/promotion.jl#L388\" target=\"_blank\">promotion.jl:388</a>"
      ],
      "text/plain": [
       "+(x::Number, y::Number) in Base at promotion.jl:388"
      ]
     },
     "metadata": {},
     "output_type": "display_data"
    }
   ],
   "source": [
    "@which 3.0 + 3"
   ]
  },
  {
   "cell_type": "code",
   "execution_count": 4,
   "metadata": {},
   "outputs": [
    {
     "data": {
      "text/html": [
       "+(x::<b>T</b>, y::<b>T</b>)<i> where T<:Union{Float16, Float32, Float64}</i> in Base at <a href=\"https://github.com/JuliaLang/julia/tree/5544a0fab7648cfa61fe79cd557a7504a92ec1b5/base/float.jl#L383\" target=\"_blank\">float.jl:383</a>"
      ],
      "text/plain": [
       "+(x::T, y::T) where T<:Union{Float16, Float32, Float64} in Base at float.jl:383"
      ]
     },
     "metadata": {},
     "output_type": "display_data"
    }
   ],
   "source": [
    "@which 3.0 + 3.0 "
   ]
  },
  {
   "cell_type": "code",
   "execution_count": 5,
   "metadata": {},
   "outputs": [],
   "source": [
    "# we can extend +\n",
    "import Base: +"
   ]
  },
  {
   "cell_type": "code",
   "execution_count": 7,
   "metadata": {},
   "outputs": [
    {
     "data": {
      "text/plain": [
       "+ (generic function with 207 methods)"
      ]
     },
     "metadata": {},
     "output_type": "display_data"
    }
   ],
   "source": [
    "+(x::String, y::String) = string(x, y)"
   ]
  },
  {
   "cell_type": "code",
   "execution_count": 8,
   "metadata": {},
   "outputs": [
    {
     "data": {
      "text/html": [
       "+(x::<b>String</b>, y::<b>String</b>) in Main at <a href=\"https://github.com/Benjamin-van-Heerden/julia-learning/tree/6e6bacecd9bd5f237d0fb52c18c221bf8f5a6d1c//julia-academy/introduction_to_julia/other_topics.ipynb#L1\" target=\"_blank\">/home/benjamin-pop/Code/julia-learning/julia-academy/introduction_to_julia/other_topics.ipynb:1</a>"
      ],
      "text/plain": [
       "+(x::String, y::String) in Main at /home/benjamin-pop/Code/julia-learning/julia-academy/introduction_to_julia/other_topics.ipynb:1"
      ]
     },
     "metadata": {},
     "output_type": "display_data"
    }
   ],
   "source": [
    "@which \"hello \" + \"world\""
   ]
  },
  {
   "cell_type": "code",
   "execution_count": 9,
   "metadata": {},
   "outputs": [
    {
     "data": {
      "text/html": [
       "# 1 method for generic function <b>foo</b>:<ul><li> foo(x, y) in Main at <a href=\"https://github.com/Benjamin-van-Heerden/julia-learning/tree/6e6bacecd9bd5f237d0fb52c18c221bf8f5a6d1c//julia-academy/introduction_to_julia/other_topics.ipynb#L1\" target=\"_blank\">/home/benjamin-pop/Code/julia-learning/julia-academy/introduction_to_julia/other_topics.ipynb:1</a></li> </ul>"
      ],
      "text/plain": [
       "# 1 method for generic function \"foo\":\n",
       "[1] foo(x, y) in Main at /home/benjamin-pop/Code/julia-learning/julia-academy/introduction_to_julia/other_topics.ipynb:1"
      ]
     },
     "metadata": {},
     "output_type": "display_data"
    }
   ],
   "source": [
    "foo(x, y) = println(\"s\")\n",
    "methods(foo)"
   ]
  },
  {
   "cell_type": "markdown",
   "metadata": {},
   "source": [
    "# Structs in Julia"
   ]
  },
  {
   "cell_type": "code",
   "execution_count": 12,
   "metadata": {},
   "outputs": [],
   "source": [
    "# structs are similar to classes and types\n",
    "struct MyObj\n",
    "    field1\n",
    "    field2\n",
    "end"
   ]
  },
  {
   "cell_type": "code",
   "execution_count": 13,
   "metadata": {},
   "outputs": [
    {
     "data": {
      "text/plain": [
       "MyObj(\"Hello\", \"World\")"
      ]
     },
     "metadata": {},
     "output_type": "display_data"
    }
   ],
   "source": [
    "myobj1 = MyObj(\"Hello\", \"World\")"
   ]
  },
  {
   "cell_type": "code",
   "execution_count": 14,
   "metadata": {},
   "outputs": [
    {
     "data": {
      "text/plain": [
       "\"Hello\""
      ]
     },
     "metadata": {},
     "output_type": "display_data"
    }
   ],
   "source": [
    "myobj1.field1"
   ]
  },
  {
   "cell_type": "code",
   "execution_count": 15,
   "metadata": {},
   "outputs": [],
   "source": [
    "# structs are immutable by default\n",
    "# can be mutable\n",
    "mutable struct Person\n",
    "    name::String\n",
    "    age::Int8\n",
    "    hobbies::Array{String}\n",
    "end\n"
   ]
  },
  {
   "cell_type": "code",
   "execution_count": 17,
   "metadata": {},
   "outputs": [
    {
     "data": {
      "text/plain": [
       "Person(\"james\", 19, [\"Fishing\", \"Hiking\"])"
      ]
     },
     "metadata": {},
     "output_type": "display_data"
    }
   ],
   "source": [
    "p = Person(\"james\", 19, [\"Fishing\", \"Hiking\"])"
   ]
  },
  {
   "cell_type": "code",
   "execution_count": 18,
   "metadata": {},
   "outputs": [
    {
     "data": {
      "text/plain": [
       "20"
      ]
     },
     "metadata": {},
     "output_type": "display_data"
    }
   ],
   "source": [
    "p.age += 1"
   ]
  },
  {
   "cell_type": "code",
   "execution_count": 20,
   "metadata": {},
   "outputs": [
    {
     "data": {
      "text/plain": [
       "Person(\"james\", 20, [\"Fishing\", \"Hiking\"])"
      ]
     },
     "metadata": {},
     "output_type": "display_data"
    }
   ],
   "source": [
    "p"
   ]
  },
  {
   "cell_type": "code",
   "execution_count": 25,
   "metadata": {},
   "outputs": [],
   "source": [
    "# lets use a custom constructor\n",
    "\n",
    "mutable struct Person2\n",
    "    name::String\n",
    "    age::Int8\n",
    "    isActive::Bool\n",
    "\n",
    "    function Person2(name::String, age::Int8)\n",
    "        new(name, age, true) # this creates the object itself\n",
    "    end\n",
    "end"
   ]
  },
  {
   "cell_type": "code",
   "execution_count": 27,
   "metadata": {},
   "outputs": [
    {
     "data": {
      "text/plain": [
       "Person2(\"john\", 2, true)"
      ]
     },
     "metadata": {},
     "output_type": "display_data"
    }
   ],
   "source": [
    "p2 = Person2(\"john\", convert(Int8, 2))"
   ]
  },
  {
   "cell_type": "code",
   "execution_count": 30,
   "metadata": {},
   "outputs": [
    {
     "data": {
      "text/plain": [
       "Person2(\"john\", 4, true)"
      ]
     },
     "metadata": {},
     "output_type": "display_data"
    }
   ],
   "source": [
    "function birthday!(p::Person2) # again, like both classes and types\n",
    "    p.age += 1\n",
    "end\n",
    "\n",
    "birthday!(p2)\n",
    "p2"
   ]
  },
  {
   "cell_type": "markdown",
   "metadata": {},
   "source": [
    "# Julia is Fast!"
   ]
  },
  {
   "cell_type": "code",
   "execution_count": 33,
   "metadata": {},
   "outputs": [
    {
     "data": {
      "text/plain": [
       "10000000-element Vector{Float64}:\n",
       " 0.561940562376959\n",
       " 0.37527877650414665\n",
       " 0.6247700287536335\n",
       " 0.6005968778290959\n",
       " 0.9626307052147816\n",
       " 0.4443091909537332\n",
       " 0.11787451894652246\n",
       " 0.9728034086971891\n",
       " 0.4896548636021416\n",
       " 0.5868507914251642\n",
       " ⋮\n",
       " 0.9178434536797125\n",
       " 0.3699565436592571\n",
       " 0.6448104409854938\n",
       " 0.3360071916223579\n",
       " 0.17673070746834396\n",
       " 0.2227050114903415\n",
       " 0.5958623628049574\n",
       " 0.46902995190149777\n",
       " 0.2584363033199625"
      ]
     },
     "metadata": {},
     "output_type": "display_data"
    }
   ],
   "source": [
    "a = rand(10^7)"
   ]
  },
  {
   "cell_type": "code",
   "execution_count": 34,
   "metadata": {},
   "outputs": [
    {
     "data": {
      "text/plain": [
       "5.000976656617494e6"
      ]
     },
     "metadata": {},
     "output_type": "display_data"
    }
   ],
   "source": [
    "sum(a)"
   ]
  },
  {
   "cell_type": "code",
   "execution_count": 38,
   "metadata": {},
   "outputs": [],
   "source": [
    "using BenchmarkTools\n",
    "using Libdl"
   ]
  },
  {
   "cell_type": "code",
   "execution_count": 44,
   "metadata": {},
   "outputs": [
    {
     "name": "stderr",
     "output_type": "stream",
     "text": [
      "WARNING: redefinition of constant Clib. This may fail, cause incorrect answers, or produce other errors.\n"
     ]
    },
    {
     "data": {
      "text/plain": [
       "c_sum (generic function with 1 method)"
      ]
     },
     "metadata": {},
     "output_type": "display_data"
    }
   ],
   "source": [
    "# lets compare to c and python - julia can call c natively\n",
    "C_code = \"\"\"\n",
    "#include <stddef.h>\n",
    "double c_sum(size_t n, double *X) {\n",
    "    double s = 0.0;\n",
    "    for (size_t i = 0; i < n; ++i) {\n",
    "        s += X[i];\n",
    "    }\n",
    "    return s;\n",
    "}\n",
    "\"\"\"\n",
    "\n",
    "const Clib = tempname()\n",
    "open(`gcc -fPIC -O3 -msse3 -xc -shared -o $(Clib * \".\" * Libdl.dlext) -`, \"w\") do f\n",
    "    print(f, C_code)\n",
    "end\n",
    "\n",
    "c_sum(X::Array{Float64}) = ccall((\"c_sum\", Clib), Float64, (Csize_t, Ptr{Float64}), length(X), X)"
   ]
  },
  {
   "cell_type": "code",
   "execution_count": 45,
   "metadata": {},
   "outputs": [
    {
     "data": {
      "text/plain": [
       "5.000976656617835e6"
      ]
     },
     "metadata": {},
     "output_type": "display_data"
    }
   ],
   "source": [
    "c_sum(a)"
   ]
  },
  {
   "cell_type": "code",
   "execution_count": 46,
   "metadata": {},
   "outputs": [
    {
     "data": {
      "text/plain": [
       "true"
      ]
     },
     "metadata": {},
     "output_type": "display_data"
    }
   ],
   "source": [
    "c_sum(a) ≈ sum(a)"
   ]
  },
  {
   "cell_type": "code",
   "execution_count": 49,
   "metadata": {},
   "outputs": [
    {
     "data": {
      "text/plain": [
       "isapprox (generic function with 9 methods)"
      ]
     },
     "metadata": {},
     "output_type": "display_data"
    }
   ],
   "source": [
    "# ≈ is an alias for the isapprox function\n",
    "≈"
   ]
  },
  {
   "cell_type": "code",
   "execution_count": 59,
   "metadata": {},
   "outputs": [
    {
     "data": {
      "text/plain": [
       "BenchmarkTools.Trial: 281 samples with 1 evaluation.\n",
       " Range \u001b[90m(\u001b[39m\u001b[36m\u001b[1mmin\u001b[22m\u001b[39m … \u001b[35mmax\u001b[39m\u001b[90m):  \u001b[39m\u001b[36m\u001b[1m10.823 ms\u001b[22m\u001b[39m … \u001b[35m20.503 ms\u001b[39m  \u001b[90m┊\u001b[39m GC \u001b[90m(\u001b[39mmin … max\u001b[90m): \u001b[39m0.00% … 0.00%\n",
       " Time  \u001b[90m(\u001b[39m\u001b[34m\u001b[1mmedian\u001b[22m\u001b[39m\u001b[90m):     \u001b[39m\u001b[34m\u001b[1m18.974 ms              \u001b[22m\u001b[39m\u001b[90m┊\u001b[39m GC \u001b[90m(\u001b[39mmedian\u001b[90m):    \u001b[39m0.00%\n",
       " Time  \u001b[90m(\u001b[39m\u001b[32m\u001b[1mmean\u001b[22m\u001b[39m ± \u001b[32mσ\u001b[39m\u001b[90m):   \u001b[39m\u001b[32m\u001b[1m17.796 ms\u001b[22m\u001b[39m ± \u001b[32m 2.694 ms\u001b[39m  \u001b[90m┊\u001b[39m GC \u001b[90m(\u001b[39mmean ± σ\u001b[90m):  \u001b[39m0.00% ± 0.00%\n",
       "\n",
       "  \u001b[39m \u001b[39m \u001b[39m \u001b[39m \u001b[39m▁\u001b[39m \u001b[39m \u001b[39m \u001b[39m \u001b[39m \u001b[39m \u001b[39m \u001b[39m \u001b[39m \u001b[39m \u001b[39m \u001b[39m \u001b[39m \u001b[39m \u001b[39m \u001b[39m \u001b[39m \u001b[39m \u001b[39m \u001b[39m \u001b[39m \u001b[39m \u001b[39m \u001b[39m \u001b[39m \u001b[39m \u001b[39m \u001b[39m \u001b[39m \u001b[39m \u001b[39m \u001b[39m \u001b[39m \u001b[39m \u001b[39m \u001b[39m \u001b[39m \u001b[39m \u001b[39m \u001b[39m \u001b[39m \u001b[39m \u001b[32m \u001b[39m\u001b[39m \u001b[39m \u001b[39m \u001b[39m \u001b[39m \u001b[39m▁\u001b[39m█\u001b[34m▇\u001b[39m\u001b[39m▄\u001b[39m▁\u001b[39m \u001b[39m \u001b[39m \n",
       "  \u001b[39m▄\u001b[39m▄\u001b[39m▇\u001b[39m▇\u001b[39m█\u001b[39m▇\u001b[39m▅\u001b[39m▆\u001b[39m▅\u001b[39m▇\u001b[39m▄\u001b[39m▆\u001b[39m▅\u001b[39m▄\u001b[39m▄\u001b[39m▄\u001b[39m▁\u001b[39m▄\u001b[39m▄\u001b[39m▁\u001b[39m▁\u001b[39m▁\u001b[39m▅\u001b[39m▁\u001b[39m▄\u001b[39m▁\u001b[39m▁\u001b[39m▄\u001b[39m▁\u001b[39m▁\u001b[39m▁\u001b[39m▄\u001b[39m▁\u001b[39m▁\u001b[39m▁\u001b[39m▁\u001b[39m▁\u001b[39m▁\u001b[39m▁\u001b[39m▁\u001b[39m▁\u001b[39m▄\u001b[39m▁\u001b[39m▁\u001b[39m▁\u001b[39m▁\u001b[39m▁\u001b[32m▁\u001b[39m\u001b[39m▁\u001b[39m▄\u001b[39m▄\u001b[39m▁\u001b[39m▄\u001b[39m█\u001b[39m█\u001b[34m█\u001b[39m\u001b[39m█\u001b[39m█\u001b[39m▇\u001b[39m \u001b[39m▅\n",
       "  10.8 ms\u001b[90m      \u001b[39m\u001b[90mHistogram: \u001b[39m\u001b[90m\u001b[1mlog(\u001b[22m\u001b[39m\u001b[90mfrequency\u001b[39m\u001b[90m\u001b[1m)\u001b[22m\u001b[39m\u001b[90m by time\u001b[39m      19.6 ms \u001b[0m\u001b[1m<\u001b[22m\n",
       "\n",
       " Memory estimate\u001b[90m: \u001b[39m\u001b[33m0 bytes\u001b[39m, allocs estimate\u001b[90m: \u001b[39m\u001b[33m0\u001b[39m."
      ]
     },
     "metadata": {},
     "output_type": "display_data"
    }
   ],
   "source": [
    "c_bench = @benchmark c_sum($a)"
   ]
  },
  {
   "cell_type": "code",
   "execution_count": 60,
   "metadata": {},
   "outputs": [
    {
     "data": {
      "text/plain": [
       "BenchmarkTools.Trial: 1107 samples with 1 evaluation.\n",
       " Range \u001b[90m(\u001b[39m\u001b[36m\u001b[1mmin\u001b[22m\u001b[39m … \u001b[35mmax\u001b[39m\u001b[90m):  \u001b[39m\u001b[36m\u001b[1m3.963 ms\u001b[22m\u001b[39m … \u001b[35m  6.152 ms\u001b[39m  \u001b[90m┊\u001b[39m GC \u001b[90m(\u001b[39mmin … max\u001b[90m): \u001b[39m0.00% … 0.00%\n",
       " Time  \u001b[90m(\u001b[39m\u001b[34m\u001b[1mmedian\u001b[22m\u001b[39m\u001b[90m):     \u001b[39m\u001b[34m\u001b[1m4.288 ms               \u001b[22m\u001b[39m\u001b[90m┊\u001b[39m GC \u001b[90m(\u001b[39mmedian\u001b[90m):    \u001b[39m0.00%\n",
       " Time  \u001b[90m(\u001b[39m\u001b[32m\u001b[1mmean\u001b[22m\u001b[39m ± \u001b[32mσ\u001b[39m\u001b[90m):   \u001b[39m\u001b[32m\u001b[1m4.507 ms\u001b[22m\u001b[39m ± \u001b[32m460.071 μs\u001b[39m  \u001b[90m┊\u001b[39m GC \u001b[90m(\u001b[39mmean ± σ\u001b[90m):  \u001b[39m0.00% ± 0.00%\n",
       "\n",
       "  \u001b[39m \u001b[39m \u001b[39m \u001b[39m▇\u001b[39m▇\u001b[39m█\u001b[39m▅\u001b[39m▃\u001b[39m▄\u001b[39m▂\u001b[39m▁\u001b[34m \u001b[39m\u001b[39m \u001b[39m \u001b[39m \u001b[39m \u001b[39m \u001b[39m \u001b[32m \u001b[39m\u001b[39m \u001b[39m \u001b[39m \u001b[39m \u001b[39m \u001b[39m \u001b[39m \u001b[39m \u001b[39m \u001b[39m \u001b[39m \u001b[39m \u001b[39m \u001b[39m \u001b[39m \u001b[39m \u001b[39m \u001b[39m \u001b[39m \u001b[39m \u001b[39m \u001b[39m \u001b[39m \u001b[39m \u001b[39m \u001b[39m \u001b[39m \u001b[39m \u001b[39m \u001b[39m \u001b[39m \u001b[39m \u001b[39m \u001b[39m \u001b[39m \u001b[39m \u001b[39m \u001b[39m \u001b[39m \u001b[39m \u001b[39m \u001b[39m \n",
       "  \u001b[39m▂\u001b[39m▁\u001b[39m▃\u001b[39m█\u001b[39m█\u001b[39m█\u001b[39m█\u001b[39m█\u001b[39m█\u001b[39m█\u001b[39m█\u001b[34m█\u001b[39m\u001b[39m▆\u001b[39m▅\u001b[39m▄\u001b[39m▄\u001b[39m▄\u001b[39m▃\u001b[32m▄\u001b[39m\u001b[39m▄\u001b[39m▄\u001b[39m▄\u001b[39m▄\u001b[39m▄\u001b[39m▄\u001b[39m▃\u001b[39m▃\u001b[39m▄\u001b[39m▄\u001b[39m▅\u001b[39m▄\u001b[39m▅\u001b[39m▄\u001b[39m▄\u001b[39m▅\u001b[39m▅\u001b[39m▄\u001b[39m▅\u001b[39m▄\u001b[39m▃\u001b[39m▃\u001b[39m▃\u001b[39m▃\u001b[39m▃\u001b[39m▂\u001b[39m▃\u001b[39m▄\u001b[39m▃\u001b[39m▃\u001b[39m▂\u001b[39m▃\u001b[39m▃\u001b[39m▂\u001b[39m▃\u001b[39m▃\u001b[39m▂\u001b[39m▃\u001b[39m▂\u001b[39m▂\u001b[39m \u001b[39m▄\n",
       "  3.96 ms\u001b[90m         Histogram: frequency by time\u001b[39m        5.78 ms \u001b[0m\u001b[1m<\u001b[22m\n",
       "\n",
       " Memory estimate\u001b[90m: \u001b[39m\u001b[33m16 bytes\u001b[39m, allocs estimate\u001b[90m: \u001b[39m\u001b[33m1\u001b[39m."
      ]
     },
     "metadata": {},
     "output_type": "display_data"
    }
   ],
   "source": [
    "julia_bench = @benchmark sum(a)"
   ]
  },
  {
   "cell_type": "code",
   "execution_count": 63,
   "metadata": {},
   "outputs": [],
   "source": [
    "using PyCall"
   ]
  },
  {
   "cell_type": "code",
   "execution_count": 66,
   "metadata": {},
   "outputs": [
    {
     "data": {
      "text/plain": [
       "PyObject <built-in function sum>"
      ]
     },
     "metadata": {},
     "output_type": "display_data"
    }
   ],
   "source": [
    "apy_list = PyCall.array2py(a)\n",
    "pysum = pybuiltin(\"sum\")"
   ]
  },
  {
   "cell_type": "code",
   "execution_count": 67,
   "metadata": {},
   "outputs": [
    {
     "data": {
      "text/plain": [
       "5.000976656617835e6"
      ]
     },
     "metadata": {},
     "output_type": "display_data"
    }
   ],
   "source": [
    "pysum(a)"
   ]
  },
  {
   "cell_type": "code",
   "execution_count": 68,
   "metadata": {},
   "outputs": [
    {
     "data": {
      "text/plain": [
       "true"
      ]
     },
     "metadata": {},
     "output_type": "display_data"
    }
   ],
   "source": [
    "pysum(a) ≈ sum(a)"
   ]
  },
  {
   "cell_type": "code",
   "execution_count": 69,
   "metadata": {},
   "outputs": [
    {
     "data": {
      "text/plain": [
       "BenchmarkTools.Trial: 5 samples with 1 evaluation.\n",
       " Range \u001b[90m(\u001b[39m\u001b[36m\u001b[1mmin\u001b[22m\u001b[39m … \u001b[35mmax\u001b[39m\u001b[90m):  \u001b[39m\u001b[36m\u001b[1m1.132 s\u001b[22m\u001b[39m … \u001b[35m 1.146 s\u001b[39m  \u001b[90m┊\u001b[39m GC \u001b[90m(\u001b[39mmin … max\u001b[90m): \u001b[39m0.00% … 0.00%\n",
       " Time  \u001b[90m(\u001b[39m\u001b[34m\u001b[1mmedian\u001b[22m\u001b[39m\u001b[90m):     \u001b[39m\u001b[34m\u001b[1m1.139 s             \u001b[22m\u001b[39m\u001b[90m┊\u001b[39m GC \u001b[90m(\u001b[39mmedian\u001b[90m):    \u001b[39m0.00%\n",
       " Time  \u001b[90m(\u001b[39m\u001b[32m\u001b[1mmean\u001b[22m\u001b[39m ± \u001b[32mσ\u001b[39m\u001b[90m):   \u001b[39m\u001b[32m\u001b[1m1.139 s\u001b[22m\u001b[39m ± \u001b[32m6.907 ms\u001b[39m  \u001b[90m┊\u001b[39m GC \u001b[90m(\u001b[39mmean ± σ\u001b[90m):  \u001b[39m0.00% ± 0.00%\n",
       "\n",
       "  \u001b[39m▁\u001b[39m \u001b[39m \u001b[39m \u001b[39m▁\u001b[34m \u001b[39m\u001b[39m \u001b[39m \u001b[39m \u001b[39m \u001b[39m \u001b[39m \u001b[39m \u001b[39m \u001b[39m \u001b[39m \u001b[39m \u001b[39m \u001b[39m \u001b[39m \u001b[39m \u001b[39m \u001b[39m \u001b[39m \u001b[39m \u001b[39m \u001b[39m \u001b[39m▁\u001b[39m \u001b[32m \u001b[39m\u001b[39m \u001b[39m \u001b[39m \u001b[39m \u001b[39m \u001b[39m \u001b[39m \u001b[39m \u001b[39m \u001b[39m \u001b[39m \u001b[39m \u001b[39m \u001b[39m \u001b[39m \u001b[39m \u001b[39m \u001b[39m \u001b[39m \u001b[39m \u001b[39m \u001b[39m \u001b[39m \u001b[39m \u001b[39m \u001b[39m█\u001b[39m \u001b[39m \n",
       "  \u001b[39m█\u001b[39m▁\u001b[39m▁\u001b[39m▁\u001b[39m█\u001b[34m▁\u001b[39m\u001b[39m▁\u001b[39m▁\u001b[39m▁\u001b[39m▁\u001b[39m▁\u001b[39m▁\u001b[39m▁\u001b[39m▁\u001b[39m▁\u001b[39m▁\u001b[39m▁\u001b[39m▁\u001b[39m▁\u001b[39m▁\u001b[39m▁\u001b[39m▁\u001b[39m▁\u001b[39m▁\u001b[39m▁\u001b[39m▁\u001b[39m▁\u001b[39m█\u001b[39m▁\u001b[32m▁\u001b[39m\u001b[39m▁\u001b[39m▁\u001b[39m▁\u001b[39m▁\u001b[39m▁\u001b[39m▁\u001b[39m▁\u001b[39m▁\u001b[39m▁\u001b[39m▁\u001b[39m▁\u001b[39m▁\u001b[39m▁\u001b[39m▁\u001b[39m▁\u001b[39m▁\u001b[39m▁\u001b[39m▁\u001b[39m▁\u001b[39m▁\u001b[39m▁\u001b[39m▁\u001b[39m▁\u001b[39m▁\u001b[39m▁\u001b[39m█\u001b[39m \u001b[39m▁\n",
       "  1.13 s\u001b[90m        Histogram: frequency by time\u001b[39m        1.15 s \u001b[0m\u001b[1m<\u001b[22m\n",
       "\n",
       " Memory estimate\u001b[90m: \u001b[39m\u001b[33m240 bytes\u001b[39m, allocs estimate\u001b[90m: \u001b[39m\u001b[33m6\u001b[39m."
      ]
     },
     "metadata": {},
     "output_type": "display_data"
    }
   ],
   "source": [
    "py_bench = @benchmark pysum(a)"
   ]
  },
  {
   "cell_type": "code",
   "execution_count": 71,
   "metadata": {},
   "outputs": [
    {
     "name": "stderr",
     "output_type": "stream",
     "text": [
      "┌ Info: Downloading miniconda installer ...\n",
      "└ @ Conda /home/benjamin-pop/.julia/packages/Conda/x2UxR/src/Conda.jl:193\n"
     ]
    },
    {
     "name": "stdout",
     "output_type": "stream",
     "text": [
      "PREFIX=/home/benjamin-pop/.julia/conda/3\n"
     ]
    },
    {
     "name": "stderr",
     "output_type": "stream",
     "text": [
      "┌ Info: Installing miniconda ...\n",
      "└ @ Conda /home/benjamin-pop/.julia/packages/Conda/x2UxR/src/Conda.jl:203\n"
     ]
    },
    {
     "name": "stdout",
     "output_type": "stream",
     "text": [
      "Unpacking payload ...\n"
     ]
    },
    {
     "name": "stdout",
     "output_type": "stream",
     "text": [
      "Extracting python-3.10.6-h582c2e5_0_cpython.tar.bz2\n"
     ]
    },
    {
     "name": "stdout",
     "output_type": "stream",
     "text": [
      "Extracting _libgcc_mutex-0.1-conda_forge.tar.bz2\n",
      "Extracting ca-certificates-2022.6.15-ha878542_0.tar.bz2\n"
     ]
    },
    {
     "name": "stdout",
     "output_type": "stream",
     "text": [
      "Extracting ld_impl_linux-64-2.36.1-hea4e1c9_2.tar.bz2\n"
     ]
    },
    {
     "name": "stdout",
     "output_type": "stream",
     "text": [
      "Extracting tzdata-2022c-h191b570_0.tar.bz2\n"
     ]
    },
    {
     "name": "stdout",
     "output_type": "stream",
     "text": [
      "Extracting libgomp-12.1.0-h8d9b700_16.tar.bz2\n"
     ]
    },
    {
     "name": "stdout",
     "output_type": "stream",
     "text": [
      "Extracting _openmp_mutex-4.5-2_gnu.tar.bz2\n",
      "Extracting libgcc-ng-12.1.0-h8d9b700_16.tar.bz2\n"
     ]
    },
    {
     "name": "stdout",
     "output_type": "stream",
     "text": [
      "Extracting bzip2-1.0.8-h7f98852_4.tar.bz2\n"
     ]
    },
    {
     "name": "stdout",
     "output_type": "stream",
     "text": [
      "Extracting libffi-3.4.2-h7f98852_5.tar.bz2\n",
      "Extracting libnsl-2.0.0-h7f98852_0.tar.bz2\n",
      "Extracting libuuid-2.32.1-h7f98852_1000.tar.bz2\n",
      "Extracting libzlib-1.2.12-h166bdaf_2.tar.bz2\n",
      "Extracting ncurses-6.3-h27087fc_1.tar.bz2\n"
     ]
    },
    {
     "name": "stdout",
     "output_type": "stream",
     "text": [
      "Extracting openssl-1.1.1q-h166bdaf_0.tar.bz2\n"
     ]
    },
    {
     "name": "stdout",
     "output_type": "stream",
     "text": [
      "Extracting xz-5.2.6-h166bdaf_0.tar.bz2\n"
     ]
    },
    {
     "name": "stdout",
     "output_type": "stream",
     "text": [
      "Extracting yaml-0.2.5-h7f98852_2.tar.bz2\n",
      "Extracting libsqlite-3.39.2-h753d276_1.tar.bz2\n"
     ]
    },
    {
     "name": "stdout",
     "output_type": "stream",
     "text": [
      "Extracting readline-8.1.2-h0f457ee_0.tar.bz2\n",
      "Extracting tk-8.6.12-h27826a3_0.tar.bz2\n"
     ]
    },
    {
     "name": "stdout",
     "output_type": "stream",
     "text": [
      "Extracting charset-normalizer-2.1.1-pyhd8ed1ab_0.tar.bz2\n",
      "Extracting colorama-0.4.5-pyhd8ed1ab_0.tar.bz2\n",
      "Extracting idna-3.3-pyhd8ed1ab_0.tar.bz2\n"
     ]
    },
    {
     "name": "stdout",
     "output_type": "stream",
     "text": [
      "Extracting pycparser-2.21-pyhd8ed1ab_0.tar.bz2\n",
      "Extracting python_abi-3.10-2_cp310.tar.bz2\n",
      "Extracting six-1.16.0-pyh6c4a22f_0.tar.bz2\n",
      "Extracting toolz-0.12.0-pyhd8ed1ab_0.tar.bz2\n",
      "Extracting wheel-0.37.1-pyhd8ed1ab_0.tar.bz2\n",
      "Extracting certifi-2022.6.15-py310hff52083_0.tar.bz2\n",
      "Extracting cffi-1.15.1-py310h255011f_0.tar.bz2\n"
     ]
    },
    {
     "name": "stdout",
     "output_type": "stream",
     "text": [
      "Extracting pycosat-0.6.3-py310h5764c6d_1010.tar.bz2\n",
      "Extracting pysocks-1.7.1-py310hff52083_5.tar.bz2\n",
      "Extracting ruamel_yaml-0.15.80-py310h5764c6d_1007.tar.bz2\n",
      "Extracting setuptools-65.2.0-py310hff52083_0.tar.bz2\n"
     ]
    },
    {
     "name": "stdout",
     "output_type": "stream",
     "text": [
      "Extracting tqdm-4.64.0-pyhd8ed1ab_0.tar.bz2\n"
     ]
    },
    {
     "name": "stdout",
     "output_type": "stream",
     "text": [
      "Extracting brotlipy-0.7.0-py310h5764c6d_1004.tar.bz2\n",
      "Extracting conda-package-handling-1.8.1-py310h5764c6d_1.tar.bz2\n"
     ]
    },
    {
     "name": "stdout",
     "output_type": "stream",
     "text": [
      "Extracting cryptography-37.0.4-py310h597c629_0.tar.bz2\n"
     ]
    },
    {
     "name": "stdout",
     "output_type": "stream",
     "text": [
      "Extracting pip-22.2.2-pyhd8ed1ab_0.tar.bz2\n"
     ]
    },
    {
     "name": "stdout",
     "output_type": "stream",
     "text": [
      "Extracting pyopenssl-22.0.0-pyhd8ed1ab_0.tar.bz2\n",
      "Extracting urllib3-1.26.11-pyhd8ed1ab_0.tar.bz2\n",
      "Extracting requests-2.28.1-pyhd8ed1ab_0.tar.bz2\n",
      "Extracting conda-4.14.0-py310hff52083_0.tar.bz2\n"
     ]
    },
    {
     "name": "stdout",
     "output_type": "stream",
     "text": [
      "\n",
      "                                           __\n",
      "          __  ______ ___  ____ _____ ___  / /_  ____ _\n",
      "         / / / / __ `__ \\/ __ `/ __ `__ \\/ __ \\/ __ `/\n",
      "        / /_/ / / / / / / /_/ / / / / / / /_/ / /_/ /\n",
      "       / .___/_/ /_/ /_/\\__,_/_/ /_/ /_/_.___/\\__,_/\n",
      "      /_/\n",
      "\n",
      "conda-forge/linux-64                                        Using cache\n",
      "conda-forge/noarch                                          Using cache\n"
     ]
    },
    {
     "name": "stdout",
     "output_type": "stream",
     "text": [
      "\n",
      "Transaction\n",
      "\n",
      "  Prefix: /home/benjamin-pop/.julia/conda/3\n",
      "\n",
      "  Updating specs:\n",
      "\n",
      "   - python==3.10.6=h582c2e5_0_cpython\n",
      "   - _libgcc_mutex==0.1=conda_forge\n",
      "   - ca-certificates==2022.6.15=ha878542_0\n",
      "   - ld_impl_linux-64==2.36.1=hea4e1c9_2\n",
      "   - tzdata==2022c=h191b570_0\n",
      "   - libgomp==12.1.0=h8d9b700_16\n",
      "   - _openmp_mutex==4.5=2_gnu\n",
      "   - libgcc-ng==12.1.0=h8d9b700_16\n",
      "   - bzip2==1.0.8=h7f98852_4\n",
      "   - libffi==3.4.2=h7f98852_5\n",
      "   - libnsl==2.0.0=h7f98852_0\n",
      "   - libuuid==2.32.1=h7f98852_1000\n",
      "   - libzlib==1.2.12=h166bdaf_2\n",
      "   - ncurses==6.3=h27087fc_1\n",
      "   - openssl==1.1.1q=h166bdaf_0\n",
      "   - xz==5.2.6=h166bdaf_0\n",
      "   - yaml==0.2.5=h7f98852_2\n",
      "   - libsqlite==3.39.2=h753d276_1\n",
      "   - readline==8.1.2=h0f457ee_0\n",
      "   - tk==8.6.12=h27826a3_0\n",
      "   - charset-normalizer==2.1.1=pyhd8ed1ab_0\n",
      "   - colorama==0.4.5=pyhd8ed1ab_0\n",
      "   - idna==3.3=pyhd8ed1ab_0\n",
      "   - pycparser==2.21=pyhd8ed1ab_0\n",
      "   - python_abi==3.10=2_cp310\n",
      "   - six==1.16.0=pyh6c4a22f_0\n",
      "   - toolz==0.12.0=pyhd8ed1ab_0\n",
      "   - wheel==0.37.1=pyhd8ed1ab_0\n",
      "   - certifi==2022.6.15=py310hff52083_0\n",
      "   - cffi==1.15.1=py310h255011f_0\n",
      "   - pycosat==0.6.3=py310h5764c6d_1010\n",
      "   - pysocks==1.7.1=py310hff52083_5\n",
      "   - ruamel_yaml==0.15.80=py310h5764c6d_1007\n",
      "   - setuptools==65.2.0=py310hff52083_0\n",
      "   - tqdm==4.64.0=pyhd8ed1ab_0\n",
      "   - brotlipy==0.7.0=py310h5764c6d_1004\n",
      "   - conda-package-handling==1.8.1=py310h5764c6d_1\n",
      "   - cryptography==37.0.4=py310h597c629_0\n",
      "   - pip==22.2.2=pyhd8ed1ab_0\n",
      "   - pyopenssl==22.0.0=pyhd8ed1ab_0\n",
      "   - urllib3==1.26.11=pyhd8ed1ab_0\n",
      "   - requests==2.28.1=pyhd8ed1ab_0\n",
      "   - conda==4.14.0=py310hff52083_0\n",
      "\n",
      "\n",
      "  Package                     Version  Build               Channel                    Size\n",
      "────────────────────────────────────────────────────────────────────────────────────────────\n",
      "  Install:\n",
      "────────────────────────────────────────────────────────────────────────────────────────────\n",
      "\n",
      "  + _libgcc_mutex                 0.1  conda_forge         conda-forge/linux-64     Cached\n",
      "  + _openmp_mutex                 4.5  2_gnu               conda-forge/linux-64     Cached\n",
      "  + brotlipy                    0.7.0  py310h5764c6d_1004  conda-forge/linux-64     Cached\n",
      "  + bzip2                       1.0.8  h7f98852_4          conda-forge/linux-64     Cached\n",
      "  + ca-certificates         2022.6.15  ha878542_0          conda-forge/linux-64     Cached\n",
      "  + certifi                 2022.6.15  py310hff52083_0     conda-forge/linux-64     Cached\n",
      "  + cffi                       1.15.1  py310h255011f_0     conda-forge/linux-64     Cached\n",
      "  + charset-normalizer          2.1.1  pyhd8ed1ab_0        conda-forge/noarch       Cached\n",
      "  + colorama                    0.4.5  pyhd8ed1ab_0        conda-forge/noarch       Cached\n",
      "  + conda                      4.14.0  py310hff52083_0     conda-forge/linux-64     Cached\n",
      "  + conda-package-handling      1.8.1  py310h5764c6d_1     conda-forge/linux-64     Cached\n",
      "  + cryptography               37.0.4  py310h597c629_0     conda-forge/linux-64     Cached\n",
      "  + idna                          3.3  pyhd8ed1ab_0        conda-forge/noarch       Cached\n",
      "  + ld_impl_linux-64           2.36.1  hea4e1c9_2          conda-forge/linux-64     Cached\n",
      "  + libffi                      3.4.2  h7f98852_5          conda-forge/linux-64     Cached\n",
      "  + libgcc-ng                  12.1.0  h8d9b700_16         conda-forge/linux-64     Cached\n",
      "  + libgomp                    12.1.0  h8d9b700_16         conda-forge/linux-64     Cached\n",
      "  + libnsl                      2.0.0  h7f98852_0          conda-forge/linux-64     Cached\n",
      "  + libsqlite                  3.39.2  h753d276_1          conda-forge/linux-64     Cached\n",
      "  + libuuid                    2.32.1  h7f98852_1000       conda-forge/linux-64     Cached\n",
      "  + libzlib                    1.2.12  h166bdaf_2          conda-forge/linux-64     Cached\n",
      "  + ncurses                       6.3  h27087fc_1          conda-forge/linux-64     Cached\n",
      "  + openssl                    1.1.1q  h166bdaf_0          conda-forge/linux-64     Cached\n",
      "  + pip                        22.2.2  pyhd8ed1ab_0        conda-forge/noarch       Cached\n",
      "  + pycosat                     0.6.3  py310h5764c6d_1010  conda-forge/linux-64     Cached\n",
      "  + pycparser                    2.21  pyhd8ed1ab_0        conda-forge/noarch       Cached\n",
      "  + pyopenssl                  22.0.0  pyhd8ed1ab_0        conda-forge/noarch       Cached\n",
      "  + pysocks                     1.7.1  py310hff52083_5     conda-forge/linux-64     Cached\n",
      "  + python                     3.10.6  h582c2e5_0_cpython  conda-forge/linux-64     Cached\n",
      "  + python_abi                   3.10  2_cp310             conda-forge/linux-64     Cached\n",
      "  + readline                    8.1.2  h0f457ee_0          conda-forge/linux-64     Cached\n",
      "  + requests                   2.28.1  pyhd8ed1ab_0        conda-forge/noarch       Cached\n",
      "  + ruamel_yaml               0.15.80  py310h5764c6d_1007  conda-forge/linux-64     Cached\n",
      "  + setuptools                 65.2.0  py310hff52083_0     conda-forge/linux-64     Cached\n",
      "  + six                        1.16.0  pyh6c4a22f_0        conda-forge/noarch       Cached\n",
      "  + tk                         8.6.12  h27826a3_0          conda-forge/linux-64     Cached\n",
      "  + toolz                      0.12.0  pyhd8ed1ab_0        conda-forge/noarch       Cached\n",
      "  + tqdm                       4.64.0  pyhd8ed1ab_0        conda-forge/noarch       Cached\n",
      "  + tzdata                      2022c  h191b570_0          conda-forge/noarch       Cached\n",
      "  + urllib3                   1.26.11  pyhd8ed1ab_0        conda-forge/noarch       Cached\n",
      "  + wheel                      0.37.1  pyhd8ed1ab_0        conda-forge/noarch       Cached\n",
      "  + xz                          5.2.6  h166bdaf_0          conda-forge/linux-64     Cached\n",
      "  + yaml                        0.2.5  h7f98852_2          conda-forge/linux-64     Cached\n",
      "\n",
      "  Summary:\n",
      "\n",
      "  Install: 43 packages\n",
      "\n",
      "  Total download: 0 B\n",
      "\n",
      "────────────────────────────────────────────────────────────────────────────────────────────\n",
      "\n",
      "\n",
      "Transaction starting\n",
      "Linking _libgcc_mutex-0.1-conda_forge\n",
      "Linking ca-certificates-2022.6.15-ha878542_0\n",
      "Linking ld_impl_linux-64-2.36.1-hea4e1c9_2\n",
      "Linking libgomp-12.1.0-h8d9b700_16\n",
      "Linking _openmp_mutex-4.5-2_gnu\n"
     ]
    },
    {
     "name": "stdout",
     "output_type": "stream",
     "text": [
      "Linking libgcc-ng-12.1.0-h8d9b700_16\n",
      "Linking yaml-0.2.5-h7f98852_2\n",
      "Linking xz-5.2.6-h166bdaf_0\n",
      "Linking openssl-1.1.1q-h166bdaf_0\n",
      "Linking ncurses-6.3-h27087fc_1\n"
     ]
    },
    {
     "name": "stdout",
     "output_type": "stream",
     "text": [
      "Linking libzlib-1.2.12-h166bdaf_2\n",
      "Linking libuuid-2.32.1-h7f98852_1000\n",
      "Linking libnsl-2.0.0-h7f98852_0\n",
      "Linking libffi-3.4.2-h7f98852_5\n",
      "Linking bzip2-1.0.8-h7f98852_4\n",
      "Linking readline-8.1.2-h0f457ee_0\n",
      "Linking tk-8.6.12-h27826a3_0\n",
      "Linking libsqlite-3.39.2-h753d276_1\n",
      "Linking tzdata-2022c-h191b570_0\n",
      "Linking python-3.10.6-h582c2e5_0_cpython\n"
     ]
    },
    {
     "name": "stdout",
     "output_type": "stream",
     "text": [
      "Linking python_abi-3.10-2_cp310\n",
      "Linking setuptools-65.2.0-py310hff52083_0\n",
      "Linking wheel-0.37.1-pyhd8ed1ab_0\n"
     ]
    },
    {
     "name": "stdout",
     "output_type": "stream",
     "text": [
      "Linking pip-22.2.2-pyhd8ed1ab_0\n",
      "Linking toolz-0.12.0-pyhd8ed1ab_0\n",
      "Linking six-1.16.0-pyh6c4a22f_0\n",
      "Linking pycparser-2.21-pyhd8ed1ab_0\n",
      "Linking idna-3.3-pyhd8ed1ab_0\n",
      "Linking colorama-0.4.5-pyhd8ed1ab_0\n",
      "Linking charset-normalizer-2.1.1-pyhd8ed1ab_0\n",
      "Linking tqdm-4.64.0-pyhd8ed1ab_0\n",
      "Linking ruamel_yaml-0.15.80-py310h5764c6d_1007\n",
      "Linking pysocks-1.7.1-py310hff52083_5\n"
     ]
    },
    {
     "name": "stdout",
     "output_type": "stream",
     "text": [
      "Linking pycosat-0.6.3-py310h5764c6d_1010\n",
      "Linking certifi-2022.6.15-py310hff52083_0\n",
      "Linking cffi-1.15.1-py310h255011f_0\n",
      "Linking conda-package-handling-1.8.1-py310h5764c6d_1\n",
      "Linking cryptography-37.0.4-py310h597c629_0\n",
      "Linking brotlipy-0.7.0-py310h5764c6d_1004\n",
      "Linking pyopenssl-22.0.0-pyhd8ed1ab_0\n",
      "Linking urllib3-1.26.11-pyhd8ed1ab_0\n",
      "Linking requests-2.28.1-pyhd8ed1ab_0\n",
      "Linking conda-4.14.0-py310hff52083_0\n"
     ]
    },
    {
     "name": "stdout",
     "output_type": "stream",
     "text": [
      "Transaction finished\n",
      "installation finished.\n"
     ]
    },
    {
     "name": "stderr",
     "output_type": "stream",
     "text": [
      "┌ Info: Running `conda install -y numpy` in root environment\n",
      "└ @ Conda /home/benjamin-pop/.julia/packages/Conda/x2UxR/src/Conda.jl:127\n"
     ]
    },
    {
     "name": "stdout",
     "output_type": "stream",
     "text": [
      "Collecting package metadata (current_repodata.json): ...working... "
     ]
    },
    {
     "name": "stdout",
     "output_type": "stream",
     "text": [
      "done\n",
      "Solving environment: ...working... "
     ]
    },
    {
     "name": "stdout",
     "output_type": "stream",
     "text": [
      "done\n"
     ]
    },
    {
     "name": "stdout",
     "output_type": "stream",
     "text": [
      "\n",
      "## Package Plan ##\n",
      "\n",
      "  environment location: /home/benjamin-pop/.julia/conda/3\n",
      "\n",
      "  added / updated specs:\n",
      "    - numpy\n",
      "\n",
      "\n",
      "The following packages will be downloaded:\n",
      "\n",
      "    package                    |            build\n",
      "    ---------------------------|-----------------\n",
      "    ca-certificates-2022.6.15.1|       ha878542_0         150 KB  conda-forge\n",
      "    certifi-2022.6.15.1        |     pyhd8ed1ab_0         155 KB  conda-forge\n",
      "    libblas-3.9.0              |16_linux64_openblas          13 KB  conda-forge\n",
      "    libcblas-3.9.0             |16_linux64_openblas          13 KB  conda-forge\n",
      "    libgfortran-ng-12.1.0      |      h69a702a_16          23 KB  conda-forge\n",
      "    libgfortran5-12.1.0        |      hdcd56e2_16         1.8 MB  conda-forge\n",
      "    liblapack-3.9.0            |16_linux64_openblas          13 KB  conda-forge\n",
      "    libopenblas-0.3.21         |pthreads_h78a6416_3        10.1 MB  conda-forge\n",
      "    libstdcxx-ng-12.1.0        |      ha89aaad_16         4.3 MB  conda-forge\n",
      "    numpy-1.23.2               |  py310h53a5b5f_0         7.1 MB  conda-forge\n",
      "    ------------------------------------------------------------\n",
      "                                           Total:        23.6 MB\n",
      "\n",
      "The following NEW packages will be INSTALLED:\n",
      "\n",
      "  libblas            conda-forge/linux-64::libblas-3.9.0-16_linux64_openblas\n",
      "  libcblas           conda-forge/linux-64::libcblas-3.9.0-16_linux64_openblas\n",
      "  libgfortran-ng     conda-forge/linux-64::libgfortran-ng-12.1.0-h69a702a_16\n",
      "  libgfortran5       conda-forge/linux-64::libgfortran5-12.1.0-hdcd56e2_16\n",
      "  liblapack          conda-forge/linux-64::liblapack-3.9.0-16_linux64_openblas\n",
      "  libopenblas        conda-forge/linux-64::libopenblas-0.3.21-pthreads_h78a6416_3\n",
      "  libstdcxx-ng       conda-forge/linux-64::libstdcxx-ng-12.1.0-ha89aaad_16\n",
      "  numpy              conda-forge/linux-64::numpy-1.23.2-py310h53a5b5f_0\n",
      "\n",
      "The following packages will be UPDATED:\n",
      "\n",
      "  ca-certificates                      2022.6.15-ha878542_0 --> 2022.6.15.1-ha878542_0\n",
      "  certifi            conda-forge/linux-64::certifi-2022.6.~ --> conda-forge/noarch::certifi-2022.6.15.1-pyhd8ed1ab_0\n",
      "\n",
      "\n",
      "\n",
      "Downloading and Extracting Packages\n",
      "\rlibcblas-3.9.0       | 13 KB     |            |   0% "
     ]
    },
    {
     "name": "stdout",
     "output_type": "stream",
     "text": [
      "\rlibcblas-3.9.0       | 13 KB     | ########## | 100% \n",
      "\rlibstdcxx-ng-12.1.0  | 4.3 MB    |            |   0% "
     ]
    },
    {
     "name": "stdout",
     "output_type": "stream",
     "text": [
      "\rlibstdcxx-ng-12.1.0  | 4.3 MB    | #3         |  13% "
     ]
    },
    {
     "name": "stdout",
     "output_type": "stream",
     "text": [
      "\rlibstdcxx-ng-12.1.0  | 4.3 MB    | ####2      |  43% "
     ]
    },
    {
     "name": "stdout",
     "output_type": "stream",
     "text": [
      "\rlibstdcxx-ng-12.1.0  | 4.3 MB    | ######9    |  70% "
     ]
    },
    {
     "name": "stdout",
     "output_type": "stream",
     "text": [
      "\rlibstdcxx-ng-12.1.0  | 4.3 MB    | #########8 |  99% "
     ]
    },
    {
     "name": "stdout",
     "output_type": "stream",
     "text": [
      "\rlibstdcxx-ng-12.1.0  | 4.3 MB    | ########## | 100% \n",
      "\rcertifi-2022.6.15.1  | 155 KB    |            |   0% "
     ]
    },
    {
     "name": "stdout",
     "output_type": "stream",
     "text": [
      "\rcertifi-2022.6.15.1  | 155 KB    | ########## | 100% \n",
      "\rliblapack-3.9.0      | 13 KB     |            |   0% \rliblapack-3.9.0      | 13 KB     | ########## | 100% \n",
      "\rlibblas-3.9.0        | 13 KB     |            |   0% "
     ]
    },
    {
     "name": "stdout",
     "output_type": "stream",
     "text": [
      "\rlibblas-3.9.0        | 13 KB     | ########## | 100% \n",
      "\rlibgfortran-ng-12.1. | 23 KB     |            |   0% \rlibgfortran-ng-12.1. | 23 KB     | ########## | 100% \n",
      "\rnumpy-1.23.2         | 7.1 MB    |            |   0% "
     ]
    },
    {
     "name": "stdout",
     "output_type": "stream",
     "text": [
      "\rnumpy-1.23.2         | 7.1 MB    | #1         |  11% "
     ]
    },
    {
     "name": "stdout",
     "output_type": "stream",
     "text": [
      "\rnumpy-1.23.2         | 7.1 MB    | ##6        |  26% "
     ]
    },
    {
     "name": "stdout",
     "output_type": "stream",
     "text": [
      "\rnumpy-1.23.2         | 7.1 MB    | ####4      |  44% "
     ]
    },
    {
     "name": "stdout",
     "output_type": "stream",
     "text": [
      "\rnumpy-1.23.2         | 7.1 MB    | #####9     |  59% "
     ]
    },
    {
     "name": "stdout",
     "output_type": "stream",
     "text": [
      "\rnumpy-1.23.2         | 7.1 MB    | #######4   |  74% "
     ]
    },
    {
     "name": "stdout",
     "output_type": "stream",
     "text": [
      "\rnumpy-1.23.2         | 7.1 MB    | #########1 |  92% "
     ]
    },
    {
     "name": "stdout",
     "output_type": "stream",
     "text": [
      "\rnumpy-1.23.2         | 7.1 MB    | ########## | 100% \n",
      "\rca-certificates-2022 | 150 KB    |            |   0% \rca-certificates-2022 | 150 KB    | ########## | 100% \n",
      "\rlibopenblas-0.3.21   | 10.1 MB   |            |   0% "
     ]
    },
    {
     "name": "stdout",
     "output_type": "stream",
     "text": [
      "\rlibopenblas-0.3.21   | 10.1 MB   | 8          |   8% "
     ]
    },
    {
     "name": "stdout",
     "output_type": "stream",
     "text": [
      "\rlibopenblas-0.3.21   | 10.1 MB   | #8         |  19% "
     ]
    },
    {
     "name": "stdout",
     "output_type": "stream",
     "text": [
      "\rlibopenblas-0.3.21   | 10.1 MB   | ###1       |  32% "
     ]
    },
    {
     "name": "stdout",
     "output_type": "stream",
     "text": [
      "\rlibopenblas-0.3.21   | 10.1 MB   | ####2      |  43% "
     ]
    },
    {
     "name": "stdout",
     "output_type": "stream",
     "text": [
      "\rlibopenblas-0.3.21   | 10.1 MB   | #####3     |  54% "
     ]
    },
    {
     "name": "stdout",
     "output_type": "stream",
     "text": [
      "\rlibopenblas-0.3.21   | 10.1 MB   | ######4    |  65% "
     ]
    },
    {
     "name": "stdout",
     "output_type": "stream",
     "text": [
      "\rlibopenblas-0.3.21   | 10.1 MB   | #######5   |  76% "
     ]
    },
    {
     "name": "stdout",
     "output_type": "stream",
     "text": [
      "\rlibopenblas-0.3.21   | 10.1 MB   | ########6  |  87% "
     ]
    },
    {
     "name": "stdout",
     "output_type": "stream",
     "text": [
      "\rlibopenblas-0.3.21   | 10.1 MB   | #########8 |  98% "
     ]
    },
    {
     "name": "stdout",
     "output_type": "stream",
     "text": [
      "\rlibopenblas-0.3.21   | 10.1 MB   | ########## | 100% \n",
      "\rlibgfortran5-12.1.0  | 1.8 MB    |            |   0% "
     ]
    },
    {
     "name": "stdout",
     "output_type": "stream",
     "text": [
      "\rlibgfortran5-12.1.0  | 1.8 MB    | ####2      |  43% "
     ]
    },
    {
     "name": "stdout",
     "output_type": "stream",
     "text": [
      "\rlibgfortran5-12.1.0  | 1.8 MB    | ########## | 100% \rlibgfortran5-12.1.0  | 1.8 MB    | ########## | 100% \n",
      "Preparing transaction: ...working... "
     ]
    },
    {
     "name": "stdout",
     "output_type": "stream",
     "text": [
      "done\n",
      "Verifying transaction: ...working... "
     ]
    },
    {
     "name": "stdout",
     "output_type": "stream",
     "text": [
      "done\n",
      "Executing transaction: ...working... "
     ]
    },
    {
     "name": "stdout",
     "output_type": "stream",
     "text": [
      "done\n"
     ]
    },
    {
     "name": "stdout",
     "output_type": "stream",
     "text": [
      "Retrieving notices: ...working... "
     ]
    },
    {
     "name": "stdout",
     "output_type": "stream",
     "text": [
      "done\n"
     ]
    }
   ],
   "source": [
    "# numpy\n",
    "using Conda\n",
    "Conda.add(\"numpy\")"
   ]
  },
  {
   "cell_type": "code",
   "execution_count": 72,
   "metadata": {},
   "outputs": [
    {
     "data": {
      "text/plain": [
       "BenchmarkTools.Trial: 612 samples with 1 evaluation.\n",
       " Range \u001b[90m(\u001b[39m\u001b[36m\u001b[1mmin\u001b[22m\u001b[39m … \u001b[35mmax\u001b[39m\u001b[90m):  \u001b[39m\u001b[36m\u001b[1m6.444 ms\u001b[22m\u001b[39m … \u001b[35m 12.393 ms\u001b[39m  \u001b[90m┊\u001b[39m GC \u001b[90m(\u001b[39mmin … max\u001b[90m): \u001b[39m0.00% … 0.00%\n",
       " Time  \u001b[90m(\u001b[39m\u001b[34m\u001b[1mmedian\u001b[22m\u001b[39m\u001b[90m):     \u001b[39m\u001b[34m\u001b[1m8.138 ms               \u001b[22m\u001b[39m\u001b[90m┊\u001b[39m GC \u001b[90m(\u001b[39mmedian\u001b[90m):    \u001b[39m0.00%\n",
       " Time  \u001b[90m(\u001b[39m\u001b[32m\u001b[1mmean\u001b[22m\u001b[39m ± \u001b[32mσ\u001b[39m\u001b[90m):   \u001b[39m\u001b[32m\u001b[1m8.152 ms\u001b[22m\u001b[39m ± \u001b[32m881.341 μs\u001b[39m  \u001b[90m┊\u001b[39m GC \u001b[90m(\u001b[39mmean ± σ\u001b[90m):  \u001b[39m0.00% ± 0.00%\n",
       "\n",
       "  \u001b[39m \u001b[39m \u001b[39m \u001b[39m \u001b[39m \u001b[39m▂\u001b[39m \u001b[39m \u001b[39m▅\u001b[39m▁\u001b[39m▁\u001b[39m \u001b[39m▂\u001b[39m \u001b[39m▁\u001b[39m▄\u001b[39m \u001b[39m \u001b[39m \u001b[39m \u001b[39m \u001b[39m \u001b[39m▇\u001b[39m▂\u001b[39m▇\u001b[39m▃\u001b[39m▄\u001b[34m▇\u001b[39m\u001b[39m▇\u001b[39m█\u001b[39m▄\u001b[39m \u001b[39m▂\u001b[39m \u001b[39m \u001b[39m \u001b[39m \u001b[39m \u001b[39m \u001b[39m▃\u001b[39m \u001b[39m▁\u001b[39m \u001b[39m▂\u001b[39m \u001b[39m \u001b[39m \u001b[39m \u001b[39m \u001b[39m \u001b[39m \u001b[39m \u001b[39m \u001b[39m \u001b[39m \u001b[39m \u001b[39m \u001b[39m \u001b[39m \u001b[39m \u001b[39m \n",
       "  \u001b[39m▃\u001b[39m▃\u001b[39m▃\u001b[39m▅\u001b[39m▄\u001b[39m█\u001b[39m▅\u001b[39m▇\u001b[39m█\u001b[39m█\u001b[39m█\u001b[39m▆\u001b[39m█\u001b[39m▇\u001b[39m█\u001b[39m█\u001b[39m█\u001b[39m█\u001b[39m▆\u001b[39m█\u001b[39m▅\u001b[39m█\u001b[39m█\u001b[39m█\u001b[39m█\u001b[39m█\u001b[39m█\u001b[34m█\u001b[39m\u001b[39m█\u001b[39m█\u001b[39m█\u001b[39m█\u001b[39m█\u001b[39m▆\u001b[39m▆\u001b[39m█\u001b[39m▇\u001b[39m▆\u001b[39m▇\u001b[39m█\u001b[39m▆\u001b[39m█\u001b[39m▆\u001b[39m█\u001b[39m█\u001b[39m▇\u001b[39m▅\u001b[39m▆\u001b[39m▄\u001b[39m▄\u001b[39m▅\u001b[39m▃\u001b[39m▄\u001b[39m▄\u001b[39m▃\u001b[39m▄\u001b[39m▁\u001b[39m▃\u001b[39m▃\u001b[39m \u001b[39m▅\n",
       "  6.44 ms\u001b[90m         Histogram: frequency by time\u001b[39m        10.2 ms \u001b[0m\u001b[1m<\u001b[22m\n",
       "\n",
       " Memory estimate\u001b[90m: \u001b[39m\u001b[33m32 bytes\u001b[39m, allocs estimate\u001b[90m: \u001b[39m\u001b[33m2\u001b[39m."
      ]
     },
     "metadata": {},
     "output_type": "display_data"
    }
   ],
   "source": [
    "numpy_sum = pyimport(\"numpy\")[\"sum\"]\n",
    "apy_numpy = PyObject(a)\n",
    "\n",
    "np_bench = @benchmark numpy_sum(apy_numpy)"
   ]
  },
  {
   "cell_type": "markdown",
   "metadata": {},
   "source": [
    "# Basic LinAlg"
   ]
  },
  {
   "cell_type": "code",
   "execution_count": 74,
   "metadata": {},
   "outputs": [
    {
     "data": {
      "text/plain": [
       "3×3 Matrix{Int64}:\n",
       " 3  3  1\n",
       " 4  4  4\n",
       " 2  3  3"
      ]
     },
     "metadata": {},
     "output_type": "display_data"
    }
   ],
   "source": [
    "A = rand(1:4, 3, 3)"
   ]
  },
  {
   "cell_type": "code",
   "execution_count": 83,
   "metadata": {},
   "outputs": [
    {
     "data": {
      "text/plain": [
       "3×6 Matrix{Int64}:\n",
       " 17  3  1  17  3  1\n",
       "  4  4  4   4  4  4\n",
       "  2  3  3   2  3  3"
      ]
     },
     "metadata": {},
     "output_type": "display_data"
    }
   ],
   "source": [
    "B = A # here B and A reference the same object in memory, so changes to A will reflect in B and vice versa\n",
    "C = copy(A) # new object\n",
    "[B C]"
   ]
  },
  {
   "cell_type": "code",
   "execution_count": 84,
   "metadata": {},
   "outputs": [
    {
     "data": {
      "text/plain": [
       "17"
      ]
     },
     "metadata": {},
     "output_type": "display_data"
    }
   ],
   "source": [
    "A[1, 1] = 17"
   ]
  },
  {
   "cell_type": "code",
   "execution_count": 85,
   "metadata": {},
   "outputs": [
    {
     "data": {
      "text/plain": [
       "3×3 Matrix{Int64}:\n",
       " 17  3  1\n",
       "  4  4  4\n",
       "  2  3  3"
      ]
     },
     "metadata": {},
     "output_type": "display_data"
    }
   ],
   "source": [
    "A"
   ]
  },
  {
   "cell_type": "code",
   "execution_count": 86,
   "metadata": {},
   "outputs": [
    {
     "data": {
      "text/plain": [
       "3×6 Matrix{Int64}:\n",
       " 17  3  1  17  3  1\n",
       "  4  4  4   4  4  4\n",
       "  2  3  3   2  3  3"
      ]
     },
     "metadata": {},
     "output_type": "display_data"
    }
   ],
   "source": [
    "[B C]"
   ]
  },
  {
   "cell_type": "code",
   "execution_count": 87,
   "metadata": {},
   "outputs": [
    {
     "data": {
      "text/plain": [
       "3-element Vector{Float64}:\n",
       " 1.0\n",
       " 1.0\n",
       " 1.0"
      ]
     },
     "metadata": {},
     "output_type": "display_data"
    }
   ],
   "source": [
    "x = ones(3)"
   ]
  },
  {
   "cell_type": "code",
   "execution_count": 88,
   "metadata": {},
   "outputs": [
    {
     "data": {
      "text/plain": [
       "3-element Vector{Float64}:\n",
       " 21.0\n",
       " 12.0\n",
       "  8.0"
      ]
     },
     "metadata": {},
     "output_type": "display_data"
    }
   ],
   "source": [
    "b = A * x"
   ]
  },
  {
   "cell_type": "code",
   "execution_count": 89,
   "metadata": {},
   "outputs": [
    {
     "data": {
      "text/plain": [
       "3×3 Matrix{Int64}:\n",
       " 34  7  3\n",
       "  7  8  7\n",
       "  3  7  6"
      ]
     },
     "metadata": {},
     "output_type": "display_data"
    }
   ],
   "source": [
    "Asym = A + A'"
   ]
  },
  {
   "cell_type": "code",
   "execution_count": 90,
   "metadata": {},
   "outputs": [
    {
     "data": {
      "text/plain": [
       "3×3 Matrix{Int64}:\n",
       " 309  73  39\n",
       "  73  34  28\n",
       "  39  28  26"
      ]
     },
     "metadata": {},
     "output_type": "display_data"
    }
   ],
   "source": [
    "Apd = A'A"
   ]
  },
  {
   "cell_type": "code",
   "execution_count": 92,
   "metadata": {},
   "outputs": [
    {
     "data": {
      "text/plain": [
       "3-element Vector{Float64}:\n",
       " 1.0000000000000004\n",
       " 0.9999999999999964\n",
       " 1.000000000000003"
      ]
     },
     "metadata": {},
     "output_type": "display_data"
    }
   ],
   "source": [
    "# solving linear systems can be as simple as\n",
    "A \\ b # this solves Ax = b"
   ]
  },
  {
   "cell_type": "code",
   "execution_count": 93,
   "metadata": {},
   "outputs": [
    {
     "data": {
      "text/plain": [
       "3×2 Matrix{Int64}:\n",
       " 17  3\n",
       "  4  4\n",
       "  2  3"
      ]
     },
     "metadata": {},
     "output_type": "display_data"
    }
   ],
   "source": [
    "# if there is not a unique solution?\n",
    "Atall = A[:, 1:2]"
   ]
  },
  {
   "cell_type": "code",
   "execution_count": 94,
   "metadata": {},
   "outputs": [
    {
     "data": {
      "text/plain": [
       "2-element Vector{Float64}:\n",
       " 0.8613096387869426\n",
       " 2.121305775545683"
      ]
     },
     "metadata": {},
     "output_type": "display_data"
    }
   ],
   "source": [
    "Atall \\ b # it also works for rand deficient matrix!"
   ]
  },
  {
   "cell_type": "code",
   "execution_count": 95,
   "metadata": {},
   "outputs": [
    {
     "data": {
      "text/plain": [
       "3×3 Matrix{Float64}:\n",
       " -0.463926   0.30945    0.368831\n",
       " -0.147648  -0.425539  -0.239908\n",
       " -1.22545   -1.60859    0.985376"
      ]
     },
     "metadata": {},
     "output_type": "display_data"
    }
   ],
   "source": [
    "A = randn(3, 3)"
   ]
  },
  {
   "cell_type": "code",
   "execution_count": 96,
   "metadata": {},
   "outputs": [
    {
     "data": {
      "text/plain": [
       "3×2 Matrix{Float64}:\n",
       " -0.463926  -0.463926\n",
       " -0.147648  -0.147648\n",
       " -1.22545   -1.22545"
      ]
     },
     "metadata": {},
     "output_type": "display_data"
    }
   ],
   "source": [
    "Singular = [A[:, 1] A[:, 1]]"
   ]
  },
  {
   "cell_type": "code",
   "execution_count": 98,
   "metadata": {},
   "outputs": [
    {
     "data": {
      "text/plain": [
       "2-element Vector{Float64}:\n",
       " -6.1302253266613995\n",
       " -6.130225326661403"
      ]
     },
     "metadata": {},
     "output_type": "display_data"
    }
   ],
   "source": [
    "Singular \\ b # in this case julia yields the solution with the smallest norm "
   ]
  },
  {
   "cell_type": "markdown",
   "metadata": {},
   "source": [
    "# Factorizations"
   ]
  },
  {
   "cell_type": "code",
   "execution_count": 104,
   "metadata": {},
   "outputs": [],
   "source": [
    "using LinearAlgebra"
   ]
  },
  {
   "cell_type": "code",
   "execution_count": 105,
   "metadata": {},
   "outputs": [
    {
     "data": {
      "text/plain": [
       "3×3 Matrix{Float64}:\n",
       "  1.05582  -0.593841  -0.18566\n",
       " -1.0181    0.189658  -1.09987\n",
       "  1.74688   0.44029   -0.142958"
      ]
     },
     "metadata": {},
     "output_type": "display_data"
    }
   ],
   "source": [
    "A = randn(3, 3) # this is random normal (rand is uniform)"
   ]
  },
  {
   "cell_type": "code",
   "execution_count": 107,
   "metadata": {},
   "outputs": [
    {
     "data": {
      "text/plain": [
       "LU{Float64, Matrix{Float64}, Vector{Int64}}\n",
       "L factor:\n",
       "3×3 Matrix{Float64}:\n",
       "  1.0        0.0       0.0\n",
       "  0.604407   1.0       0.0\n",
       " -0.582812  -0.518939  1.0\n",
       "U factor:\n",
       "3×3 Matrix{Float64}:\n",
       " 1.74688   0.44029   -0.142958\n",
       " 0.0      -0.859955  -0.0992549\n",
       " 0.0       0.0       -1.2347"
      ]
     },
     "metadata": {},
     "output_type": "display_data"
    }
   ],
   "source": [
    "# LU decomposition (remember PA = LU) * P is the Permutation matrix\n",
    "l, u, p = lu(A)"
   ]
  },
  {
   "cell_type": "code",
   "execution_count": 108,
   "metadata": {},
   "outputs": [
    {
     "data": {
      "text/plain": [
       "3-element Vector{Int64}:\n",
       " 3\n",
       " 1\n",
       " 2"
      ]
     },
     "metadata": {},
     "output_type": "display_data"
    }
   ],
   "source": [
    "p"
   ]
  },
  {
   "cell_type": "code",
   "execution_count": 109,
   "metadata": {},
   "outputs": [
    {
     "data": {
      "text/plain": [
       "3×3 Matrix{Float64}:\n",
       "  1.0        0.0       0.0\n",
       "  0.604407   1.0       0.0\n",
       " -0.582812  -0.518939  1.0"
      ]
     },
     "metadata": {},
     "output_type": "display_data"
    }
   ],
   "source": [
    "l"
   ]
  },
  {
   "cell_type": "code",
   "execution_count": 110,
   "metadata": {},
   "outputs": [
    {
     "data": {
      "text/plain": [
       "3×3 Matrix{Float64}:\n",
       " 1.74688   0.44029   -0.142958\n",
       " 0.0      -0.859955  -0.0992549\n",
       " 0.0       0.0       -1.2347"
      ]
     },
     "metadata": {},
     "output_type": "display_data"
    }
   ],
   "source": [
    "u"
   ]
  },
  {
   "cell_type": "code",
   "execution_count": 113,
   "metadata": {},
   "outputs": [
    {
     "data": {
      "text/plain": [
       "3×3 Matrix{Float64}:\n",
       "  1.74688   0.44029   -0.142958\n",
       "  1.05582  -0.593841  -0.18566\n",
       " -1.0181    0.189658  -1.09987"
      ]
     },
     "metadata": {},
     "output_type": "display_data"
    }
   ],
   "source": [
    "# pivoting is on by default so we cannot assume A == LU\n",
    "l*u"
   ]
  },
  {
   "cell_type": "code",
   "execution_count": 118,
   "metadata": {},
   "outputs": [
    {
     "data": {
      "text/plain": [
       "3×3 Matrix{Float64}:\n",
       "  1.05582  -0.593841  -0.18566\n",
       " -1.0181    0.189658  -1.09987\n",
       "  1.74688   0.44029   -0.142958"
      ]
     },
     "metadata": {},
     "output_type": "display_data"
    }
   ],
   "source": [
    "A"
   ]
  },
  {
   "cell_type": "code",
   "execution_count": 119,
   "metadata": {},
   "outputs": [
    {
     "data": {
      "text/plain": [
       "3×3 Matrix{Float64}:\n",
       "  1.74688   0.44029   -0.142958\n",
       "  1.05582  -0.593841  -0.18566\n",
       " -1.0181    0.189658  -1.09987"
      ]
     },
     "metadata": {},
     "output_type": "display_data"
    }
   ],
   "source": [
    "# but if we first pivot a we get the correct result\n",
    "A[p,:] # notice the notation here for pivoting\n",
    "# since p = [3, 1, 2] the pivot operation is saying, row 3 then 1 then 2 and all columns of A"
   ]
  },
  {
   "cell_type": "code",
   "execution_count": 126,
   "metadata": {},
   "outputs": [
    {
     "data": {
      "text/plain": [
       "3-element Vector{Float64}:\n",
       "  0.27632263808599494\n",
       " -1.9283125745836953\n",
       "  2.0442075989630824"
      ]
     },
     "metadata": {},
     "output_type": "display_data"
    }
   ],
   "source": [
    "# solving systems can then be performed as follows\n",
    "x = ones(3)\n",
    "b = A * x"
   ]
  },
  {
   "cell_type": "code",
   "execution_count": 167,
   "metadata": {},
   "outputs": [
    {
     "data": {
      "text/plain": [
       "3×3 Matrix{Float64}:\n",
       "  1.05582  -0.593841  -0.18566\n",
       " -1.0181    0.189658  -1.09987\n",
       "  1.74688   0.44029   -0.142958"
      ]
     },
     "metadata": {},
     "output_type": "display_data"
    },
    {
     "data": {
      "text/plain": [
       "LU{Float64, Matrix{Float64}, Vector{Int64}}\n",
       "L factor:\n",
       "3×3 Matrix{Float64}:\n",
       "  1.0        0.0      0.0\n",
       " -0.964271   1.0      0.0\n",
       "  1.65451   -3.71524  1.0\n",
       "U factor:\n",
       "3×3 Matrix{Float64}:\n",
       " 1.05582  -0.593841  -0.18566\n",
       " 0.0      -0.382966  -1.2789\n",
       " 0.0       0.0       -4.58719"
      ]
     },
     "metadata": {},
     "output_type": "display_data"
    }
   ],
   "source": [
    "display(A)\n",
    "l, u, p = lu(A, NoPivot())"
   ]
  },
  {
   "cell_type": "code",
   "execution_count": 168,
   "metadata": {},
   "outputs": [
    {
     "data": {
      "text/plain": [
       "3×3 Matrix{Float64}:\n",
       "  1.05582  -0.593841  -0.18566\n",
       " -1.0181    0.189658  -1.09987\n",
       "  1.74688   0.44029   -0.142958"
      ]
     },
     "metadata": {},
     "output_type": "display_data"
    }
   ],
   "source": [
    "(l * u)"
   ]
  },
  {
   "cell_type": "code",
   "execution_count": 170,
   "metadata": {},
   "outputs": [
    {
     "data": {
      "text/plain": [
       "3-element Vector{Float64}:\n",
       "  0.27632263808599494\n",
       " -1.6618627947621496\n",
       " -4.587192549106617"
      ]
     },
     "metadata": {},
     "output_type": "display_data"
    }
   ],
   "source": [
    "u * x"
   ]
  },
  {
   "cell_type": "code",
   "execution_count": 171,
   "metadata": {},
   "outputs": [
    {
     "data": {
      "text/plain": [
       "3-element Vector{Float64}:\n",
       "  0.27632263808599494\n",
       " -1.6618627947621494\n",
       " -4.587192549106617"
      ]
     },
     "metadata": {},
     "output_type": "display_data"
    }
   ],
   "source": [
    "l \\ b"
   ]
  },
  {
   "cell_type": "code",
   "execution_count": 174,
   "metadata": {},
   "outputs": [
    {
     "data": {
      "text/plain": [
       "3-element Vector{Float64}:\n",
       " 0.9999999999999998\n",
       " 0.9999999999999997\n",
       " 1.0"
      ]
     },
     "metadata": {},
     "output_type": "display_data"
    }
   ],
   "source": [
    "l, u, p = lu(A, NoPivot())\n",
    "# PA = LU\n",
    "# A = P'LU\n",
    "# then\n",
    "# b = P'LUx\n",
    "# LUx = Pb\n",
    "# Ux = L \\ Pb\n",
    "# x = U \\ L \\ Pb\n",
    "\n",
    "u \\ (l \\ b[p])"
   ]
  },
  {
   "cell_type": "code",
   "execution_count": 177,
   "metadata": {},
   "outputs": [
    {
     "data": {
      "text/plain": [
       "3-element Vector{Float64}:\n",
       " 1.0\n",
       " 1.0000000000000002\n",
       " 0.9999999999999998"
      ]
     },
     "metadata": {},
     "output_type": "display_data"
    }
   ],
   "source": [
    "(l * u) \\ b[p]"
   ]
  },
  {
   "cell_type": "code",
   "execution_count": 178,
   "metadata": {},
   "outputs": [
    {
     "data": {
      "text/plain": [
       "1.8548035720980491"
      ]
     },
     "metadata": {},
     "output_type": "display_data"
    }
   ],
   "source": [
    "det(A)"
   ]
  },
  {
   "cell_type": "code",
   "execution_count": 180,
   "metadata": {},
   "outputs": [
    {
     "data": {
      "text/plain": [
       "1.8548035720980491"
      ]
     },
     "metadata": {},
     "output_type": "display_data"
    }
   ],
   "source": [
    "det(l * u)"
   ]
  },
  {
   "cell_type": "code",
   "execution_count": 181,
   "metadata": {},
   "outputs": [
    {
     "data": {
      "text/plain": [
       "LinearAlgebra.QRCompactWY{Float64, Matrix{Float64}, Matrix{Float64}}\n",
       "Q factor:\n",
       "3×3 LinearAlgebra.QRCompactWYQ{Float64, Matrix{Float64}, Matrix{Float64}}:\n",
       " -0.462882   0.764875  -0.448003\n",
       "  0.446343  -0.235542  -0.863306\n",
       " -0.765845  -0.599572  -0.232369\n",
       "R factor:\n",
       "3×3 Matrix{Float64}:\n",
       " -2.28098   0.0223367  -0.295498\n",
       "  0.0      -0.762872    0.202773\n",
       "  0.0       0.0         1.06592"
      ]
     },
     "metadata": {},
     "output_type": "display_data"
    }
   ],
   "source": [
    "# QR factorization\n",
    "Aqr = qr(A)"
   ]
  },
  {
   "cell_type": "code",
   "execution_count": 185,
   "metadata": {},
   "outputs": [
    {
     "data": {
      "text/plain": [
       "3×3 Matrix{Float64}:\n",
       "  1.05582  -0.593841  -0.18566\n",
       " -1.0181    0.189658  -1.09987\n",
       "  1.74688   0.44029   -0.142958"
      ]
     },
     "metadata": {},
     "output_type": "display_data"
    }
   ],
   "source": [
    "A"
   ]
  },
  {
   "cell_type": "code",
   "execution_count": 184,
   "metadata": {},
   "outputs": [
    {
     "data": {
      "text/plain": [
       "3×3 Matrix{Float64}:\n",
       "  1.05582  -0.593841  -0.18566\n",
       " -1.0181    0.189658  -1.09987\n",
       "  1.74688   0.44029   -0.142958"
      ]
     },
     "metadata": {},
     "output_type": "display_data"
    }
   ],
   "source": [
    "Aqr.Q * Aqr.R"
   ]
  },
  {
   "cell_type": "code",
   "execution_count": 186,
   "metadata": {},
   "outputs": [
    {
     "data": {
      "text/plain": [
       "3-element Vector{Float64}:\n",
       " 1.0000000000000002\n",
       " 0.9999999999999991\n",
       " 0.9999999999999997"
      ]
     },
     "metadata": {},
     "output_type": "display_data"
    }
   ],
   "source": [
    "(Aqr.Q * Aqr.R) \\ b"
   ]
  },
  {
   "cell_type": "markdown",
   "metadata": {},
   "source": [
    "# Eigen Decomposition and SVD"
   ]
  },
  {
   "cell_type": "code",
   "execution_count": 192,
   "metadata": {},
   "outputs": [
    {
     "data": {
      "text/plain": [
       "3×3 Diagonal{Int64, Vector{Int64}}:\n",
       " 1  ⋅  ⋅\n",
       " ⋅  2  ⋅\n",
       " ⋅  ⋅  3"
      ]
     },
     "metadata": {},
     "output_type": "display_data"
    },
    {
     "data": {
      "text/plain": [
       "Eigen{Float64, Int64, Matrix{Float64}, Vector{Int64}}\n",
       "values:\n",
       "3-element Vector{Int64}:\n",
       " 1\n",
       " 2\n",
       " 3\n",
       "vectors:\n",
       "3×3 Matrix{Float64}:\n",
       " 1.0  0.0  0.0\n",
       " 0.0  1.0  0.0\n",
       " 0.0  0.0  1.0"
      ]
     },
     "metadata": {},
     "output_type": "display_data"
    }
   ],
   "source": [
    "D = Diagonal([1, 2, 3])\n",
    "display(D)\n",
    "DEig = eigen(D)"
   ]
  },
  {
   "cell_type": "code",
   "execution_count": 193,
   "metadata": {},
   "outputs": [
    {
     "data": {
      "text/plain": [
       "SVD{Float64, Float64, Matrix{Float64}, Vector{Float64}}\n",
       "U factor:\n",
       "3×3 Matrix{Float64}:\n",
       " -0.442519  -0.190495  -0.876293\n",
       "  0.515372  -0.853707  -0.0746728\n",
       " -0.733872  -0.484661   0.475957\n",
       "singular values:\n",
       "3-element Vector{Float64}:\n",
       " 2.3057043913249182\n",
       " 1.0907729728785949\n",
       " 0.7374964403134963\n",
       "Vt factor:\n",
       "3×3 Matrix{Float64}:\n",
       " -0.986209    0.0162265  -0.16471\n",
       " -0.163748   -0.240362    0.956772\n",
       " -0.0240648   0.970548    0.239704"
      ]
     },
     "metadata": {},
     "output_type": "display_data"
    }
   ],
   "source": [
    "# singular value decomposition SVD\n",
    "S = svd(A)"
   ]
  },
  {
   "cell_type": "code",
   "execution_count": 194,
   "metadata": {},
   "outputs": [
    {
     "data": {
      "text/plain": [
       "3×3 Matrix{Float64}:\n",
       " -0.864194  -0.844664   0.583161\n",
       "  0.138976   1.56283   -1.47919\n",
       " -0.902463  -0.110518  -0.672286"
      ]
     },
     "metadata": {},
     "output_type": "display_data"
    }
   ],
   "source": [
    "# special matrix structures\n",
    "A = randn(3, 3)"
   ]
  },
  {
   "cell_type": "code",
   "execution_count": 195,
   "metadata": {},
   "outputs": [
    {
     "data": {
      "text/plain": [
       "3×3 Diagonal{Float64, Vector{Float64}}:\n",
       " -0.864194   ⋅         ⋅ \n",
       "   ⋅        1.56283    ⋅ \n",
       "   ⋅         ⋅       -0.672286"
      ]
     },
     "metadata": {},
     "output_type": "display_data"
    }
   ],
   "source": [
    "Diagonal(diag(A))"
   ]
  },
  {
   "cell_type": "code",
   "execution_count": 196,
   "metadata": {},
   "outputs": [
    {
     "data": {
      "text/plain": [
       "3×3 LowerTriangular{Float64, Matrix{Float64}}:\n",
       " -0.864194    ⋅          ⋅ \n",
       "  0.138976   1.56283     ⋅ \n",
       " -0.902463  -0.110518  -0.672286"
      ]
     },
     "metadata": {},
     "output_type": "display_data"
    }
   ],
   "source": [
    "LowerTriangular(A)"
   ]
  },
  {
   "cell_type": "code",
   "execution_count": 197,
   "metadata": {},
   "outputs": [
    {
     "data": {
      "text/plain": [
       "3×3 UpperTriangular{Float64, Matrix{Float64}}:\n",
       " -0.864194  -0.844664   0.583161\n",
       "   ⋅         1.56283   -1.47919\n",
       "   ⋅          ⋅        -0.672286"
      ]
     },
     "metadata": {},
     "output_type": "display_data"
    }
   ],
   "source": [
    "UpperTriangular(A)"
   ]
  },
  {
   "cell_type": "code",
   "execution_count": 199,
   "metadata": {},
   "outputs": [
    {
     "data": {
      "text/plain": [
       "3×3 Symmetric{Float64, Matrix{Float64}}:\n",
       " -0.864194  -0.844664   0.583161\n",
       " -0.844664   1.56283   -1.47919\n",
       "  0.583161  -1.47919   -0.672286"
      ]
     },
     "metadata": {},
     "output_type": "display_data"
    }
   ],
   "source": [
    "Symmetric(A) # this will flip by default along the upper triangular"
   ]
  },
  {
   "cell_type": "code",
   "execution_count": 200,
   "metadata": {},
   "outputs": [
    {
     "data": {
      "text/plain": [
       "3×3 SymTridiagonal{Float64, Vector{Float64}}:\n",
       " -1.72839   -0.705688    ⋅ \n",
       " -0.705688   3.12566   -1.58971\n",
       "   ⋅        -1.58971   -1.34457"
      ]
     },
     "metadata": {},
     "output_type": "display_data"
    }
   ],
   "source": [
    "SymTridiagonal(diag(A + A'), diag(A + A', 1))"
   ]
  },
  {
   "cell_type": "code",
   "execution_count": 205,
   "metadata": {},
   "outputs": [
    {
     "name": "stdout",
     "output_type": "stream",
     "text": [
      "Asym1 symmetric?: true\n",
      "Asym1 symmetric?: false\n"
     ]
    }
   ],
   "source": [
    "# symmetric eigenproblems\n",
    "n = 1000\n",
    "A = randn(n, n)\n",
    "Asym1 = A + A'\n",
    "Asym2 = copy(Asym1)\n",
    "Asym2[1, 2] += 5eps()\n",
    "println(\"Asym1 symmetric?: $(issymmetric(Asym1))\")\n",
    "println(\"Asym1 symmetric?: $(issymmetric(Asym2))\")"
   ]
  },
  {
   "cell_type": "code",
   "execution_count": 206,
   "metadata": {},
   "outputs": [
    {
     "name": "stdout",
     "output_type": "stream",
     "text": [
      "  0.375018 seconds (274.59 k allocations: 21.434 MiB, 73.11% compilation time)\n"
     ]
    },
    {
     "data": {
      "text/plain": [
       "1000-element Vector{Float64}:\n",
       " -88.38048788134319\n",
       " -87.36347776046871\n",
       " -86.91636812319646\n",
       " -86.65131721855238\n",
       " -86.05295944539765\n",
       " -85.67617275157814\n",
       " -85.26716021393126\n",
       " -84.59555986568995\n",
       " -84.26348372911751\n",
       " -83.96643538568152\n",
       "   ⋮\n",
       "  84.46335527784308\n",
       "  84.97233656709535\n",
       "  85.37228533941942\n",
       "  85.86921845441795\n",
       "  86.28736989856648\n",
       "  86.3500243036957\n",
       "  87.76767324067421\n",
       "  88.73993650803062\n",
       "  89.33987149111928"
      ]
     },
     "metadata": {},
     "output_type": "display_data"
    }
   ],
   "source": [
    "@time eigvals(Asym1)"
   ]
  },
  {
   "cell_type": "code",
   "execution_count": 207,
   "metadata": {},
   "outputs": [
    {
     "name": "stdout",
     "output_type": "stream",
     "text": [
      "  0.785564 seconds (13 allocations: 7.920 MiB, 1.59% gc time)\n"
     ]
    },
    {
     "data": {
      "text/plain": [
       "1000-element Vector{Float64}:\n",
       " -88.38048788134337\n",
       " -87.36347776046902\n",
       " -86.91636812319551\n",
       " -86.65131721855334\n",
       " -86.05295944539795\n",
       " -85.67617275157865\n",
       " -85.26716021393146\n",
       " -84.59555986569022\n",
       " -84.26348372911663\n",
       " -83.96643538568121\n",
       "   ⋮\n",
       "  84.46335527784291\n",
       "  84.97233656709558\n",
       "  85.37228533941934\n",
       "  85.86921845441789\n",
       "  86.2873698985673\n",
       "  86.35002430369549\n",
       "  87.76767324067319\n",
       "  88.73993650803088\n",
       "  89.33987149111942"
      ]
     },
     "metadata": {},
     "output_type": "display_data"
    }
   ],
   "source": [
    "@time eigvals(Asym2)"
   ]
  },
  {
   "cell_type": "code",
   "execution_count": 208,
   "metadata": {},
   "outputs": [],
   "source": [
    "# for symmetric matrices more optimised methods can be used"
   ]
  },
  {
   "cell_type": "code",
   "execution_count": 210,
   "metadata": {},
   "outputs": [
    {
     "data": {
      "text/plain": [
       "3×3 Matrix{Rational{Int64}}:\n",
       " 1//10  3//5   4//5\n",
       " 1//10  1//5   1//1\n",
       " 1//1   7//10  1//10"
      ]
     },
     "metadata": {},
     "output_type": "display_data"
    }
   ],
   "source": [
    "# rational systems of linear equations\n",
    "Ar = convert(Matrix{Rational{Int64}}, rand(1:10, 3, 3)) / 10"
   ]
  },
  {
   "cell_type": "code",
   "execution_count": 211,
   "metadata": {},
   "outputs": [
    {
     "data": {
      "text/plain": [
       "3-element Vector{Rational{Int64}}:\n",
       "  3//2\n",
       " 13//10\n",
       "  9//5"
      ]
     },
     "metadata": {},
     "output_type": "display_data"
    }
   ],
   "source": [
    "x = ones(Int, 3)\n",
    "b = Ar * x"
   ]
  },
  {
   "cell_type": "code",
   "execution_count": 212,
   "metadata": {},
   "outputs": [
    {
     "data": {
      "text/plain": [
       "3-element Vector{Rational{Int64}}:\n",
       " 1//1\n",
       " 1//1\n",
       " 1//1"
      ]
     },
     "metadata": {},
     "output_type": "display_data"
    }
   ],
   "source": [
    "Ar \\ b"
   ]
  },
  {
   "cell_type": "code",
   "execution_count": 213,
   "metadata": {},
   "outputs": [
    {
     "data": {
      "text/plain": [
       "LU{Rational{Int64}, Matrix{Rational{Int64}}, Vector{Int64}}\n",
       "L factor:\n",
       "3×3 Matrix{Rational{Int64}}:\n",
       " 1//1    0//1   0//1\n",
       " 1//10   1//1   0//1\n",
       " 1//10  13//53  1//1\n",
       "U factor:\n",
       "3×3 Matrix{Rational{Int64}}:\n",
       " 1//1   7//10     1//10\n",
       " 0//1  53//100   79//100\n",
       " 0//1   0//1    211//265"
      ]
     },
     "metadata": {},
     "output_type": "display_data"
    }
   ],
   "source": [
    "lu(Ar)"
   ]
  },
  {
   "cell_type": "code",
   "execution_count": 215,
   "metadata": {},
   "outputs": [
    {
     "data": {
      "text/plain": [
       "3×3 Matrix{Float64}:\n",
       " 1.0  0.0  0.0\n",
       " 0.0  0.5  0.0\n",
       " 0.0  0.0  0.25"
      ]
     },
     "metadata": {},
     "output_type": "display_data"
    }
   ],
   "source": [
    "λ₁, λ₂, λ₃ = 1, 0.5, 0.25\n",
    "v1, v2, v3 = [1, 0, 0], [0, 1, 0], [0, 0, 1]\n",
    "V, Λ = [v1 v2 v3], Diagonal([λ₁, λ₂, λ₃])\n",
    "A = V * (Λ / V)"
   ]
  },
  {
   "cell_type": "code",
   "execution_count": null,
   "metadata": {},
   "outputs": [],
   "source": []
  }
 ],
 "metadata": {
  "kernelspec": {
   "display_name": "Julia 1.8.0",
   "language": "julia",
   "name": "julia-1.8"
  },
  "language_info": {
   "file_extension": ".jl",
   "mimetype": "application/julia",
   "name": "julia",
   "version": "1.8.0"
  },
  "orig_nbformat": 4
 },
 "nbformat": 4,
 "nbformat_minor": 2
}
